{
 "cells": [
  {
   "cell_type": "code",
   "execution_count": 1,
   "id": "aae3e202-7db9-4cb6-9f60-1ae90d552d2d",
   "metadata": {},
   "outputs": [],
   "source": [
    "import pandas as pd\n",
    "import numpy as np\n",
    "import matplotlib.pyplot as plt\n",
    "import seaborn as sns\n",
    "\n",
    "import warnings\n",
    "warnings.filterwarnings('ignore')"
   ]
  },
  {
   "cell_type": "code",
   "execution_count": 2,
   "id": "9bc4bd74-d719-473c-92d2-8a18176d3ca6",
   "metadata": {},
   "outputs": [],
   "source": [
    "df=pd.read_csv('googleplaystore.csv')"
   ]
  },
  {
   "cell_type": "code",
   "execution_count": 3,
   "id": "6d9ad2c9-d316-4c1a-b345-8e1529ea66ce",
   "metadata": {},
   "outputs": [
    {
     "data": {
      "text/html": [
       "<div>\n",
       "<style scoped>\n",
       "    .dataframe tbody tr th:only-of-type {\n",
       "        vertical-align: middle;\n",
       "    }\n",
       "\n",
       "    .dataframe tbody tr th {\n",
       "        vertical-align: top;\n",
       "    }\n",
       "\n",
       "    .dataframe thead th {\n",
       "        text-align: right;\n",
       "    }\n",
       "</style>\n",
       "<table border=\"1\" class=\"dataframe\">\n",
       "  <thead>\n",
       "    <tr style=\"text-align: right;\">\n",
       "      <th></th>\n",
       "      <th>App</th>\n",
       "      <th>Category</th>\n",
       "      <th>Rating</th>\n",
       "      <th>Reviews</th>\n",
       "      <th>Size</th>\n",
       "      <th>Installs</th>\n",
       "      <th>Type</th>\n",
       "      <th>Price</th>\n",
       "      <th>Content Rating</th>\n",
       "      <th>Genres</th>\n",
       "      <th>Last Updated</th>\n",
       "      <th>Current Ver</th>\n",
       "      <th>Android Ver</th>\n",
       "    </tr>\n",
       "  </thead>\n",
       "  <tbody>\n",
       "    <tr>\n",
       "      <th>0</th>\n",
       "      <td>Photo Editor &amp; Candy Camera &amp; Grid &amp; ScrapBook</td>\n",
       "      <td>ART_AND_DESIGN</td>\n",
       "      <td>4.1</td>\n",
       "      <td>159</td>\n",
       "      <td>19M</td>\n",
       "      <td>10,000+</td>\n",
       "      <td>Free</td>\n",
       "      <td>0</td>\n",
       "      <td>Everyone</td>\n",
       "      <td>Art &amp; Design</td>\n",
       "      <td>January 7, 2018</td>\n",
       "      <td>1.0.0</td>\n",
       "      <td>4.0.3 and up</td>\n",
       "    </tr>\n",
       "    <tr>\n",
       "      <th>1</th>\n",
       "      <td>Coloring book moana</td>\n",
       "      <td>ART_AND_DESIGN</td>\n",
       "      <td>3.9</td>\n",
       "      <td>967</td>\n",
       "      <td>14M</td>\n",
       "      <td>500,000+</td>\n",
       "      <td>Free</td>\n",
       "      <td>0</td>\n",
       "      <td>Everyone</td>\n",
       "      <td>Art &amp; Design;Pretend Play</td>\n",
       "      <td>January 15, 2018</td>\n",
       "      <td>2.0.0</td>\n",
       "      <td>4.0.3 and up</td>\n",
       "    </tr>\n",
       "    <tr>\n",
       "      <th>2</th>\n",
       "      <td>U Launcher Lite – FREE Live Cool Themes, Hide ...</td>\n",
       "      <td>ART_AND_DESIGN</td>\n",
       "      <td>4.7</td>\n",
       "      <td>87510</td>\n",
       "      <td>8.7M</td>\n",
       "      <td>5,000,000+</td>\n",
       "      <td>Free</td>\n",
       "      <td>0</td>\n",
       "      <td>Everyone</td>\n",
       "      <td>Art &amp; Design</td>\n",
       "      <td>August 1, 2018</td>\n",
       "      <td>1.2.4</td>\n",
       "      <td>4.0.3 and up</td>\n",
       "    </tr>\n",
       "    <tr>\n",
       "      <th>3</th>\n",
       "      <td>Sketch - Draw &amp; Paint</td>\n",
       "      <td>ART_AND_DESIGN</td>\n",
       "      <td>4.5</td>\n",
       "      <td>215644</td>\n",
       "      <td>25M</td>\n",
       "      <td>50,000,000+</td>\n",
       "      <td>Free</td>\n",
       "      <td>0</td>\n",
       "      <td>Teen</td>\n",
       "      <td>Art &amp; Design</td>\n",
       "      <td>June 8, 2018</td>\n",
       "      <td>Varies with device</td>\n",
       "      <td>4.2 and up</td>\n",
       "    </tr>\n",
       "    <tr>\n",
       "      <th>4</th>\n",
       "      <td>Pixel Draw - Number Art Coloring Book</td>\n",
       "      <td>ART_AND_DESIGN</td>\n",
       "      <td>4.3</td>\n",
       "      <td>967</td>\n",
       "      <td>2.8M</td>\n",
       "      <td>100,000+</td>\n",
       "      <td>Free</td>\n",
       "      <td>0</td>\n",
       "      <td>Everyone</td>\n",
       "      <td>Art &amp; Design;Creativity</td>\n",
       "      <td>June 20, 2018</td>\n",
       "      <td>1.1</td>\n",
       "      <td>4.4 and up</td>\n",
       "    </tr>\n",
       "  </tbody>\n",
       "</table>\n",
       "</div>"
      ],
      "text/plain": [
       "                                                 App        Category  Rating  \\\n",
       "0     Photo Editor & Candy Camera & Grid & ScrapBook  ART_AND_DESIGN     4.1   \n",
       "1                                Coloring book moana  ART_AND_DESIGN     3.9   \n",
       "2  U Launcher Lite – FREE Live Cool Themes, Hide ...  ART_AND_DESIGN     4.7   \n",
       "3                              Sketch - Draw & Paint  ART_AND_DESIGN     4.5   \n",
       "4              Pixel Draw - Number Art Coloring Book  ART_AND_DESIGN     4.3   \n",
       "\n",
       "  Reviews  Size     Installs  Type Price Content Rating  \\\n",
       "0     159   19M      10,000+  Free     0       Everyone   \n",
       "1     967   14M     500,000+  Free     0       Everyone   \n",
       "2   87510  8.7M   5,000,000+  Free     0       Everyone   \n",
       "3  215644   25M  50,000,000+  Free     0           Teen   \n",
       "4     967  2.8M     100,000+  Free     0       Everyone   \n",
       "\n",
       "                      Genres      Last Updated         Current Ver  \\\n",
       "0               Art & Design   January 7, 2018               1.0.0   \n",
       "1  Art & Design;Pretend Play  January 15, 2018               2.0.0   \n",
       "2               Art & Design    August 1, 2018               1.2.4   \n",
       "3               Art & Design      June 8, 2018  Varies with device   \n",
       "4    Art & Design;Creativity     June 20, 2018                 1.1   \n",
       "\n",
       "    Android Ver  \n",
       "0  4.0.3 and up  \n",
       "1  4.0.3 and up  \n",
       "2  4.0.3 and up  \n",
       "3    4.2 and up  \n",
       "4    4.4 and up  "
      ]
     },
     "execution_count": 3,
     "metadata": {},
     "output_type": "execute_result"
    }
   ],
   "source": [
    "df.head()"
   ]
  },
  {
   "cell_type": "markdown",
   "id": "6d9f2c20-19a7-4eb1-98ac-b5df0dad47e7",
   "metadata": {},
   "source": [
    "# Data Cleaning :::"
   ]
  },
  {
   "cell_type": "code",
   "execution_count": 4,
   "id": "e1aa7811-8147-40ab-990c-52bb04c4e1d3",
   "metadata": {},
   "outputs": [],
   "source": [
    "df_copy = df.copy()"
   ]
  },
  {
   "cell_type": "code",
   "execution_count": 5,
   "id": "757992e9-b32e-4e6e-9402-91db6adc0628",
   "metadata": {},
   "outputs": [
    {
     "data": {
      "text/plain": [
       "Index(['App', 'Category', 'Rating', 'Reviews', 'Size', 'Installs', 'Type',\n",
       "       'Price', 'Content Rating', 'Genres', 'Last Updated', 'Current Ver',\n",
       "       'Android Ver'],\n",
       "      dtype='object')"
      ]
     },
     "execution_count": 5,
     "metadata": {},
     "output_type": "execute_result"
    }
   ],
   "source": [
    "df_copy.columns"
   ]
  },
  {
   "cell_type": "code",
   "execution_count": 6,
   "id": "3ec32add-8084-409c-947b-9924e3750a25",
   "metadata": {},
   "outputs": [
    {
     "data": {
      "text/plain": [
       "array(['ART_AND_DESIGN', 'AUTO_AND_VEHICLES', 'BEAUTY',\n",
       "       'BOOKS_AND_REFERENCE', 'BUSINESS', 'COMICS', 'COMMUNICATION',\n",
       "       'DATING', 'EDUCATION', 'ENTERTAINMENT', 'EVENTS', 'FINANCE',\n",
       "       'FOOD_AND_DRINK', 'HEALTH_AND_FITNESS', 'HOUSE_AND_HOME',\n",
       "       'LIBRARIES_AND_DEMO', 'LIFESTYLE', 'GAME', 'FAMILY', 'MEDICAL',\n",
       "       'SOCIAL', 'SHOPPING', 'PHOTOGRAPHY', 'SPORTS', 'TRAVEL_AND_LOCAL',\n",
       "       'TOOLS', 'PERSONALIZATION', 'PRODUCTIVITY', 'PARENTING', 'WEATHER',\n",
       "       'VIDEO_PLAYERS', 'NEWS_AND_MAGAZINES', 'MAPS_AND_NAVIGATION',\n",
       "       '1.9'], dtype=object)"
      ]
     },
     "execution_count": 6,
     "metadata": {},
     "output_type": "execute_result"
    }
   ],
   "source": [
    "df_copy['Category'].unique()"
   ]
  },
  {
   "cell_type": "code",
   "execution_count": 7,
   "id": "68dc5f79-bfa8-4d68-9929-cfd72d81eb86",
   "metadata": {},
   "outputs": [
    {
     "data": {
      "text/html": [
       "<div>\n",
       "<style scoped>\n",
       "    .dataframe tbody tr th:only-of-type {\n",
       "        vertical-align: middle;\n",
       "    }\n",
       "\n",
       "    .dataframe tbody tr th {\n",
       "        vertical-align: top;\n",
       "    }\n",
       "\n",
       "    .dataframe thead th {\n",
       "        text-align: right;\n",
       "    }\n",
       "</style>\n",
       "<table border=\"1\" class=\"dataframe\">\n",
       "  <thead>\n",
       "    <tr style=\"text-align: right;\">\n",
       "      <th></th>\n",
       "      <th>App</th>\n",
       "      <th>Category</th>\n",
       "      <th>Rating</th>\n",
       "      <th>Reviews</th>\n",
       "      <th>Size</th>\n",
       "      <th>Installs</th>\n",
       "      <th>Type</th>\n",
       "      <th>Price</th>\n",
       "      <th>Content Rating</th>\n",
       "      <th>Genres</th>\n",
       "      <th>Last Updated</th>\n",
       "      <th>Current Ver</th>\n",
       "      <th>Android Ver</th>\n",
       "    </tr>\n",
       "  </thead>\n",
       "  <tbody>\n",
       "    <tr>\n",
       "      <th>10472</th>\n",
       "      <td>Life Made WI-Fi Touchscreen Photo Frame</td>\n",
       "      <td>1.9</td>\n",
       "      <td>19.0</td>\n",
       "      <td>3.0M</td>\n",
       "      <td>1,000+</td>\n",
       "      <td>Free</td>\n",
       "      <td>0</td>\n",
       "      <td>Everyone</td>\n",
       "      <td>NaN</td>\n",
       "      <td>February 11, 2018</td>\n",
       "      <td>1.0.19</td>\n",
       "      <td>4.0 and up</td>\n",
       "      <td>NaN</td>\n",
       "    </tr>\n",
       "  </tbody>\n",
       "</table>\n",
       "</div>"
      ],
      "text/plain": [
       "                                           App Category  Rating Reviews  \\\n",
       "10472  Life Made WI-Fi Touchscreen Photo Frame      1.9    19.0    3.0M   \n",
       "\n",
       "         Size Installs Type     Price Content Rating             Genres  \\\n",
       "10472  1,000+     Free    0  Everyone            NaN  February 11, 2018   \n",
       "\n",
       "      Last Updated Current Ver Android Ver  \n",
       "10472       1.0.19  4.0 and up         NaN  "
      ]
     },
     "execution_count": 7,
     "metadata": {},
     "output_type": "execute_result"
    }
   ],
   "source": [
    "df_copy[df_copy['Category']=='1.9']"
   ]
  },
  {
   "cell_type": "code",
   "execution_count": 8,
   "id": "2de1bf09-fee5-4d83-acb7-11934166d31c",
   "metadata": {},
   "outputs": [],
   "source": [
    "# Drop the non define row based on Category column"
   ]
  },
  {
   "cell_type": "code",
   "execution_count": 9,
   "id": "1f7b208c-bcf4-44f9-aabc-b56f5202ed3c",
   "metadata": {},
   "outputs": [],
   "source": [
    "df_copy.drop([10472], inplace=True) # drop the row by giving the index number "
   ]
  },
  {
   "cell_type": "code",
   "execution_count": 10,
   "id": "c519e786-5fb9-4baf-a936-22015c8b2952",
   "metadata": {},
   "outputs": [
    {
     "data": {
      "text/plain": [
       "(10840, 13)"
      ]
     },
     "execution_count": 10,
     "metadata": {},
     "output_type": "execute_result"
    }
   ],
   "source": [
    "df_copy.shape"
   ]
  },
  {
   "cell_type": "code",
   "execution_count": 11,
   "id": "c93a32a7-ad14-452d-9687-62c98d66ece9",
   "metadata": {},
   "outputs": [
    {
     "data": {
      "text/plain": [
       "483"
      ]
     },
     "execution_count": 11,
     "metadata": {},
     "output_type": "execute_result"
    }
   ],
   "source": [
    "# see the duplicated values and drop the duplicated values\n",
    "df_copy.duplicated().sum()"
   ]
  },
  {
   "cell_type": "code",
   "execution_count": 12,
   "id": "eb0bbeb1-4e7c-4c96-ac1a-77487170e684",
   "metadata": {},
   "outputs": [],
   "source": [
    "df_copy.drop_duplicates(inplace=True)"
   ]
  },
  {
   "cell_type": "code",
   "execution_count": 13,
   "id": "c90284f7-2a47-49a9-82d0-57b3ccb375bc",
   "metadata": {},
   "outputs": [],
   "source": [
    "df_copy.reset_index(drop=True,inplace=True) # reset index "
   ]
  },
  {
   "cell_type": "code",
   "execution_count": 14,
   "id": "fe5ee4d9-26a4-4b48-9191-233f898554ce",
   "metadata": {},
   "outputs": [
    {
     "data": {
      "text/html": [
       "<div>\n",
       "<style scoped>\n",
       "    .dataframe tbody tr th:only-of-type {\n",
       "        vertical-align: middle;\n",
       "    }\n",
       "\n",
       "    .dataframe tbody tr th {\n",
       "        vertical-align: top;\n",
       "    }\n",
       "\n",
       "    .dataframe thead th {\n",
       "        text-align: right;\n",
       "    }\n",
       "</style>\n",
       "<table border=\"1\" class=\"dataframe\">\n",
       "  <thead>\n",
       "    <tr style=\"text-align: right;\">\n",
       "      <th></th>\n",
       "      <th>App</th>\n",
       "      <th>Category</th>\n",
       "      <th>Rating</th>\n",
       "      <th>Reviews</th>\n",
       "      <th>Size</th>\n",
       "      <th>Installs</th>\n",
       "      <th>Type</th>\n",
       "      <th>Price</th>\n",
       "      <th>Content Rating</th>\n",
       "      <th>Genres</th>\n",
       "      <th>Last Updated</th>\n",
       "      <th>Current Ver</th>\n",
       "      <th>Android Ver</th>\n",
       "    </tr>\n",
       "  </thead>\n",
       "  <tbody>\n",
       "  </tbody>\n",
       "</table>\n",
       "</div>"
      ],
      "text/plain": [
       "Empty DataFrame\n",
       "Columns: [App, Category, Rating, Reviews, Size, Installs, Type, Price, Content Rating, Genres, Last Updated, Current Ver, Android Ver]\n",
       "Index: []"
      ]
     },
     "execution_count": 14,
     "metadata": {},
     "output_type": "execute_result"
    }
   ],
   "source": [
    "df_copy[df_copy['Category']=='1.9']"
   ]
  },
  {
   "cell_type": "code",
   "execution_count": 15,
   "id": "0b0263c5-e9ae-40f9-867e-a4cc29c3717e",
   "metadata": {},
   "outputs": [
    {
     "data": {
      "text/plain": [
       "(10357, 13)"
      ]
     },
     "execution_count": 15,
     "metadata": {},
     "output_type": "execute_result"
    }
   ],
   "source": [
    "df_copy.shape"
   ]
  },
  {
   "cell_type": "code",
   "execution_count": 16,
   "id": "664bb3f6-2850-4ec2-8b4f-413651aa7b96",
   "metadata": {},
   "outputs": [
    {
     "name": "stdout",
     "output_type": "stream",
     "text": [
      "App: has unique values : ['Photo Editor & Candy Camera & Grid & ScrapBook' 'Coloring book moana'\n",
      " 'U Launcher Lite – FREE Live Cool Themes, Hide Apps' ...\n",
      " 'Parkinson Exercices FR' 'The SCP Foundation DB fr nn5n'\n",
      " 'iHoroscope - 2018 Daily Horoscope & Astrology']\n",
      "Category: has unique values : ['ART_AND_DESIGN' 'AUTO_AND_VEHICLES' 'BEAUTY' 'BOOKS_AND_REFERENCE'\n",
      " 'BUSINESS' 'COMICS' 'COMMUNICATION' 'DATING' 'EDUCATION' 'ENTERTAINMENT'\n",
      " 'EVENTS' 'FINANCE' 'FOOD_AND_DRINK' 'HEALTH_AND_FITNESS' 'HOUSE_AND_HOME'\n",
      " 'LIBRARIES_AND_DEMO' 'LIFESTYLE' 'GAME' 'FAMILY' 'MEDICAL' 'SOCIAL'\n",
      " 'SHOPPING' 'PHOTOGRAPHY' 'SPORTS' 'TRAVEL_AND_LOCAL' 'TOOLS'\n",
      " 'PERSONALIZATION' 'PRODUCTIVITY' 'PARENTING' 'WEATHER' 'VIDEO_PLAYERS'\n",
      " 'NEWS_AND_MAGAZINES' 'MAPS_AND_NAVIGATION']\n",
      "Rating: has unique values : [4.1 3.9 4.7 4.5 4.3 4.4 3.8 4.2 4.6 3.2 4.  nan 4.8 4.9 3.6 3.7 3.3 3.4\n",
      " 3.5 3.1 5.  2.6 3.  1.9 2.5 2.8 2.7 1.  2.9 2.3 2.2 1.7 2.  1.8 2.4 1.6\n",
      " 2.1 1.4 1.5 1.2]\n",
      "Reviews: has unique values : ['159' '967' '87510' ... '603' '1195' '398307']\n",
      "Size: has unique values : ['19M' '14M' '8.7M' '25M' '2.8M' '5.6M' '29M' '33M' '3.1M' '28M' '12M'\n",
      " '20M' '21M' '37M' '2.7M' '5.5M' '17M' '39M' '31M' '4.2M' '7.0M' '23M'\n",
      " '6.0M' '6.1M' '4.6M' '9.2M' '5.2M' '11M' '24M' 'Varies with device'\n",
      " '9.4M' '15M' '10M' '1.2M' '26M' '8.0M' '7.9M' '56M' '57M' '35M' '54M'\n",
      " '201k' '3.6M' '5.7M' '8.6M' '2.4M' '27M' '2.5M' '16M' '3.4M' '8.9M'\n",
      " '3.9M' '2.9M' '38M' '32M' '5.4M' '18M' '1.1M' '2.2M' '4.5M' '9.8M' '52M'\n",
      " '9.0M' '6.7M' '30M' '2.6M' '7.1M' '3.7M' '22M' '7.4M' '6.4M' '3.2M'\n",
      " '8.2M' '9.9M' '4.9M' '9.5M' '5.0M' '5.9M' '13M' '73M' '6.8M' '3.5M'\n",
      " '4.0M' '2.3M' '7.2M' '2.1M' '42M' '7.3M' '9.1M' '55M' '23k' '6.5M' '1.5M'\n",
      " '7.5M' '51M' '41M' '48M' '8.5M' '46M' '8.3M' '4.3M' '4.7M' '3.3M' '40M'\n",
      " '7.8M' '8.8M' '6.6M' '5.1M' '61M' '66M' '79k' '8.4M' '118k' '44M' '695k'\n",
      " '1.6M' '6.2M' '18k' '53M' '1.4M' '3.0M' '5.8M' '3.8M' '9.6M' '45M' '63M'\n",
      " '49M' '77M' '4.4M' '4.8M' '70M' '6.9M' '9.3M' '10.0M' '8.1M' '36M' '84M'\n",
      " '97M' '2.0M' '1.9M' '1.8M' '5.3M' '47M' '556k' '526k' '76M' '7.6M' '59M'\n",
      " '9.7M' '78M' '72M' '43M' '7.7M' '6.3M' '334k' '34M' '93M' '65M' '79M'\n",
      " '100M' '58M' '50M' '68M' '64M' '67M' '60M' '94M' '232k' '99M' '624k'\n",
      " '95M' '8.5k' '41k' '292k' '11k' '80M' '1.7M' '74M' '62M' '69M' '75M'\n",
      " '98M' '85M' '82M' '96M' '87M' '71M' '86M' '91M' '81M' '92M' '83M' '88M'\n",
      " '704k' '862k' '899k' '378k' '266k' '375k' '1.3M' '975k' '980k' '4.1M'\n",
      " '89M' '696k' '544k' '525k' '920k' '779k' '853k' '720k' '713k' '772k'\n",
      " '318k' '58k' '241k' '196k' '857k' '51k' '953k' '865k' '251k' '930k'\n",
      " '540k' '313k' '746k' '203k' '26k' '314k' '239k' '371k' '220k' '730k'\n",
      " '756k' '91k' '293k' '17k' '74k' '14k' '317k' '78k' '924k' '902k' '818k'\n",
      " '81k' '939k' '169k' '45k' '475k' '965k' '90M' '545k' '61k' '283k' '655k'\n",
      " '714k' '93k' '872k' '121k' '322k' '1.0M' '976k' '172k' '238k' '549k'\n",
      " '206k' '954k' '444k' '717k' '210k' '609k' '308k' '705k' '306k' '904k'\n",
      " '473k' '175k' '350k' '383k' '454k' '421k' '70k' '812k' '442k' '842k'\n",
      " '417k' '412k' '459k' '478k' '335k' '782k' '721k' '430k' '429k' '192k'\n",
      " '200k' '460k' '728k' '496k' '816k' '414k' '506k' '887k' '613k' '243k'\n",
      " '569k' '778k' '683k' '592k' '319k' '186k' '840k' '647k' '191k' '373k'\n",
      " '437k' '598k' '716k' '585k' '982k' '222k' '219k' '55k' '948k' '323k'\n",
      " '691k' '511k' '951k' '963k' '25k' '554k' '351k' '27k' '82k' '208k' '913k'\n",
      " '514k' '551k' '29k' '103k' '898k' '743k' '116k' '153k' '209k' '353k'\n",
      " '499k' '173k' '597k' '809k' '122k' '411k' '400k' '801k' '787k' '237k'\n",
      " '50k' '643k' '986k' '97k' '516k' '837k' '780k' '961k' '269k' '20k' '498k'\n",
      " '600k' '749k' '642k' '881k' '72k' '656k' '601k' '221k' '228k' '108k'\n",
      " '940k' '176k' '33k' '663k' '34k' '942k' '259k' '164k' '458k' '245k'\n",
      " '629k' '28k' '288k' '775k' '785k' '636k' '916k' '994k' '309k' '485k'\n",
      " '914k' '903k' '608k' '500k' '54k' '562k' '847k' '957k' '688k' '811k'\n",
      " '270k' '48k' '329k' '523k' '921k' '874k' '981k' '784k' '280k' '24k'\n",
      " '518k' '754k' '892k' '154k' '860k' '364k' '387k' '626k' '161k' '879k'\n",
      " '39k' '970k' '170k' '141k' '160k' '144k' '143k' '190k' '376k' '193k'\n",
      " '246k' '73k' '658k' '992k' '253k' '420k' '404k' '470k' '226k' '240k'\n",
      " '89k' '234k' '257k' '861k' '467k' '157k' '44k' '676k' '67k' '552k' '885k'\n",
      " '1020k' '582k' '619k']\n",
      "Installs: has unique values : ['10,000+' '500,000+' '5,000,000+' '50,000,000+' '100,000+' '50,000+'\n",
      " '1,000,000+' '10,000,000+' '5,000+' '100,000,000+' '1,000,000,000+'\n",
      " '1,000+' '500,000,000+' '50+' '100+' '500+' '10+' '1+' '5+' '0+' '0']\n",
      "Type: has unique values : ['Free' 'Paid' nan]\n",
      "Price: has unique values : ['0' '$4.99' '$3.99' '$6.99' '$1.49' '$2.99' '$7.99' '$5.99' '$3.49'\n",
      " '$1.99' '$9.99' '$7.49' '$0.99' '$9.00' '$5.49' '$10.00' '$24.99'\n",
      " '$11.99' '$79.99' '$16.99' '$14.99' '$1.00' '$29.99' '$12.99' '$2.49'\n",
      " '$10.99' '$1.50' '$19.99' '$15.99' '$33.99' '$74.99' '$39.99' '$3.95'\n",
      " '$4.49' '$1.70' '$8.99' '$2.00' '$3.88' '$25.99' '$399.99' '$17.99'\n",
      " '$400.00' '$3.02' '$1.76' '$4.84' '$4.77' '$1.61' '$2.50' '$1.59' '$6.49'\n",
      " '$1.29' '$5.00' '$13.99' '$299.99' '$379.99' '$37.99' '$18.99' '$389.99'\n",
      " '$19.90' '$8.49' '$1.75' '$14.00' '$4.85' '$46.99' '$109.99' '$154.99'\n",
      " '$3.08' '$2.59' '$4.80' '$1.96' '$19.40' '$3.90' '$4.59' '$15.46' '$3.04'\n",
      " '$4.29' '$2.60' '$3.28' '$4.60' '$28.99' '$2.95' '$2.90' '$1.97'\n",
      " '$200.00' '$89.99' '$2.56' '$30.99' '$3.61' '$394.99' '$1.26' '$1.20'\n",
      " '$1.04']\n",
      "Content Rating: has unique values : ['Everyone' 'Teen' 'Everyone 10+' 'Mature 17+' 'Adults only 18+' 'Unrated']\n",
      "Genres: has unique values : ['Art & Design' 'Art & Design;Pretend Play' 'Art & Design;Creativity'\n",
      " 'Art & Design;Action & Adventure' 'Auto & Vehicles' 'Beauty'\n",
      " 'Books & Reference' 'Business' 'Comics' 'Comics;Creativity'\n",
      " 'Communication' 'Dating' 'Education;Education' 'Education'\n",
      " 'Education;Creativity' 'Education;Music & Video'\n",
      " 'Education;Action & Adventure' 'Education;Pretend Play'\n",
      " 'Education;Brain Games' 'Entertainment' 'Entertainment;Music & Video'\n",
      " 'Entertainment;Brain Games' 'Entertainment;Creativity' 'Events' 'Finance'\n",
      " 'Food & Drink' 'Health & Fitness' 'House & Home' 'Libraries & Demo'\n",
      " 'Lifestyle' 'Lifestyle;Pretend Play' 'Adventure;Action & Adventure'\n",
      " 'Arcade' 'Casual' 'Card' 'Casual;Pretend Play' 'Action' 'Strategy'\n",
      " 'Puzzle' 'Sports' 'Music' 'Word' 'Racing' 'Casual;Creativity'\n",
      " 'Casual;Action & Adventure' 'Simulation' 'Adventure' 'Board' 'Trivia'\n",
      " 'Role Playing' 'Simulation;Education' 'Action;Action & Adventure'\n",
      " 'Casual;Brain Games' 'Simulation;Action & Adventure'\n",
      " 'Educational;Creativity' 'Puzzle;Brain Games' 'Educational;Education'\n",
      " 'Card;Brain Games' 'Educational;Brain Games' 'Educational;Pretend Play'\n",
      " 'Entertainment;Education' 'Casual;Education' 'Music;Music & Video'\n",
      " 'Racing;Action & Adventure' 'Arcade;Pretend Play'\n",
      " 'Role Playing;Action & Adventure' 'Simulation;Pretend Play'\n",
      " 'Puzzle;Creativity' 'Sports;Action & Adventure'\n",
      " 'Educational;Action & Adventure' 'Arcade;Action & Adventure'\n",
      " 'Entertainment;Action & Adventure' 'Puzzle;Action & Adventure'\n",
      " 'Strategy;Action & Adventure' 'Music & Audio;Music & Video'\n",
      " 'Health & Fitness;Education' 'Adventure;Education' 'Board;Brain Games'\n",
      " 'Board;Action & Adventure' 'Board;Pretend Play' 'Casual;Music & Video'\n",
      " 'Role Playing;Pretend Play' 'Entertainment;Pretend Play'\n",
      " 'Video Players & Editors;Creativity' 'Card;Action & Adventure' 'Medical'\n",
      " 'Social' 'Shopping' 'Photography' 'Travel & Local'\n",
      " 'Travel & Local;Action & Adventure' 'Tools' 'Tools;Education'\n",
      " 'Personalization' 'Productivity' 'Parenting' 'Parenting;Music & Video'\n",
      " 'Parenting;Education' 'Parenting;Brain Games' 'Weather'\n",
      " 'Video Players & Editors' 'Video Players & Editors;Music & Video'\n",
      " 'News & Magazines' 'Maps & Navigation'\n",
      " 'Health & Fitness;Action & Adventure' 'Educational' 'Casino'\n",
      " 'Adventure;Brain Games' 'Trivia;Education' 'Lifestyle;Education'\n",
      " 'Books & Reference;Creativity' 'Books & Reference;Education'\n",
      " 'Puzzle;Education' 'Role Playing;Education' 'Role Playing;Brain Games'\n",
      " 'Strategy;Education' 'Racing;Pretend Play' 'Communication;Creativity'\n",
      " 'Strategy;Creativity']\n",
      "Last Updated: has unique values : ['January 7, 2018' 'January 15, 2018' 'August 1, 2018' ...\n",
      " 'January 20, 2014' 'February 16, 2014' 'March 23, 2014']\n",
      "Current Ver: has unique values : ['1.0.0' '2.0.0' '1.2.4' ... '1.0.612928' '0.3.4' '2.0.148.0']\n",
      "Android Ver: has unique values : ['4.0.3 and up' '4.2 and up' '4.4 and up' '2.3 and up' '3.0 and up'\n",
      " '4.1 and up' '4.0 and up' '2.3.3 and up' 'Varies with device'\n",
      " '2.2 and up' '5.0 and up' '6.0 and up' '1.6 and up' '1.5 and up'\n",
      " '2.1 and up' '7.0 and up' '5.1 and up' '4.3 and up' '4.0.3 - 7.1.1'\n",
      " '2.0 and up' '3.2 and up' '4.4W and up' '7.1 and up' '7.0 - 7.1.1'\n",
      " '8.0 and up' '5.0 - 8.0' '3.1 and up' '2.0.1 and up' '4.1 - 7.1.1' nan\n",
      " '5.0 - 6.0' '1.0 and up' '2.2 - 7.1.1' '5.0 - 7.1.1']\n"
     ]
    }
   ],
   "source": [
    "for i in df_copy.columns:\n",
    "    print(f'{i}: has unique values : {df_copy[i].unique()}')"
   ]
  },
  {
   "cell_type": "code",
   "execution_count": 17,
   "id": "aa26e649-a07e-4cb7-938c-d6e12c1fe3ab",
   "metadata": {},
   "outputs": [],
   "source": [
    "def size_process(item):\n",
    "    if str(item)[-1] == 'M':\n",
    "        res = float(str(item).replace('M', ''))\n",
    "        res = res*1024\n",
    "        return res\n",
    "    elif str(item)[-1] == 'k':\n",
    "        res = float(str(item).replace('k', ''))\n",
    "        return res\n",
    "    else:\n",
    "        return str(np.NaN)"
   ]
  },
  {
   "cell_type": "code",
   "execution_count": 18,
   "id": "91a6c6d7-774e-4e7d-a2c2-9e7998bd011b",
   "metadata": {},
   "outputs": [],
   "source": [
    "df_copy['Size'] = df_copy['Size'].apply(size_process)"
   ]
  },
  {
   "cell_type": "code",
   "execution_count": 19,
   "id": "5ab29ca5-f5f1-4018-8f6c-a48dc1c95ccc",
   "metadata": {},
   "outputs": [
    {
     "data": {
      "text/html": [
       "<div>\n",
       "<style scoped>\n",
       "    .dataframe tbody tr th:only-of-type {\n",
       "        vertical-align: middle;\n",
       "    }\n",
       "\n",
       "    .dataframe tbody tr th {\n",
       "        vertical-align: top;\n",
       "    }\n",
       "\n",
       "    .dataframe thead th {\n",
       "        text-align: right;\n",
       "    }\n",
       "</style>\n",
       "<table border=\"1\" class=\"dataframe\">\n",
       "  <thead>\n",
       "    <tr style=\"text-align: right;\">\n",
       "      <th></th>\n",
       "      <th>App</th>\n",
       "      <th>Category</th>\n",
       "      <th>Rating</th>\n",
       "      <th>Reviews</th>\n",
       "      <th>Size</th>\n",
       "      <th>Installs</th>\n",
       "      <th>Type</th>\n",
       "      <th>Price</th>\n",
       "      <th>Content Rating</th>\n",
       "      <th>Genres</th>\n",
       "      <th>Last Updated</th>\n",
       "      <th>Current Ver</th>\n",
       "      <th>Android Ver</th>\n",
       "    </tr>\n",
       "  </thead>\n",
       "  <tbody>\n",
       "    <tr>\n",
       "      <th>0</th>\n",
       "      <td>Photo Editor &amp; Candy Camera &amp; Grid &amp; ScrapBook</td>\n",
       "      <td>ART_AND_DESIGN</td>\n",
       "      <td>4.1</td>\n",
       "      <td>159</td>\n",
       "      <td>19456.0</td>\n",
       "      <td>10,000+</td>\n",
       "      <td>Free</td>\n",
       "      <td>0</td>\n",
       "      <td>Everyone</td>\n",
       "      <td>Art &amp; Design</td>\n",
       "      <td>January 7, 2018</td>\n",
       "      <td>1.0.0</td>\n",
       "      <td>4.0.3 and up</td>\n",
       "    </tr>\n",
       "    <tr>\n",
       "      <th>1</th>\n",
       "      <td>Coloring book moana</td>\n",
       "      <td>ART_AND_DESIGN</td>\n",
       "      <td>3.9</td>\n",
       "      <td>967</td>\n",
       "      <td>14336.0</td>\n",
       "      <td>500,000+</td>\n",
       "      <td>Free</td>\n",
       "      <td>0</td>\n",
       "      <td>Everyone</td>\n",
       "      <td>Art &amp; Design;Pretend Play</td>\n",
       "      <td>January 15, 2018</td>\n",
       "      <td>2.0.0</td>\n",
       "      <td>4.0.3 and up</td>\n",
       "    </tr>\n",
       "    <tr>\n",
       "      <th>2</th>\n",
       "      <td>U Launcher Lite – FREE Live Cool Themes, Hide ...</td>\n",
       "      <td>ART_AND_DESIGN</td>\n",
       "      <td>4.7</td>\n",
       "      <td>87510</td>\n",
       "      <td>8908.8</td>\n",
       "      <td>5,000,000+</td>\n",
       "      <td>Free</td>\n",
       "      <td>0</td>\n",
       "      <td>Everyone</td>\n",
       "      <td>Art &amp; Design</td>\n",
       "      <td>August 1, 2018</td>\n",
       "      <td>1.2.4</td>\n",
       "      <td>4.0.3 and up</td>\n",
       "    </tr>\n",
       "    <tr>\n",
       "      <th>3</th>\n",
       "      <td>Sketch - Draw &amp; Paint</td>\n",
       "      <td>ART_AND_DESIGN</td>\n",
       "      <td>4.5</td>\n",
       "      <td>215644</td>\n",
       "      <td>25600.0</td>\n",
       "      <td>50,000,000+</td>\n",
       "      <td>Free</td>\n",
       "      <td>0</td>\n",
       "      <td>Teen</td>\n",
       "      <td>Art &amp; Design</td>\n",
       "      <td>June 8, 2018</td>\n",
       "      <td>Varies with device</td>\n",
       "      <td>4.2 and up</td>\n",
       "    </tr>\n",
       "    <tr>\n",
       "      <th>4</th>\n",
       "      <td>Pixel Draw - Number Art Coloring Book</td>\n",
       "      <td>ART_AND_DESIGN</td>\n",
       "      <td>4.3</td>\n",
       "      <td>967</td>\n",
       "      <td>2867.2</td>\n",
       "      <td>100,000+</td>\n",
       "      <td>Free</td>\n",
       "      <td>0</td>\n",
       "      <td>Everyone</td>\n",
       "      <td>Art &amp; Design;Creativity</td>\n",
       "      <td>June 20, 2018</td>\n",
       "      <td>1.1</td>\n",
       "      <td>4.4 and up</td>\n",
       "    </tr>\n",
       "  </tbody>\n",
       "</table>\n",
       "</div>"
      ],
      "text/plain": [
       "                                                 App        Category  Rating  \\\n",
       "0     Photo Editor & Candy Camera & Grid & ScrapBook  ART_AND_DESIGN     4.1   \n",
       "1                                Coloring book moana  ART_AND_DESIGN     3.9   \n",
       "2  U Launcher Lite – FREE Live Cool Themes, Hide ...  ART_AND_DESIGN     4.7   \n",
       "3                              Sketch - Draw & Paint  ART_AND_DESIGN     4.5   \n",
       "4              Pixel Draw - Number Art Coloring Book  ART_AND_DESIGN     4.3   \n",
       "\n",
       "  Reviews     Size     Installs  Type Price Content Rating  \\\n",
       "0     159  19456.0      10,000+  Free     0       Everyone   \n",
       "1     967  14336.0     500,000+  Free     0       Everyone   \n",
       "2   87510   8908.8   5,000,000+  Free     0       Everyone   \n",
       "3  215644  25600.0  50,000,000+  Free     0           Teen   \n",
       "4     967   2867.2     100,000+  Free     0       Everyone   \n",
       "\n",
       "                      Genres      Last Updated         Current Ver  \\\n",
       "0               Art & Design   January 7, 2018               1.0.0   \n",
       "1  Art & Design;Pretend Play  January 15, 2018               2.0.0   \n",
       "2               Art & Design    August 1, 2018               1.2.4   \n",
       "3               Art & Design      June 8, 2018  Varies with device   \n",
       "4    Art & Design;Creativity     June 20, 2018                 1.1   \n",
       "\n",
       "    Android Ver  \n",
       "0  4.0.3 and up  \n",
       "1  4.0.3 and up  \n",
       "2  4.0.3 and up  \n",
       "3    4.2 and up  \n",
       "4    4.4 and up  "
      ]
     },
     "execution_count": 19,
     "metadata": {},
     "output_type": "execute_result"
    }
   ],
   "source": [
    "df_copy.head()"
   ]
  },
  {
   "cell_type": "code",
   "execution_count": 20,
   "id": "0d3c9eff-f4b7-40e7-9b14-691171124063",
   "metadata": {},
   "outputs": [
    {
     "data": {
      "text/plain": [
       "array([19456.0, 14336.0, 8908.8, 25600.0, 2867.2, 5734.4, 29696.0,\n",
       "       33792.0, 3174.4, 28672.0, 12288.0, 20480.0, 21504.0, 37888.0,\n",
       "       2764.8, 5632.0, 17408.0, 39936.0, 31744.0, 4300.8, 7168.0, 23552.0,\n",
       "       6144.0, 6246.4, 4710.4, 9420.8, 5324.8, 11264.0, 24576.0, 'nan',\n",
       "       9625.6, 15360.0, 10240.0, 1228.8, 26624.0, 8192.0, 8089.6, 57344.0,\n",
       "       58368.0, 35840.0, 55296.0, 201.0, 3686.4, 5836.8, 8806.4, 2457.6,\n",
       "       27648.0, 2560.0, 16384.0, 3481.6, 9113.6, 3993.6, 2969.6, 38912.0,\n",
       "       32768.0, 5529.6, 18432.0, 1126.4, 2252.8, 4608.0, 10035.2, 53248.0,\n",
       "       9216.0, 6860.8, 30720.0, 2662.4, 7270.4, 3788.8, 22528.0, 7577.6,\n",
       "       6553.6, 3276.8, 8396.8, 10137.6, 5017.6, 9728.0, 5120.0, 6041.6,\n",
       "       13312.0, 74752.0, 6963.2, 3584.0, 4096.0, 2355.2, 7372.8, 2150.4,\n",
       "       43008.0, 7475.2, 9318.4, 56320.0, 23.0, 6656.0, 1536.0, 7680.0,\n",
       "       52224.0, 41984.0, 49152.0, 8704.0, 47104.0, 8499.2, 4403.2, 4812.8,\n",
       "       3379.2, 40960.0, 7987.2, 9011.2, 6758.4, 5222.4, 62464.0, 67584.0,\n",
       "       79.0, 8601.6, 118.0, 45056.0, 695.0, 1638.4, 6348.8, 18.0, 54272.0,\n",
       "       1433.6, 3072.0, 5939.2, 3891.2, 9830.4, 46080.0, 64512.0, 50176.0,\n",
       "       78848.0, 4505.6, 4915.2, 71680.0, 7065.6, 9523.2, 8294.4, 36864.0,\n",
       "       86016.0, 99328.0, 2048.0, 1945.6, 1843.2, 5427.2, 48128.0, 556.0,\n",
       "       526.0, 77824.0, 7782.4, 60416.0, 9932.8, 79872.0, 73728.0, 44032.0,\n",
       "       7884.8, 6451.2, 334.0, 34816.0, 95232.0, 66560.0, 80896.0,\n",
       "       102400.0, 59392.0, 51200.0, 69632.0, 65536.0, 68608.0, 61440.0,\n",
       "       96256.0, 232.0, 101376.0, 624.0, 97280.0, 8.5, 41.0, 292.0, 11.0,\n",
       "       81920.0, 1740.8, 75776.0, 63488.0, 70656.0, 76800.0, 100352.0,\n",
       "       87040.0, 83968.0, 98304.0, 89088.0, 72704.0, 88064.0, 93184.0,\n",
       "       82944.0, 94208.0, 84992.0, 90112.0, 704.0, 862.0, 899.0, 378.0,\n",
       "       266.0, 375.0, 1331.2, 975.0, 980.0, 4198.4, 91136.0, 696.0, 544.0,\n",
       "       525.0, 920.0, 779.0, 853.0, 720.0, 713.0, 772.0, 318.0, 58.0,\n",
       "       241.0, 196.0, 857.0, 51.0, 953.0, 865.0, 251.0, 930.0, 540.0,\n",
       "       313.0, 746.0, 203.0, 26.0, 314.0, 239.0, 371.0, 220.0, 730.0,\n",
       "       756.0, 91.0, 293.0, 17.0, 74.0, 14.0, 317.0, 78.0, 924.0, 902.0,\n",
       "       818.0, 81.0, 939.0, 169.0, 45.0, 475.0, 965.0, 92160.0, 545.0,\n",
       "       61.0, 283.0, 655.0, 714.0, 93.0, 872.0, 121.0, 322.0, 1024.0,\n",
       "       976.0, 172.0, 238.0, 549.0, 206.0, 954.0, 444.0, 717.0, 210.0,\n",
       "       609.0, 308.0, 705.0, 306.0, 904.0, 473.0, 175.0, 350.0, 383.0,\n",
       "       454.0, 421.0, 70.0, 812.0, 442.0, 842.0, 417.0, 412.0, 459.0,\n",
       "       478.0, 335.0, 782.0, 721.0, 430.0, 429.0, 192.0, 200.0, 460.0,\n",
       "       728.0, 496.0, 816.0, 414.0, 506.0, 887.0, 613.0, 243.0, 569.0,\n",
       "       778.0, 683.0, 592.0, 319.0, 186.0, 840.0, 647.0, 191.0, 373.0,\n",
       "       437.0, 598.0, 716.0, 585.0, 982.0, 222.0, 219.0, 55.0, 948.0,\n",
       "       323.0, 691.0, 511.0, 951.0, 963.0, 25.0, 554.0, 351.0, 27.0, 82.0,\n",
       "       208.0, 913.0, 514.0, 551.0, 29.0, 103.0, 898.0, 743.0, 116.0,\n",
       "       153.0, 209.0, 353.0, 499.0, 173.0, 597.0, 809.0, 122.0, 411.0,\n",
       "       400.0, 801.0, 787.0, 237.0, 50.0, 643.0, 986.0, 97.0, 516.0, 837.0,\n",
       "       780.0, 961.0, 269.0, 20.0, 498.0, 600.0, 749.0, 642.0, 881.0, 72.0,\n",
       "       656.0, 601.0, 221.0, 228.0, 108.0, 940.0, 176.0, 33.0, 663.0, 34.0,\n",
       "       942.0, 259.0, 164.0, 458.0, 245.0, 629.0, 28.0, 288.0, 775.0,\n",
       "       785.0, 636.0, 916.0, 994.0, 309.0, 485.0, 914.0, 903.0, 608.0,\n",
       "       500.0, 54.0, 562.0, 847.0, 957.0, 688.0, 811.0, 270.0, 48.0, 329.0,\n",
       "       523.0, 921.0, 874.0, 981.0, 784.0, 280.0, 24.0, 518.0, 754.0,\n",
       "       892.0, 154.0, 860.0, 364.0, 387.0, 626.0, 161.0, 879.0, 39.0,\n",
       "       970.0, 170.0, 141.0, 160.0, 144.0, 143.0, 190.0, 376.0, 193.0,\n",
       "       246.0, 73.0, 658.0, 992.0, 253.0, 420.0, 404.0, 470.0, 226.0,\n",
       "       240.0, 89.0, 234.0, 257.0, 861.0, 467.0, 157.0, 44.0, 676.0, 67.0,\n",
       "       552.0, 885.0, 1020.0, 582.0, 619.0], dtype=object)"
      ]
     },
     "execution_count": 20,
     "metadata": {},
     "output_type": "execute_result"
    }
   ],
   "source": [
    "df_copy['Size'].unique()"
   ]
  },
  {
   "cell_type": "code",
   "execution_count": 21,
   "id": "d659fee1-95fb-415c-b1b7-1e5103ff9035",
   "metadata": {},
   "outputs": [
    {
     "name": "stdout",
     "output_type": "stream",
     "text": [
      "App: has unique values : ['Photo Editor & Candy Camera & Grid & ScrapBook' 'Coloring book moana'\n",
      " 'U Launcher Lite – FREE Live Cool Themes, Hide Apps' ...\n",
      " 'Parkinson Exercices FR' 'The SCP Foundation DB fr nn5n'\n",
      " 'iHoroscope - 2018 Daily Horoscope & Astrology']\n",
      "Category: has unique values : ['ART_AND_DESIGN' 'AUTO_AND_VEHICLES' 'BEAUTY' 'BOOKS_AND_REFERENCE'\n",
      " 'BUSINESS' 'COMICS' 'COMMUNICATION' 'DATING' 'EDUCATION' 'ENTERTAINMENT'\n",
      " 'EVENTS' 'FINANCE' 'FOOD_AND_DRINK' 'HEALTH_AND_FITNESS' 'HOUSE_AND_HOME'\n",
      " 'LIBRARIES_AND_DEMO' 'LIFESTYLE' 'GAME' 'FAMILY' 'MEDICAL' 'SOCIAL'\n",
      " 'SHOPPING' 'PHOTOGRAPHY' 'SPORTS' 'TRAVEL_AND_LOCAL' 'TOOLS'\n",
      " 'PERSONALIZATION' 'PRODUCTIVITY' 'PARENTING' 'WEATHER' 'VIDEO_PLAYERS'\n",
      " 'NEWS_AND_MAGAZINES' 'MAPS_AND_NAVIGATION']\n",
      "Rating: has unique values : [4.1 3.9 4.7 4.5 4.3 4.4 3.8 4.2 4.6 3.2 4.  nan 4.8 4.9 3.6 3.7 3.3 3.4\n",
      " 3.5 3.1 5.  2.6 3.  1.9 2.5 2.8 2.7 1.  2.9 2.3 2.2 1.7 2.  1.8 2.4 1.6\n",
      " 2.1 1.4 1.5 1.2]\n",
      "Reviews: has unique values : ['159' '967' '87510' ... '603' '1195' '398307']\n",
      "Size: has unique values : [19456.0 14336.0 8908.8 25600.0 2867.2 5734.4 29696.0 33792.0 3174.4\n",
      " 28672.0 12288.0 20480.0 21504.0 37888.0 2764.8 5632.0 17408.0 39936.0\n",
      " 31744.0 4300.8 7168.0 23552.0 6144.0 6246.4 4710.4 9420.8 5324.8 11264.0\n",
      " 24576.0 'nan' 9625.6 15360.0 10240.0 1228.8 26624.0 8192.0 8089.6 57344.0\n",
      " 58368.0 35840.0 55296.0 201.0 3686.4 5836.8 8806.4 2457.6 27648.0 2560.0\n",
      " 16384.0 3481.6 9113.6 3993.6 2969.6 38912.0 32768.0 5529.6 18432.0 1126.4\n",
      " 2252.8 4608.0 10035.2 53248.0 9216.0 6860.8 30720.0 2662.4 7270.4 3788.8\n",
      " 22528.0 7577.6 6553.6 3276.8 8396.8 10137.6 5017.6 9728.0 5120.0 6041.6\n",
      " 13312.0 74752.0 6963.2 3584.0 4096.0 2355.2 7372.8 2150.4 43008.0 7475.2\n",
      " 9318.4 56320.0 23.0 6656.0 1536.0 7680.0 52224.0 41984.0 49152.0 8704.0\n",
      " 47104.0 8499.2 4403.2 4812.8 3379.2 40960.0 7987.2 9011.2 6758.4 5222.4\n",
      " 62464.0 67584.0 79.0 8601.6 118.0 45056.0 695.0 1638.4 6348.8 18.0\n",
      " 54272.0 1433.6 3072.0 5939.2 3891.2 9830.4 46080.0 64512.0 50176.0\n",
      " 78848.0 4505.6 4915.2 71680.0 7065.6 9523.2 8294.4 36864.0 86016.0\n",
      " 99328.0 2048.0 1945.6 1843.2 5427.2 48128.0 556.0 526.0 77824.0 7782.4\n",
      " 60416.0 9932.8 79872.0 73728.0 44032.0 7884.8 6451.2 334.0 34816.0\n",
      " 95232.0 66560.0 80896.0 102400.0 59392.0 51200.0 69632.0 65536.0 68608.0\n",
      " 61440.0 96256.0 232.0 101376.0 624.0 97280.0 8.5 41.0 292.0 11.0 81920.0\n",
      " 1740.8 75776.0 63488.0 70656.0 76800.0 100352.0 87040.0 83968.0 98304.0\n",
      " 89088.0 72704.0 88064.0 93184.0 82944.0 94208.0 84992.0 90112.0 704.0\n",
      " 862.0 899.0 378.0 266.0 375.0 1331.2 975.0 980.0 4198.4 91136.0 696.0\n",
      " 544.0 525.0 920.0 779.0 853.0 720.0 713.0 772.0 318.0 58.0 241.0 196.0\n",
      " 857.0 51.0 953.0 865.0 251.0 930.0 540.0 313.0 746.0 203.0 26.0 314.0\n",
      " 239.0 371.0 220.0 730.0 756.0 91.0 293.0 17.0 74.0 14.0 317.0 78.0 924.0\n",
      " 902.0 818.0 81.0 939.0 169.0 45.0 475.0 965.0 92160.0 545.0 61.0 283.0\n",
      " 655.0 714.0 93.0 872.0 121.0 322.0 1024.0 976.0 172.0 238.0 549.0 206.0\n",
      " 954.0 444.0 717.0 210.0 609.0 308.0 705.0 306.0 904.0 473.0 175.0 350.0\n",
      " 383.0 454.0 421.0 70.0 812.0 442.0 842.0 417.0 412.0 459.0 478.0 335.0\n",
      " 782.0 721.0 430.0 429.0 192.0 200.0 460.0 728.0 496.0 816.0 414.0 506.0\n",
      " 887.0 613.0 243.0 569.0 778.0 683.0 592.0 319.0 186.0 840.0 647.0 191.0\n",
      " 373.0 437.0 598.0 716.0 585.0 982.0 222.0 219.0 55.0 948.0 323.0 691.0\n",
      " 511.0 951.0 963.0 25.0 554.0 351.0 27.0 82.0 208.0 913.0 514.0 551.0 29.0\n",
      " 103.0 898.0 743.0 116.0 153.0 209.0 353.0 499.0 173.0 597.0 809.0 122.0\n",
      " 411.0 400.0 801.0 787.0 237.0 50.0 643.0 986.0 97.0 516.0 837.0 780.0\n",
      " 961.0 269.0 20.0 498.0 600.0 749.0 642.0 881.0 72.0 656.0 601.0 221.0\n",
      " 228.0 108.0 940.0 176.0 33.0 663.0 34.0 942.0 259.0 164.0 458.0 245.0\n",
      " 629.0 28.0 288.0 775.0 785.0 636.0 916.0 994.0 309.0 485.0 914.0 903.0\n",
      " 608.0 500.0 54.0 562.0 847.0 957.0 688.0 811.0 270.0 48.0 329.0 523.0\n",
      " 921.0 874.0 981.0 784.0 280.0 24.0 518.0 754.0 892.0 154.0 860.0 364.0\n",
      " 387.0 626.0 161.0 879.0 39.0 970.0 170.0 141.0 160.0 144.0 143.0 190.0\n",
      " 376.0 193.0 246.0 73.0 658.0 992.0 253.0 420.0 404.0 470.0 226.0 240.0\n",
      " 89.0 234.0 257.0 861.0 467.0 157.0 44.0 676.0 67.0 552.0 885.0 1020.0\n",
      " 582.0 619.0]\n",
      "Installs: has unique values : ['10,000+' '500,000+' '5,000,000+' '50,000,000+' '100,000+' '50,000+'\n",
      " '1,000,000+' '10,000,000+' '5,000+' '100,000,000+' '1,000,000,000+'\n",
      " '1,000+' '500,000,000+' '50+' '100+' '500+' '10+' '1+' '5+' '0+' '0']\n",
      "Type: has unique values : ['Free' 'Paid' nan]\n",
      "Price: has unique values : ['0' '$4.99' '$3.99' '$6.99' '$1.49' '$2.99' '$7.99' '$5.99' '$3.49'\n",
      " '$1.99' '$9.99' '$7.49' '$0.99' '$9.00' '$5.49' '$10.00' '$24.99'\n",
      " '$11.99' '$79.99' '$16.99' '$14.99' '$1.00' '$29.99' '$12.99' '$2.49'\n",
      " '$10.99' '$1.50' '$19.99' '$15.99' '$33.99' '$74.99' '$39.99' '$3.95'\n",
      " '$4.49' '$1.70' '$8.99' '$2.00' '$3.88' '$25.99' '$399.99' '$17.99'\n",
      " '$400.00' '$3.02' '$1.76' '$4.84' '$4.77' '$1.61' '$2.50' '$1.59' '$6.49'\n",
      " '$1.29' '$5.00' '$13.99' '$299.99' '$379.99' '$37.99' '$18.99' '$389.99'\n",
      " '$19.90' '$8.49' '$1.75' '$14.00' '$4.85' '$46.99' '$109.99' '$154.99'\n",
      " '$3.08' '$2.59' '$4.80' '$1.96' '$19.40' '$3.90' '$4.59' '$15.46' '$3.04'\n",
      " '$4.29' '$2.60' '$3.28' '$4.60' '$28.99' '$2.95' '$2.90' '$1.97'\n",
      " '$200.00' '$89.99' '$2.56' '$30.99' '$3.61' '$394.99' '$1.26' '$1.20'\n",
      " '$1.04']\n",
      "Content Rating: has unique values : ['Everyone' 'Teen' 'Everyone 10+' 'Mature 17+' 'Adults only 18+' 'Unrated']\n",
      "Genres: has unique values : ['Art & Design' 'Art & Design;Pretend Play' 'Art & Design;Creativity'\n",
      " 'Art & Design;Action & Adventure' 'Auto & Vehicles' 'Beauty'\n",
      " 'Books & Reference' 'Business' 'Comics' 'Comics;Creativity'\n",
      " 'Communication' 'Dating' 'Education;Education' 'Education'\n",
      " 'Education;Creativity' 'Education;Music & Video'\n",
      " 'Education;Action & Adventure' 'Education;Pretend Play'\n",
      " 'Education;Brain Games' 'Entertainment' 'Entertainment;Music & Video'\n",
      " 'Entertainment;Brain Games' 'Entertainment;Creativity' 'Events' 'Finance'\n",
      " 'Food & Drink' 'Health & Fitness' 'House & Home' 'Libraries & Demo'\n",
      " 'Lifestyle' 'Lifestyle;Pretend Play' 'Adventure;Action & Adventure'\n",
      " 'Arcade' 'Casual' 'Card' 'Casual;Pretend Play' 'Action' 'Strategy'\n",
      " 'Puzzle' 'Sports' 'Music' 'Word' 'Racing' 'Casual;Creativity'\n",
      " 'Casual;Action & Adventure' 'Simulation' 'Adventure' 'Board' 'Trivia'\n",
      " 'Role Playing' 'Simulation;Education' 'Action;Action & Adventure'\n",
      " 'Casual;Brain Games' 'Simulation;Action & Adventure'\n",
      " 'Educational;Creativity' 'Puzzle;Brain Games' 'Educational;Education'\n",
      " 'Card;Brain Games' 'Educational;Brain Games' 'Educational;Pretend Play'\n",
      " 'Entertainment;Education' 'Casual;Education' 'Music;Music & Video'\n",
      " 'Racing;Action & Adventure' 'Arcade;Pretend Play'\n",
      " 'Role Playing;Action & Adventure' 'Simulation;Pretend Play'\n",
      " 'Puzzle;Creativity' 'Sports;Action & Adventure'\n",
      " 'Educational;Action & Adventure' 'Arcade;Action & Adventure'\n",
      " 'Entertainment;Action & Adventure' 'Puzzle;Action & Adventure'\n",
      " 'Strategy;Action & Adventure' 'Music & Audio;Music & Video'\n",
      " 'Health & Fitness;Education' 'Adventure;Education' 'Board;Brain Games'\n",
      " 'Board;Action & Adventure' 'Board;Pretend Play' 'Casual;Music & Video'\n",
      " 'Role Playing;Pretend Play' 'Entertainment;Pretend Play'\n",
      " 'Video Players & Editors;Creativity' 'Card;Action & Adventure' 'Medical'\n",
      " 'Social' 'Shopping' 'Photography' 'Travel & Local'\n",
      " 'Travel & Local;Action & Adventure' 'Tools' 'Tools;Education'\n",
      " 'Personalization' 'Productivity' 'Parenting' 'Parenting;Music & Video'\n",
      " 'Parenting;Education' 'Parenting;Brain Games' 'Weather'\n",
      " 'Video Players & Editors' 'Video Players & Editors;Music & Video'\n",
      " 'News & Magazines' 'Maps & Navigation'\n",
      " 'Health & Fitness;Action & Adventure' 'Educational' 'Casino'\n",
      " 'Adventure;Brain Games' 'Trivia;Education' 'Lifestyle;Education'\n",
      " 'Books & Reference;Creativity' 'Books & Reference;Education'\n",
      " 'Puzzle;Education' 'Role Playing;Education' 'Role Playing;Brain Games'\n",
      " 'Strategy;Education' 'Racing;Pretend Play' 'Communication;Creativity'\n",
      " 'Strategy;Creativity']\n",
      "Last Updated: has unique values : ['January 7, 2018' 'January 15, 2018' 'August 1, 2018' ...\n",
      " 'January 20, 2014' 'February 16, 2014' 'March 23, 2014']\n",
      "Current Ver: has unique values : ['1.0.0' '2.0.0' '1.2.4' ... '1.0.612928' '0.3.4' '2.0.148.0']\n",
      "Android Ver: has unique values : ['4.0.3 and up' '4.2 and up' '4.4 and up' '2.3 and up' '3.0 and up'\n",
      " '4.1 and up' '4.0 and up' '2.3.3 and up' 'Varies with device'\n",
      " '2.2 and up' '5.0 and up' '6.0 and up' '1.6 and up' '1.5 and up'\n",
      " '2.1 and up' '7.0 and up' '5.1 and up' '4.3 and up' '4.0.3 - 7.1.1'\n",
      " '2.0 and up' '3.2 and up' '4.4W and up' '7.1 and up' '7.0 - 7.1.1'\n",
      " '8.0 and up' '5.0 - 8.0' '3.1 and up' '2.0.1 and up' '4.1 - 7.1.1' nan\n",
      " '5.0 - 6.0' '1.0 and up' '2.2 - 7.1.1' '5.0 - 7.1.1']\n"
     ]
    }
   ],
   "source": [
    "for i in df_copy.columns:\n",
    "    print(f'{i}: has unique values : {df_copy[i].unique()}')"
   ]
  },
  {
   "cell_type": "code",
   "execution_count": 22,
   "id": "1a01e229-9d9f-4ba6-93e7-fc9fea8a8ba8",
   "metadata": {},
   "outputs": [],
   "source": [
    "df_copy['Installs'] = df_copy['Installs'].str.replace('+', '').str.replace(',', '')"
   ]
  },
  {
   "cell_type": "code",
   "execution_count": 23,
   "id": "bc59ce75-67b5-4d64-860f-f92cb1d51782",
   "metadata": {},
   "outputs": [
    {
     "data": {
      "text/plain": [
       "array(['10000', '500000', '5000000', '50000000', '100000', '50000',\n",
       "       '1000000', '10000000', '5000', '100000000', '1000000000', '1000',\n",
       "       '500000000', '50', '100', '500', '10', '1', '5', '0'], dtype=object)"
      ]
     },
     "execution_count": 23,
     "metadata": {},
     "output_type": "execute_result"
    }
   ],
   "source": [
    "df_copy['Installs'].unique()"
   ]
  },
  {
   "cell_type": "code",
   "execution_count": 24,
   "id": "e1b0cb9d-80af-4f9b-8c7e-3a4c86cabcca",
   "metadata": {},
   "outputs": [
    {
     "data": {
      "text/plain": [
       "0           10000\n",
       "1          500000\n",
       "2         5000000\n",
       "3        50000000\n",
       "4          100000\n",
       "           ...   \n",
       "10352        5000\n",
       "10353         100\n",
       "10354        1000\n",
       "10355        1000\n",
       "10356    10000000\n",
       "Name: Installs, Length: 10357, dtype: int32"
      ]
     },
     "execution_count": 24,
     "metadata": {},
     "output_type": "execute_result"
    }
   ],
   "source": [
    "df_copy['Installs'].astype(int)"
   ]
  },
  {
   "cell_type": "code",
   "execution_count": 25,
   "id": "996bcc9f-6a81-4b29-aa78-199b4d9189aa",
   "metadata": {},
   "outputs": [
    {
     "name": "stdout",
     "output_type": "stream",
     "text": [
      "App: has unique values : ['Photo Editor & Candy Camera & Grid & ScrapBook' 'Coloring book moana'\n",
      " 'U Launcher Lite – FREE Live Cool Themes, Hide Apps' ...\n",
      " 'Parkinson Exercices FR' 'The SCP Foundation DB fr nn5n'\n",
      " 'iHoroscope - 2018 Daily Horoscope & Astrology']\n",
      "Category: has unique values : ['ART_AND_DESIGN' 'AUTO_AND_VEHICLES' 'BEAUTY' 'BOOKS_AND_REFERENCE'\n",
      " 'BUSINESS' 'COMICS' 'COMMUNICATION' 'DATING' 'EDUCATION' 'ENTERTAINMENT'\n",
      " 'EVENTS' 'FINANCE' 'FOOD_AND_DRINK' 'HEALTH_AND_FITNESS' 'HOUSE_AND_HOME'\n",
      " 'LIBRARIES_AND_DEMO' 'LIFESTYLE' 'GAME' 'FAMILY' 'MEDICAL' 'SOCIAL'\n",
      " 'SHOPPING' 'PHOTOGRAPHY' 'SPORTS' 'TRAVEL_AND_LOCAL' 'TOOLS'\n",
      " 'PERSONALIZATION' 'PRODUCTIVITY' 'PARENTING' 'WEATHER' 'VIDEO_PLAYERS'\n",
      " 'NEWS_AND_MAGAZINES' 'MAPS_AND_NAVIGATION']\n",
      "Rating: has unique values : [4.1 3.9 4.7 4.5 4.3 4.4 3.8 4.2 4.6 3.2 4.  nan 4.8 4.9 3.6 3.7 3.3 3.4\n",
      " 3.5 3.1 5.  2.6 3.  1.9 2.5 2.8 2.7 1.  2.9 2.3 2.2 1.7 2.  1.8 2.4 1.6\n",
      " 2.1 1.4 1.5 1.2]\n",
      "Reviews: has unique values : ['159' '967' '87510' ... '603' '1195' '398307']\n",
      "Size: has unique values : [19456.0 14336.0 8908.8 25600.0 2867.2 5734.4 29696.0 33792.0 3174.4\n",
      " 28672.0 12288.0 20480.0 21504.0 37888.0 2764.8 5632.0 17408.0 39936.0\n",
      " 31744.0 4300.8 7168.0 23552.0 6144.0 6246.4 4710.4 9420.8 5324.8 11264.0\n",
      " 24576.0 'nan' 9625.6 15360.0 10240.0 1228.8 26624.0 8192.0 8089.6 57344.0\n",
      " 58368.0 35840.0 55296.0 201.0 3686.4 5836.8 8806.4 2457.6 27648.0 2560.0\n",
      " 16384.0 3481.6 9113.6 3993.6 2969.6 38912.0 32768.0 5529.6 18432.0 1126.4\n",
      " 2252.8 4608.0 10035.2 53248.0 9216.0 6860.8 30720.0 2662.4 7270.4 3788.8\n",
      " 22528.0 7577.6 6553.6 3276.8 8396.8 10137.6 5017.6 9728.0 5120.0 6041.6\n",
      " 13312.0 74752.0 6963.2 3584.0 4096.0 2355.2 7372.8 2150.4 43008.0 7475.2\n",
      " 9318.4 56320.0 23.0 6656.0 1536.0 7680.0 52224.0 41984.0 49152.0 8704.0\n",
      " 47104.0 8499.2 4403.2 4812.8 3379.2 40960.0 7987.2 9011.2 6758.4 5222.4\n",
      " 62464.0 67584.0 79.0 8601.6 118.0 45056.0 695.0 1638.4 6348.8 18.0\n",
      " 54272.0 1433.6 3072.0 5939.2 3891.2 9830.4 46080.0 64512.0 50176.0\n",
      " 78848.0 4505.6 4915.2 71680.0 7065.6 9523.2 8294.4 36864.0 86016.0\n",
      " 99328.0 2048.0 1945.6 1843.2 5427.2 48128.0 556.0 526.0 77824.0 7782.4\n",
      " 60416.0 9932.8 79872.0 73728.0 44032.0 7884.8 6451.2 334.0 34816.0\n",
      " 95232.0 66560.0 80896.0 102400.0 59392.0 51200.0 69632.0 65536.0 68608.0\n",
      " 61440.0 96256.0 232.0 101376.0 624.0 97280.0 8.5 41.0 292.0 11.0 81920.0\n",
      " 1740.8 75776.0 63488.0 70656.0 76800.0 100352.0 87040.0 83968.0 98304.0\n",
      " 89088.0 72704.0 88064.0 93184.0 82944.0 94208.0 84992.0 90112.0 704.0\n",
      " 862.0 899.0 378.0 266.0 375.0 1331.2 975.0 980.0 4198.4 91136.0 696.0\n",
      " 544.0 525.0 920.0 779.0 853.0 720.0 713.0 772.0 318.0 58.0 241.0 196.0\n",
      " 857.0 51.0 953.0 865.0 251.0 930.0 540.0 313.0 746.0 203.0 26.0 314.0\n",
      " 239.0 371.0 220.0 730.0 756.0 91.0 293.0 17.0 74.0 14.0 317.0 78.0 924.0\n",
      " 902.0 818.0 81.0 939.0 169.0 45.0 475.0 965.0 92160.0 545.0 61.0 283.0\n",
      " 655.0 714.0 93.0 872.0 121.0 322.0 1024.0 976.0 172.0 238.0 549.0 206.0\n",
      " 954.0 444.0 717.0 210.0 609.0 308.0 705.0 306.0 904.0 473.0 175.0 350.0\n",
      " 383.0 454.0 421.0 70.0 812.0 442.0 842.0 417.0 412.0 459.0 478.0 335.0\n",
      " 782.0 721.0 430.0 429.0 192.0 200.0 460.0 728.0 496.0 816.0 414.0 506.0\n",
      " 887.0 613.0 243.0 569.0 778.0 683.0 592.0 319.0 186.0 840.0 647.0 191.0\n",
      " 373.0 437.0 598.0 716.0 585.0 982.0 222.0 219.0 55.0 948.0 323.0 691.0\n",
      " 511.0 951.0 963.0 25.0 554.0 351.0 27.0 82.0 208.0 913.0 514.0 551.0 29.0\n",
      " 103.0 898.0 743.0 116.0 153.0 209.0 353.0 499.0 173.0 597.0 809.0 122.0\n",
      " 411.0 400.0 801.0 787.0 237.0 50.0 643.0 986.0 97.0 516.0 837.0 780.0\n",
      " 961.0 269.0 20.0 498.0 600.0 749.0 642.0 881.0 72.0 656.0 601.0 221.0\n",
      " 228.0 108.0 940.0 176.0 33.0 663.0 34.0 942.0 259.0 164.0 458.0 245.0\n",
      " 629.0 28.0 288.0 775.0 785.0 636.0 916.0 994.0 309.0 485.0 914.0 903.0\n",
      " 608.0 500.0 54.0 562.0 847.0 957.0 688.0 811.0 270.0 48.0 329.0 523.0\n",
      " 921.0 874.0 981.0 784.0 280.0 24.0 518.0 754.0 892.0 154.0 860.0 364.0\n",
      " 387.0 626.0 161.0 879.0 39.0 970.0 170.0 141.0 160.0 144.0 143.0 190.0\n",
      " 376.0 193.0 246.0 73.0 658.0 992.0 253.0 420.0 404.0 470.0 226.0 240.0\n",
      " 89.0 234.0 257.0 861.0 467.0 157.0 44.0 676.0 67.0 552.0 885.0 1020.0\n",
      " 582.0 619.0]\n",
      "Installs: has unique values : ['10000' '500000' '5000000' '50000000' '100000' '50000' '1000000'\n",
      " '10000000' '5000' '100000000' '1000000000' '1000' '500000000' '50' '100'\n",
      " '500' '10' '1' '5' '0']\n",
      "Type: has unique values : ['Free' 'Paid' nan]\n",
      "Price: has unique values : ['0' '$4.99' '$3.99' '$6.99' '$1.49' '$2.99' '$7.99' '$5.99' '$3.49'\n",
      " '$1.99' '$9.99' '$7.49' '$0.99' '$9.00' '$5.49' '$10.00' '$24.99'\n",
      " '$11.99' '$79.99' '$16.99' '$14.99' '$1.00' '$29.99' '$12.99' '$2.49'\n",
      " '$10.99' '$1.50' '$19.99' '$15.99' '$33.99' '$74.99' '$39.99' '$3.95'\n",
      " '$4.49' '$1.70' '$8.99' '$2.00' '$3.88' '$25.99' '$399.99' '$17.99'\n",
      " '$400.00' '$3.02' '$1.76' '$4.84' '$4.77' '$1.61' '$2.50' '$1.59' '$6.49'\n",
      " '$1.29' '$5.00' '$13.99' '$299.99' '$379.99' '$37.99' '$18.99' '$389.99'\n",
      " '$19.90' '$8.49' '$1.75' '$14.00' '$4.85' '$46.99' '$109.99' '$154.99'\n",
      " '$3.08' '$2.59' '$4.80' '$1.96' '$19.40' '$3.90' '$4.59' '$15.46' '$3.04'\n",
      " '$4.29' '$2.60' '$3.28' '$4.60' '$28.99' '$2.95' '$2.90' '$1.97'\n",
      " '$200.00' '$89.99' '$2.56' '$30.99' '$3.61' '$394.99' '$1.26' '$1.20'\n",
      " '$1.04']\n",
      "Content Rating: has unique values : ['Everyone' 'Teen' 'Everyone 10+' 'Mature 17+' 'Adults only 18+' 'Unrated']\n",
      "Genres: has unique values : ['Art & Design' 'Art & Design;Pretend Play' 'Art & Design;Creativity'\n",
      " 'Art & Design;Action & Adventure' 'Auto & Vehicles' 'Beauty'\n",
      " 'Books & Reference' 'Business' 'Comics' 'Comics;Creativity'\n",
      " 'Communication' 'Dating' 'Education;Education' 'Education'\n",
      " 'Education;Creativity' 'Education;Music & Video'\n",
      " 'Education;Action & Adventure' 'Education;Pretend Play'\n",
      " 'Education;Brain Games' 'Entertainment' 'Entertainment;Music & Video'\n",
      " 'Entertainment;Brain Games' 'Entertainment;Creativity' 'Events' 'Finance'\n",
      " 'Food & Drink' 'Health & Fitness' 'House & Home' 'Libraries & Demo'\n",
      " 'Lifestyle' 'Lifestyle;Pretend Play' 'Adventure;Action & Adventure'\n",
      " 'Arcade' 'Casual' 'Card' 'Casual;Pretend Play' 'Action' 'Strategy'\n",
      " 'Puzzle' 'Sports' 'Music' 'Word' 'Racing' 'Casual;Creativity'\n",
      " 'Casual;Action & Adventure' 'Simulation' 'Adventure' 'Board' 'Trivia'\n",
      " 'Role Playing' 'Simulation;Education' 'Action;Action & Adventure'\n",
      " 'Casual;Brain Games' 'Simulation;Action & Adventure'\n",
      " 'Educational;Creativity' 'Puzzle;Brain Games' 'Educational;Education'\n",
      " 'Card;Brain Games' 'Educational;Brain Games' 'Educational;Pretend Play'\n",
      " 'Entertainment;Education' 'Casual;Education' 'Music;Music & Video'\n",
      " 'Racing;Action & Adventure' 'Arcade;Pretend Play'\n",
      " 'Role Playing;Action & Adventure' 'Simulation;Pretend Play'\n",
      " 'Puzzle;Creativity' 'Sports;Action & Adventure'\n",
      " 'Educational;Action & Adventure' 'Arcade;Action & Adventure'\n",
      " 'Entertainment;Action & Adventure' 'Puzzle;Action & Adventure'\n",
      " 'Strategy;Action & Adventure' 'Music & Audio;Music & Video'\n",
      " 'Health & Fitness;Education' 'Adventure;Education' 'Board;Brain Games'\n",
      " 'Board;Action & Adventure' 'Board;Pretend Play' 'Casual;Music & Video'\n",
      " 'Role Playing;Pretend Play' 'Entertainment;Pretend Play'\n",
      " 'Video Players & Editors;Creativity' 'Card;Action & Adventure' 'Medical'\n",
      " 'Social' 'Shopping' 'Photography' 'Travel & Local'\n",
      " 'Travel & Local;Action & Adventure' 'Tools' 'Tools;Education'\n",
      " 'Personalization' 'Productivity' 'Parenting' 'Parenting;Music & Video'\n",
      " 'Parenting;Education' 'Parenting;Brain Games' 'Weather'\n",
      " 'Video Players & Editors' 'Video Players & Editors;Music & Video'\n",
      " 'News & Magazines' 'Maps & Navigation'\n",
      " 'Health & Fitness;Action & Adventure' 'Educational' 'Casino'\n",
      " 'Adventure;Brain Games' 'Trivia;Education' 'Lifestyle;Education'\n",
      " 'Books & Reference;Creativity' 'Books & Reference;Education'\n",
      " 'Puzzle;Education' 'Role Playing;Education' 'Role Playing;Brain Games'\n",
      " 'Strategy;Education' 'Racing;Pretend Play' 'Communication;Creativity'\n",
      " 'Strategy;Creativity']\n",
      "Last Updated: has unique values : ['January 7, 2018' 'January 15, 2018' 'August 1, 2018' ...\n",
      " 'January 20, 2014' 'February 16, 2014' 'March 23, 2014']\n",
      "Current Ver: has unique values : ['1.0.0' '2.0.0' '1.2.4' ... '1.0.612928' '0.3.4' '2.0.148.0']\n",
      "Android Ver: has unique values : ['4.0.3 and up' '4.2 and up' '4.4 and up' '2.3 and up' '3.0 and up'\n",
      " '4.1 and up' '4.0 and up' '2.3.3 and up' 'Varies with device'\n",
      " '2.2 and up' '5.0 and up' '6.0 and up' '1.6 and up' '1.5 and up'\n",
      " '2.1 and up' '7.0 and up' '5.1 and up' '4.3 and up' '4.0.3 - 7.1.1'\n",
      " '2.0 and up' '3.2 and up' '4.4W and up' '7.1 and up' '7.0 - 7.1.1'\n",
      " '8.0 and up' '5.0 - 8.0' '3.1 and up' '2.0.1 and up' '4.1 - 7.1.1' nan\n",
      " '5.0 - 6.0' '1.0 and up' '2.2 - 7.1.1' '5.0 - 7.1.1']\n"
     ]
    }
   ],
   "source": [
    "for i in df_copy.columns:\n",
    "    print(f'{i}: has unique values : {df_copy[i].unique()}')"
   ]
  },
  {
   "cell_type": "code",
   "execution_count": 26,
   "id": "e8016d3a-e328-43f7-9808-219febbec204",
   "metadata": {},
   "outputs": [],
   "source": [
    "df_copy['Price'] = df_copy['Price'].str.replace('$', '')"
   ]
  },
  {
   "cell_type": "code",
   "execution_count": 27,
   "id": "47081956-0050-4d42-9674-c25853635278",
   "metadata": {},
   "outputs": [
    {
     "data": {
      "text/plain": [
       "array(['0', '4.99', '3.99', '6.99', '1.49', '2.99', '7.99', '5.99',\n",
       "       '3.49', '1.99', '9.99', '7.49', '0.99', '9.00', '5.49', '10.00',\n",
       "       '24.99', '11.99', '79.99', '16.99', '14.99', '1.00', '29.99',\n",
       "       '12.99', '2.49', '10.99', '1.50', '19.99', '15.99', '33.99',\n",
       "       '74.99', '39.99', '3.95', '4.49', '1.70', '8.99', '2.00', '3.88',\n",
       "       '25.99', '399.99', '17.99', '400.00', '3.02', '1.76', '4.84',\n",
       "       '4.77', '1.61', '2.50', '1.59', '6.49', '1.29', '5.00', '13.99',\n",
       "       '299.99', '379.99', '37.99', '18.99', '389.99', '19.90', '8.49',\n",
       "       '1.75', '14.00', '4.85', '46.99', '109.99', '154.99', '3.08',\n",
       "       '2.59', '4.80', '1.96', '19.40', '3.90', '4.59', '15.46', '3.04',\n",
       "       '4.29', '2.60', '3.28', '4.60', '28.99', '2.95', '2.90', '1.97',\n",
       "       '200.00', '89.99', '2.56', '30.99', '3.61', '394.99', '1.26',\n",
       "       '1.20', '1.04'], dtype=object)"
      ]
     },
     "execution_count": 27,
     "metadata": {},
     "output_type": "execute_result"
    }
   ],
   "source": [
    "df_copy['Price'].unique()"
   ]
  },
  {
   "cell_type": "code",
   "execution_count": 28,
   "id": "f402763a-641d-4435-a1b7-4773e743dbbf",
   "metadata": {},
   "outputs": [
    {
     "data": {
      "text/plain": [
       "0        0.0\n",
       "1        0.0\n",
       "2        0.0\n",
       "3        0.0\n",
       "4        0.0\n",
       "        ... \n",
       "10352    0.0\n",
       "10353    0.0\n",
       "10354    0.0\n",
       "10355    0.0\n",
       "10356    0.0\n",
       "Name: Price, Length: 10357, dtype: float64"
      ]
     },
     "execution_count": 28,
     "metadata": {},
     "output_type": "execute_result"
    }
   ],
   "source": [
    "df_copy['Price'].astype(float)"
   ]
  },
  {
   "cell_type": "code",
   "execution_count": 29,
   "id": "78e90dab-fee0-44ae-bf69-1add43accd24",
   "metadata": {},
   "outputs": [
    {
     "name": "stdout",
     "output_type": "stream",
     "text": [
      "App: has unique values : ['Photo Editor & Candy Camera & Grid & ScrapBook' 'Coloring book moana'\n",
      " 'U Launcher Lite – FREE Live Cool Themes, Hide Apps' ...\n",
      " 'Parkinson Exercices FR' 'The SCP Foundation DB fr nn5n'\n",
      " 'iHoroscope - 2018 Daily Horoscope & Astrology']\n",
      "Category: has unique values : ['ART_AND_DESIGN' 'AUTO_AND_VEHICLES' 'BEAUTY' 'BOOKS_AND_REFERENCE'\n",
      " 'BUSINESS' 'COMICS' 'COMMUNICATION' 'DATING' 'EDUCATION' 'ENTERTAINMENT'\n",
      " 'EVENTS' 'FINANCE' 'FOOD_AND_DRINK' 'HEALTH_AND_FITNESS' 'HOUSE_AND_HOME'\n",
      " 'LIBRARIES_AND_DEMO' 'LIFESTYLE' 'GAME' 'FAMILY' 'MEDICAL' 'SOCIAL'\n",
      " 'SHOPPING' 'PHOTOGRAPHY' 'SPORTS' 'TRAVEL_AND_LOCAL' 'TOOLS'\n",
      " 'PERSONALIZATION' 'PRODUCTIVITY' 'PARENTING' 'WEATHER' 'VIDEO_PLAYERS'\n",
      " 'NEWS_AND_MAGAZINES' 'MAPS_AND_NAVIGATION']\n",
      "Rating: has unique values : [4.1 3.9 4.7 4.5 4.3 4.4 3.8 4.2 4.6 3.2 4.  nan 4.8 4.9 3.6 3.7 3.3 3.4\n",
      " 3.5 3.1 5.  2.6 3.  1.9 2.5 2.8 2.7 1.  2.9 2.3 2.2 1.7 2.  1.8 2.4 1.6\n",
      " 2.1 1.4 1.5 1.2]\n",
      "Reviews: has unique values : ['159' '967' '87510' ... '603' '1195' '398307']\n",
      "Size: has unique values : [19456.0 14336.0 8908.8 25600.0 2867.2 5734.4 29696.0 33792.0 3174.4\n",
      " 28672.0 12288.0 20480.0 21504.0 37888.0 2764.8 5632.0 17408.0 39936.0\n",
      " 31744.0 4300.8 7168.0 23552.0 6144.0 6246.4 4710.4 9420.8 5324.8 11264.0\n",
      " 24576.0 'nan' 9625.6 15360.0 10240.0 1228.8 26624.0 8192.0 8089.6 57344.0\n",
      " 58368.0 35840.0 55296.0 201.0 3686.4 5836.8 8806.4 2457.6 27648.0 2560.0\n",
      " 16384.0 3481.6 9113.6 3993.6 2969.6 38912.0 32768.0 5529.6 18432.0 1126.4\n",
      " 2252.8 4608.0 10035.2 53248.0 9216.0 6860.8 30720.0 2662.4 7270.4 3788.8\n",
      " 22528.0 7577.6 6553.6 3276.8 8396.8 10137.6 5017.6 9728.0 5120.0 6041.6\n",
      " 13312.0 74752.0 6963.2 3584.0 4096.0 2355.2 7372.8 2150.4 43008.0 7475.2\n",
      " 9318.4 56320.0 23.0 6656.0 1536.0 7680.0 52224.0 41984.0 49152.0 8704.0\n",
      " 47104.0 8499.2 4403.2 4812.8 3379.2 40960.0 7987.2 9011.2 6758.4 5222.4\n",
      " 62464.0 67584.0 79.0 8601.6 118.0 45056.0 695.0 1638.4 6348.8 18.0\n",
      " 54272.0 1433.6 3072.0 5939.2 3891.2 9830.4 46080.0 64512.0 50176.0\n",
      " 78848.0 4505.6 4915.2 71680.0 7065.6 9523.2 8294.4 36864.0 86016.0\n",
      " 99328.0 2048.0 1945.6 1843.2 5427.2 48128.0 556.0 526.0 77824.0 7782.4\n",
      " 60416.0 9932.8 79872.0 73728.0 44032.0 7884.8 6451.2 334.0 34816.0\n",
      " 95232.0 66560.0 80896.0 102400.0 59392.0 51200.0 69632.0 65536.0 68608.0\n",
      " 61440.0 96256.0 232.0 101376.0 624.0 97280.0 8.5 41.0 292.0 11.0 81920.0\n",
      " 1740.8 75776.0 63488.0 70656.0 76800.0 100352.0 87040.0 83968.0 98304.0\n",
      " 89088.0 72704.0 88064.0 93184.0 82944.0 94208.0 84992.0 90112.0 704.0\n",
      " 862.0 899.0 378.0 266.0 375.0 1331.2 975.0 980.0 4198.4 91136.0 696.0\n",
      " 544.0 525.0 920.0 779.0 853.0 720.0 713.0 772.0 318.0 58.0 241.0 196.0\n",
      " 857.0 51.0 953.0 865.0 251.0 930.0 540.0 313.0 746.0 203.0 26.0 314.0\n",
      " 239.0 371.0 220.0 730.0 756.0 91.0 293.0 17.0 74.0 14.0 317.0 78.0 924.0\n",
      " 902.0 818.0 81.0 939.0 169.0 45.0 475.0 965.0 92160.0 545.0 61.0 283.0\n",
      " 655.0 714.0 93.0 872.0 121.0 322.0 1024.0 976.0 172.0 238.0 549.0 206.0\n",
      " 954.0 444.0 717.0 210.0 609.0 308.0 705.0 306.0 904.0 473.0 175.0 350.0\n",
      " 383.0 454.0 421.0 70.0 812.0 442.0 842.0 417.0 412.0 459.0 478.0 335.0\n",
      " 782.0 721.0 430.0 429.0 192.0 200.0 460.0 728.0 496.0 816.0 414.0 506.0\n",
      " 887.0 613.0 243.0 569.0 778.0 683.0 592.0 319.0 186.0 840.0 647.0 191.0\n",
      " 373.0 437.0 598.0 716.0 585.0 982.0 222.0 219.0 55.0 948.0 323.0 691.0\n",
      " 511.0 951.0 963.0 25.0 554.0 351.0 27.0 82.0 208.0 913.0 514.0 551.0 29.0\n",
      " 103.0 898.0 743.0 116.0 153.0 209.0 353.0 499.0 173.0 597.0 809.0 122.0\n",
      " 411.0 400.0 801.0 787.0 237.0 50.0 643.0 986.0 97.0 516.0 837.0 780.0\n",
      " 961.0 269.0 20.0 498.0 600.0 749.0 642.0 881.0 72.0 656.0 601.0 221.0\n",
      " 228.0 108.0 940.0 176.0 33.0 663.0 34.0 942.0 259.0 164.0 458.0 245.0\n",
      " 629.0 28.0 288.0 775.0 785.0 636.0 916.0 994.0 309.0 485.0 914.0 903.0\n",
      " 608.0 500.0 54.0 562.0 847.0 957.0 688.0 811.0 270.0 48.0 329.0 523.0\n",
      " 921.0 874.0 981.0 784.0 280.0 24.0 518.0 754.0 892.0 154.0 860.0 364.0\n",
      " 387.0 626.0 161.0 879.0 39.0 970.0 170.0 141.0 160.0 144.0 143.0 190.0\n",
      " 376.0 193.0 246.0 73.0 658.0 992.0 253.0 420.0 404.0 470.0 226.0 240.0\n",
      " 89.0 234.0 257.0 861.0 467.0 157.0 44.0 676.0 67.0 552.0 885.0 1020.0\n",
      " 582.0 619.0]\n",
      "Installs: has unique values : ['10000' '500000' '5000000' '50000000' '100000' '50000' '1000000'\n",
      " '10000000' '5000' '100000000' '1000000000' '1000' '500000000' '50' '100'\n",
      " '500' '10' '1' '5' '0']\n",
      "Type: has unique values : ['Free' 'Paid' nan]\n",
      "Price: has unique values : ['0' '4.99' '3.99' '6.99' '1.49' '2.99' '7.99' '5.99' '3.49' '1.99' '9.99'\n",
      " '7.49' '0.99' '9.00' '5.49' '10.00' '24.99' '11.99' '79.99' '16.99'\n",
      " '14.99' '1.00' '29.99' '12.99' '2.49' '10.99' '1.50' '19.99' '15.99'\n",
      " '33.99' '74.99' '39.99' '3.95' '4.49' '1.70' '8.99' '2.00' '3.88' '25.99'\n",
      " '399.99' '17.99' '400.00' '3.02' '1.76' '4.84' '4.77' '1.61' '2.50'\n",
      " '1.59' '6.49' '1.29' '5.00' '13.99' '299.99' '379.99' '37.99' '18.99'\n",
      " '389.99' '19.90' '8.49' '1.75' '14.00' '4.85' '46.99' '109.99' '154.99'\n",
      " '3.08' '2.59' '4.80' '1.96' '19.40' '3.90' '4.59' '15.46' '3.04' '4.29'\n",
      " '2.60' '3.28' '4.60' '28.99' '2.95' '2.90' '1.97' '200.00' '89.99' '2.56'\n",
      " '30.99' '3.61' '394.99' '1.26' '1.20' '1.04']\n",
      "Content Rating: has unique values : ['Everyone' 'Teen' 'Everyone 10+' 'Mature 17+' 'Adults only 18+' 'Unrated']\n",
      "Genres: has unique values : ['Art & Design' 'Art & Design;Pretend Play' 'Art & Design;Creativity'\n",
      " 'Art & Design;Action & Adventure' 'Auto & Vehicles' 'Beauty'\n",
      " 'Books & Reference' 'Business' 'Comics' 'Comics;Creativity'\n",
      " 'Communication' 'Dating' 'Education;Education' 'Education'\n",
      " 'Education;Creativity' 'Education;Music & Video'\n",
      " 'Education;Action & Adventure' 'Education;Pretend Play'\n",
      " 'Education;Brain Games' 'Entertainment' 'Entertainment;Music & Video'\n",
      " 'Entertainment;Brain Games' 'Entertainment;Creativity' 'Events' 'Finance'\n",
      " 'Food & Drink' 'Health & Fitness' 'House & Home' 'Libraries & Demo'\n",
      " 'Lifestyle' 'Lifestyle;Pretend Play' 'Adventure;Action & Adventure'\n",
      " 'Arcade' 'Casual' 'Card' 'Casual;Pretend Play' 'Action' 'Strategy'\n",
      " 'Puzzle' 'Sports' 'Music' 'Word' 'Racing' 'Casual;Creativity'\n",
      " 'Casual;Action & Adventure' 'Simulation' 'Adventure' 'Board' 'Trivia'\n",
      " 'Role Playing' 'Simulation;Education' 'Action;Action & Adventure'\n",
      " 'Casual;Brain Games' 'Simulation;Action & Adventure'\n",
      " 'Educational;Creativity' 'Puzzle;Brain Games' 'Educational;Education'\n",
      " 'Card;Brain Games' 'Educational;Brain Games' 'Educational;Pretend Play'\n",
      " 'Entertainment;Education' 'Casual;Education' 'Music;Music & Video'\n",
      " 'Racing;Action & Adventure' 'Arcade;Pretend Play'\n",
      " 'Role Playing;Action & Adventure' 'Simulation;Pretend Play'\n",
      " 'Puzzle;Creativity' 'Sports;Action & Adventure'\n",
      " 'Educational;Action & Adventure' 'Arcade;Action & Adventure'\n",
      " 'Entertainment;Action & Adventure' 'Puzzle;Action & Adventure'\n",
      " 'Strategy;Action & Adventure' 'Music & Audio;Music & Video'\n",
      " 'Health & Fitness;Education' 'Adventure;Education' 'Board;Brain Games'\n",
      " 'Board;Action & Adventure' 'Board;Pretend Play' 'Casual;Music & Video'\n",
      " 'Role Playing;Pretend Play' 'Entertainment;Pretend Play'\n",
      " 'Video Players & Editors;Creativity' 'Card;Action & Adventure' 'Medical'\n",
      " 'Social' 'Shopping' 'Photography' 'Travel & Local'\n",
      " 'Travel & Local;Action & Adventure' 'Tools' 'Tools;Education'\n",
      " 'Personalization' 'Productivity' 'Parenting' 'Parenting;Music & Video'\n",
      " 'Parenting;Education' 'Parenting;Brain Games' 'Weather'\n",
      " 'Video Players & Editors' 'Video Players & Editors;Music & Video'\n",
      " 'News & Magazines' 'Maps & Navigation'\n",
      " 'Health & Fitness;Action & Adventure' 'Educational' 'Casino'\n",
      " 'Adventure;Brain Games' 'Trivia;Education' 'Lifestyle;Education'\n",
      " 'Books & Reference;Creativity' 'Books & Reference;Education'\n",
      " 'Puzzle;Education' 'Role Playing;Education' 'Role Playing;Brain Games'\n",
      " 'Strategy;Education' 'Racing;Pretend Play' 'Communication;Creativity'\n",
      " 'Strategy;Creativity']\n",
      "Last Updated: has unique values : ['January 7, 2018' 'January 15, 2018' 'August 1, 2018' ...\n",
      " 'January 20, 2014' 'February 16, 2014' 'March 23, 2014']\n",
      "Current Ver: has unique values : ['1.0.0' '2.0.0' '1.2.4' ... '1.0.612928' '0.3.4' '2.0.148.0']\n",
      "Android Ver: has unique values : ['4.0.3 and up' '4.2 and up' '4.4 and up' '2.3 and up' '3.0 and up'\n",
      " '4.1 and up' '4.0 and up' '2.3.3 and up' 'Varies with device'\n",
      " '2.2 and up' '5.0 and up' '6.0 and up' '1.6 and up' '1.5 and up'\n",
      " '2.1 and up' '7.0 and up' '5.1 and up' '4.3 and up' '4.0.3 - 7.1.1'\n",
      " '2.0 and up' '3.2 and up' '4.4W and up' '7.1 and up' '7.0 - 7.1.1'\n",
      " '8.0 and up' '5.0 - 8.0' '3.1 and up' '2.0.1 and up' '4.1 - 7.1.1' nan\n",
      " '5.0 - 6.0' '1.0 and up' '2.2 - 7.1.1' '5.0 - 7.1.1']\n"
     ]
    }
   ],
   "source": [
    "for i in df_copy.columns:\n",
    "    print(f'{i}: has unique values : {df_copy[i].unique()}')"
   ]
  },
  {
   "cell_type": "code",
   "execution_count": 30,
   "id": "28410011-67fa-4e83-b96a-04fd05c7e013",
   "metadata": {},
   "outputs": [],
   "source": [
    "df_copy['Last Updated'] = pd.to_datetime(df_copy['Last Updated'])"
   ]
  },
  {
   "cell_type": "code",
   "execution_count": 31,
   "id": "80f62186-6ff2-4ad1-8c67-4bb22280d701",
   "metadata": {},
   "outputs": [],
   "source": [
    "df_copy['day'] = df_copy['Last Updated'].dt.day\n",
    "df_copy['month'] = df_copy['Last Updated'].dt.month\n",
    "df_copy['year'] = df_copy['Last Updated'].dt.year"
   ]
  },
  {
   "cell_type": "code",
   "execution_count": 32,
   "id": "fd2a5b27-33e5-4f53-b489-edb3cc6f2ada",
   "metadata": {},
   "outputs": [],
   "source": [
    "# drop the 'last Updated' column:"
   ]
  },
  {
   "cell_type": "code",
   "execution_count": 33,
   "id": "978e5137-17bd-4f48-8ed0-89f2902dd6c8",
   "metadata": {},
   "outputs": [],
   "source": [
    "df_copy.drop('Last Updated', axis=1, inplace=True)"
   ]
  },
  {
   "cell_type": "code",
   "execution_count": 34,
   "id": "c7d7b9a7-766d-44c6-941b-d1156f309c97",
   "metadata": {},
   "outputs": [
    {
     "data": {
      "text/html": [
       "<div>\n",
       "<style scoped>\n",
       "    .dataframe tbody tr th:only-of-type {\n",
       "        vertical-align: middle;\n",
       "    }\n",
       "\n",
       "    .dataframe tbody tr th {\n",
       "        vertical-align: top;\n",
       "    }\n",
       "\n",
       "    .dataframe thead th {\n",
       "        text-align: right;\n",
       "    }\n",
       "</style>\n",
       "<table border=\"1\" class=\"dataframe\">\n",
       "  <thead>\n",
       "    <tr style=\"text-align: right;\">\n",
       "      <th></th>\n",
       "      <th>App</th>\n",
       "      <th>Category</th>\n",
       "      <th>Rating</th>\n",
       "      <th>Reviews</th>\n",
       "      <th>Size</th>\n",
       "      <th>Installs</th>\n",
       "      <th>Type</th>\n",
       "      <th>Price</th>\n",
       "      <th>Content Rating</th>\n",
       "      <th>Genres</th>\n",
       "      <th>Current Ver</th>\n",
       "      <th>Android Ver</th>\n",
       "      <th>day</th>\n",
       "      <th>month</th>\n",
       "      <th>year</th>\n",
       "    </tr>\n",
       "  </thead>\n",
       "  <tbody>\n",
       "    <tr>\n",
       "      <th>0</th>\n",
       "      <td>Photo Editor &amp; Candy Camera &amp; Grid &amp; ScrapBook</td>\n",
       "      <td>ART_AND_DESIGN</td>\n",
       "      <td>4.1</td>\n",
       "      <td>159</td>\n",
       "      <td>19456.0</td>\n",
       "      <td>10000</td>\n",
       "      <td>Free</td>\n",
       "      <td>0</td>\n",
       "      <td>Everyone</td>\n",
       "      <td>Art &amp; Design</td>\n",
       "      <td>1.0.0</td>\n",
       "      <td>4.0.3 and up</td>\n",
       "      <td>7</td>\n",
       "      <td>1</td>\n",
       "      <td>2018</td>\n",
       "    </tr>\n",
       "    <tr>\n",
       "      <th>1</th>\n",
       "      <td>Coloring book moana</td>\n",
       "      <td>ART_AND_DESIGN</td>\n",
       "      <td>3.9</td>\n",
       "      <td>967</td>\n",
       "      <td>14336.0</td>\n",
       "      <td>500000</td>\n",
       "      <td>Free</td>\n",
       "      <td>0</td>\n",
       "      <td>Everyone</td>\n",
       "      <td>Art &amp; Design;Pretend Play</td>\n",
       "      <td>2.0.0</td>\n",
       "      <td>4.0.3 and up</td>\n",
       "      <td>15</td>\n",
       "      <td>1</td>\n",
       "      <td>2018</td>\n",
       "    </tr>\n",
       "    <tr>\n",
       "      <th>2</th>\n",
       "      <td>U Launcher Lite – FREE Live Cool Themes, Hide ...</td>\n",
       "      <td>ART_AND_DESIGN</td>\n",
       "      <td>4.7</td>\n",
       "      <td>87510</td>\n",
       "      <td>8908.8</td>\n",
       "      <td>5000000</td>\n",
       "      <td>Free</td>\n",
       "      <td>0</td>\n",
       "      <td>Everyone</td>\n",
       "      <td>Art &amp; Design</td>\n",
       "      <td>1.2.4</td>\n",
       "      <td>4.0.3 and up</td>\n",
       "      <td>1</td>\n",
       "      <td>8</td>\n",
       "      <td>2018</td>\n",
       "    </tr>\n",
       "    <tr>\n",
       "      <th>3</th>\n",
       "      <td>Sketch - Draw &amp; Paint</td>\n",
       "      <td>ART_AND_DESIGN</td>\n",
       "      <td>4.5</td>\n",
       "      <td>215644</td>\n",
       "      <td>25600.0</td>\n",
       "      <td>50000000</td>\n",
       "      <td>Free</td>\n",
       "      <td>0</td>\n",
       "      <td>Teen</td>\n",
       "      <td>Art &amp; Design</td>\n",
       "      <td>Varies with device</td>\n",
       "      <td>4.2 and up</td>\n",
       "      <td>8</td>\n",
       "      <td>6</td>\n",
       "      <td>2018</td>\n",
       "    </tr>\n",
       "    <tr>\n",
       "      <th>4</th>\n",
       "      <td>Pixel Draw - Number Art Coloring Book</td>\n",
       "      <td>ART_AND_DESIGN</td>\n",
       "      <td>4.3</td>\n",
       "      <td>967</td>\n",
       "      <td>2867.2</td>\n",
       "      <td>100000</td>\n",
       "      <td>Free</td>\n",
       "      <td>0</td>\n",
       "      <td>Everyone</td>\n",
       "      <td>Art &amp; Design;Creativity</td>\n",
       "      <td>1.1</td>\n",
       "      <td>4.4 and up</td>\n",
       "      <td>20</td>\n",
       "      <td>6</td>\n",
       "      <td>2018</td>\n",
       "    </tr>\n",
       "  </tbody>\n",
       "</table>\n",
       "</div>"
      ],
      "text/plain": [
       "                                                 App        Category  Rating  \\\n",
       "0     Photo Editor & Candy Camera & Grid & ScrapBook  ART_AND_DESIGN     4.1   \n",
       "1                                Coloring book moana  ART_AND_DESIGN     3.9   \n",
       "2  U Launcher Lite – FREE Live Cool Themes, Hide ...  ART_AND_DESIGN     4.7   \n",
       "3                              Sketch - Draw & Paint  ART_AND_DESIGN     4.5   \n",
       "4              Pixel Draw - Number Art Coloring Book  ART_AND_DESIGN     4.3   \n",
       "\n",
       "  Reviews     Size  Installs  Type Price Content Rating  \\\n",
       "0     159  19456.0     10000  Free     0       Everyone   \n",
       "1     967  14336.0    500000  Free     0       Everyone   \n",
       "2   87510   8908.8   5000000  Free     0       Everyone   \n",
       "3  215644  25600.0  50000000  Free     0           Teen   \n",
       "4     967   2867.2    100000  Free     0       Everyone   \n",
       "\n",
       "                      Genres         Current Ver   Android Ver  day  month  \\\n",
       "0               Art & Design               1.0.0  4.0.3 and up    7      1   \n",
       "1  Art & Design;Pretend Play               2.0.0  4.0.3 and up   15      1   \n",
       "2               Art & Design               1.2.4  4.0.3 and up    1      8   \n",
       "3               Art & Design  Varies with device    4.2 and up    8      6   \n",
       "4    Art & Design;Creativity                 1.1    4.4 and up   20      6   \n",
       "\n",
       "   year  \n",
       "0  2018  \n",
       "1  2018  \n",
       "2  2018  \n",
       "3  2018  \n",
       "4  2018  "
      ]
     },
     "execution_count": 34,
     "metadata": {},
     "output_type": "execute_result"
    }
   ],
   "source": [
    "df_copy.head()"
   ]
  },
  {
   "cell_type": "code",
   "execution_count": 35,
   "id": "0732b756-4b73-47ca-a10d-c3c1fd93616e",
   "metadata": {},
   "outputs": [
    {
     "data": {
      "text/plain": [
       "array(['1.0.0', '2.0.0', '1.2.4', ..., '1.0.612928', '0.3.4', '2.0.148.0'],\n",
       "      dtype=object)"
      ]
     },
     "execution_count": 35,
     "metadata": {},
     "output_type": "execute_result"
    }
   ],
   "source": [
    "df_copy['Current Ver'].unique()"
   ]
  },
  {
   "cell_type": "code",
   "execution_count": 36,
   "id": "620b648a-b961-4222-b97f-4ff5b33c23c5",
   "metadata": {},
   "outputs": [
    {
     "data": {
      "text/plain": [
       "array(['4.0.3 and up', '4.2 and up', '4.4 and up', '2.3 and up',\n",
       "       '3.0 and up', '4.1 and up', '4.0 and up', '2.3.3 and up',\n",
       "       'Varies with device', '2.2 and up', '5.0 and up', '6.0 and up',\n",
       "       '1.6 and up', '1.5 and up', '2.1 and up', '7.0 and up',\n",
       "       '5.1 and up', '4.3 and up', '4.0.3 - 7.1.1', '2.0 and up',\n",
       "       '3.2 and up', '4.4W and up', '7.1 and up', '7.0 - 7.1.1',\n",
       "       '8.0 and up', '5.0 - 8.0', '3.1 and up', '2.0.1 and up',\n",
       "       '4.1 - 7.1.1', nan, '5.0 - 6.0', '1.0 and up', '2.2 - 7.1.1',\n",
       "       '5.0 - 7.1.1'], dtype=object)"
      ]
     },
     "execution_count": 36,
     "metadata": {},
     "output_type": "execute_result"
    }
   ],
   "source": [
    "df_copy['Android Ver'].unique()"
   ]
  },
  {
   "cell_type": "code",
   "execution_count": 37,
   "id": "b634234b-0866-426c-869c-2720a7dfe4c3",
   "metadata": {},
   "outputs": [],
   "source": [
    "df_copy['Android Ver'] = df_copy['Android Ver'].str.replace('and up', '').str.replace('Varies with device', '').str.replace('W', '')"
   ]
  },
  {
   "cell_type": "code",
   "execution_count": 38,
   "id": "8fe38d8e-8a75-4545-8aba-39aa2a194595",
   "metadata": {},
   "outputs": [
    {
     "data": {
      "text/plain": [
       "array(['4.0.3 ', '4.2 ', '4.4 ', '2.3 ', '3.0 ', '4.1 ', '4.0 ', '2.3.3 ',\n",
       "       '', '2.2 ', '5.0 ', '6.0 ', '1.6 ', '1.5 ', '2.1 ', '7.0 ', '5.1 ',\n",
       "       '4.3 ', '4.0.3 - 7.1.1', '2.0 ', '3.2 ', '7.1 ', '7.0 - 7.1.1',\n",
       "       '8.0 ', '5.0 - 8.0', '3.1 ', '2.0.1 ', '4.1 - 7.1.1', nan,\n",
       "       '5.0 - 6.0', '1.0 ', '2.2 - 7.1.1', '5.0 - 7.1.1'], dtype=object)"
      ]
     },
     "execution_count": 38,
     "metadata": {},
     "output_type": "execute_result"
    }
   ],
   "source": [
    "df_copy['Android Ver'].unique()"
   ]
  },
  {
   "cell_type": "code",
   "execution_count": 39,
   "id": "11ae6322-1f98-4cea-9aa6-99f1e8eaa16a",
   "metadata": {},
   "outputs": [
    {
     "data": {
      "text/plain": [
       "App                object\n",
       "Category           object\n",
       "Rating            float64\n",
       "Reviews            object\n",
       "Size               object\n",
       "Installs           object\n",
       "Type               object\n",
       "Price              object\n",
       "Content Rating     object\n",
       "Genres             object\n",
       "Current Ver        object\n",
       "Android Ver        object\n",
       "day                 int32\n",
       "month               int32\n",
       "year                int32\n",
       "dtype: object"
      ]
     },
     "execution_count": 39,
     "metadata": {},
     "output_type": "execute_result"
    }
   ],
   "source": [
    "df_copy.dtypes"
   ]
  },
  {
   "cell_type": "code",
   "execution_count": 40,
   "id": "5a9f874d-ea45-4b65-9d22-103f8bc58415",
   "metadata": {},
   "outputs": [
    {
     "name": "stdout",
     "output_type": "stream",
     "text": [
      "App: has unique values : ['Photo Editor & Candy Camera & Grid & ScrapBook' 'Coloring book moana'\n",
      " 'U Launcher Lite – FREE Live Cool Themes, Hide Apps' ...\n",
      " 'Parkinson Exercices FR' 'The SCP Foundation DB fr nn5n'\n",
      " 'iHoroscope - 2018 Daily Horoscope & Astrology']\n",
      "Category: has unique values : ['ART_AND_DESIGN' 'AUTO_AND_VEHICLES' 'BEAUTY' 'BOOKS_AND_REFERENCE'\n",
      " 'BUSINESS' 'COMICS' 'COMMUNICATION' 'DATING' 'EDUCATION' 'ENTERTAINMENT'\n",
      " 'EVENTS' 'FINANCE' 'FOOD_AND_DRINK' 'HEALTH_AND_FITNESS' 'HOUSE_AND_HOME'\n",
      " 'LIBRARIES_AND_DEMO' 'LIFESTYLE' 'GAME' 'FAMILY' 'MEDICAL' 'SOCIAL'\n",
      " 'SHOPPING' 'PHOTOGRAPHY' 'SPORTS' 'TRAVEL_AND_LOCAL' 'TOOLS'\n",
      " 'PERSONALIZATION' 'PRODUCTIVITY' 'PARENTING' 'WEATHER' 'VIDEO_PLAYERS'\n",
      " 'NEWS_AND_MAGAZINES' 'MAPS_AND_NAVIGATION']\n",
      "Rating: has unique values : [4.1 3.9 4.7 4.5 4.3 4.4 3.8 4.2 4.6 3.2 4.  nan 4.8 4.9 3.6 3.7 3.3 3.4\n",
      " 3.5 3.1 5.  2.6 3.  1.9 2.5 2.8 2.7 1.  2.9 2.3 2.2 1.7 2.  1.8 2.4 1.6\n",
      " 2.1 1.4 1.5 1.2]\n",
      "Reviews: has unique values : ['159' '967' '87510' ... '603' '1195' '398307']\n",
      "Size: has unique values : [19456.0 14336.0 8908.8 25600.0 2867.2 5734.4 29696.0 33792.0 3174.4\n",
      " 28672.0 12288.0 20480.0 21504.0 37888.0 2764.8 5632.0 17408.0 39936.0\n",
      " 31744.0 4300.8 7168.0 23552.0 6144.0 6246.4 4710.4 9420.8 5324.8 11264.0\n",
      " 24576.0 'nan' 9625.6 15360.0 10240.0 1228.8 26624.0 8192.0 8089.6 57344.0\n",
      " 58368.0 35840.0 55296.0 201.0 3686.4 5836.8 8806.4 2457.6 27648.0 2560.0\n",
      " 16384.0 3481.6 9113.6 3993.6 2969.6 38912.0 32768.0 5529.6 18432.0 1126.4\n",
      " 2252.8 4608.0 10035.2 53248.0 9216.0 6860.8 30720.0 2662.4 7270.4 3788.8\n",
      " 22528.0 7577.6 6553.6 3276.8 8396.8 10137.6 5017.6 9728.0 5120.0 6041.6\n",
      " 13312.0 74752.0 6963.2 3584.0 4096.0 2355.2 7372.8 2150.4 43008.0 7475.2\n",
      " 9318.4 56320.0 23.0 6656.0 1536.0 7680.0 52224.0 41984.0 49152.0 8704.0\n",
      " 47104.0 8499.2 4403.2 4812.8 3379.2 40960.0 7987.2 9011.2 6758.4 5222.4\n",
      " 62464.0 67584.0 79.0 8601.6 118.0 45056.0 695.0 1638.4 6348.8 18.0\n",
      " 54272.0 1433.6 3072.0 5939.2 3891.2 9830.4 46080.0 64512.0 50176.0\n",
      " 78848.0 4505.6 4915.2 71680.0 7065.6 9523.2 8294.4 36864.0 86016.0\n",
      " 99328.0 2048.0 1945.6 1843.2 5427.2 48128.0 556.0 526.0 77824.0 7782.4\n",
      " 60416.0 9932.8 79872.0 73728.0 44032.0 7884.8 6451.2 334.0 34816.0\n",
      " 95232.0 66560.0 80896.0 102400.0 59392.0 51200.0 69632.0 65536.0 68608.0\n",
      " 61440.0 96256.0 232.0 101376.0 624.0 97280.0 8.5 41.0 292.0 11.0 81920.0\n",
      " 1740.8 75776.0 63488.0 70656.0 76800.0 100352.0 87040.0 83968.0 98304.0\n",
      " 89088.0 72704.0 88064.0 93184.0 82944.0 94208.0 84992.0 90112.0 704.0\n",
      " 862.0 899.0 378.0 266.0 375.0 1331.2 975.0 980.0 4198.4 91136.0 696.0\n",
      " 544.0 525.0 920.0 779.0 853.0 720.0 713.0 772.0 318.0 58.0 241.0 196.0\n",
      " 857.0 51.0 953.0 865.0 251.0 930.0 540.0 313.0 746.0 203.0 26.0 314.0\n",
      " 239.0 371.0 220.0 730.0 756.0 91.0 293.0 17.0 74.0 14.0 317.0 78.0 924.0\n",
      " 902.0 818.0 81.0 939.0 169.0 45.0 475.0 965.0 92160.0 545.0 61.0 283.0\n",
      " 655.0 714.0 93.0 872.0 121.0 322.0 1024.0 976.0 172.0 238.0 549.0 206.0\n",
      " 954.0 444.0 717.0 210.0 609.0 308.0 705.0 306.0 904.0 473.0 175.0 350.0\n",
      " 383.0 454.0 421.0 70.0 812.0 442.0 842.0 417.0 412.0 459.0 478.0 335.0\n",
      " 782.0 721.0 430.0 429.0 192.0 200.0 460.0 728.0 496.0 816.0 414.0 506.0\n",
      " 887.0 613.0 243.0 569.0 778.0 683.0 592.0 319.0 186.0 840.0 647.0 191.0\n",
      " 373.0 437.0 598.0 716.0 585.0 982.0 222.0 219.0 55.0 948.0 323.0 691.0\n",
      " 511.0 951.0 963.0 25.0 554.0 351.0 27.0 82.0 208.0 913.0 514.0 551.0 29.0\n",
      " 103.0 898.0 743.0 116.0 153.0 209.0 353.0 499.0 173.0 597.0 809.0 122.0\n",
      " 411.0 400.0 801.0 787.0 237.0 50.0 643.0 986.0 97.0 516.0 837.0 780.0\n",
      " 961.0 269.0 20.0 498.0 600.0 749.0 642.0 881.0 72.0 656.0 601.0 221.0\n",
      " 228.0 108.0 940.0 176.0 33.0 663.0 34.0 942.0 259.0 164.0 458.0 245.0\n",
      " 629.0 28.0 288.0 775.0 785.0 636.0 916.0 994.0 309.0 485.0 914.0 903.0\n",
      " 608.0 500.0 54.0 562.0 847.0 957.0 688.0 811.0 270.0 48.0 329.0 523.0\n",
      " 921.0 874.0 981.0 784.0 280.0 24.0 518.0 754.0 892.0 154.0 860.0 364.0\n",
      " 387.0 626.0 161.0 879.0 39.0 970.0 170.0 141.0 160.0 144.0 143.0 190.0\n",
      " 376.0 193.0 246.0 73.0 658.0 992.0 253.0 420.0 404.0 470.0 226.0 240.0\n",
      " 89.0 234.0 257.0 861.0 467.0 157.0 44.0 676.0 67.0 552.0 885.0 1020.0\n",
      " 582.0 619.0]\n",
      "Installs: has unique values : ['10000' '500000' '5000000' '50000000' '100000' '50000' '1000000'\n",
      " '10000000' '5000' '100000000' '1000000000' '1000' '500000000' '50' '100'\n",
      " '500' '10' '1' '5' '0']\n",
      "Type: has unique values : ['Free' 'Paid' nan]\n",
      "Price: has unique values : ['0' '4.99' '3.99' '6.99' '1.49' '2.99' '7.99' '5.99' '3.49' '1.99' '9.99'\n",
      " '7.49' '0.99' '9.00' '5.49' '10.00' '24.99' '11.99' '79.99' '16.99'\n",
      " '14.99' '1.00' '29.99' '12.99' '2.49' '10.99' '1.50' '19.99' '15.99'\n",
      " '33.99' '74.99' '39.99' '3.95' '4.49' '1.70' '8.99' '2.00' '3.88' '25.99'\n",
      " '399.99' '17.99' '400.00' '3.02' '1.76' '4.84' '4.77' '1.61' '2.50'\n",
      " '1.59' '6.49' '1.29' '5.00' '13.99' '299.99' '379.99' '37.99' '18.99'\n",
      " '389.99' '19.90' '8.49' '1.75' '14.00' '4.85' '46.99' '109.99' '154.99'\n",
      " '3.08' '2.59' '4.80' '1.96' '19.40' '3.90' '4.59' '15.46' '3.04' '4.29'\n",
      " '2.60' '3.28' '4.60' '28.99' '2.95' '2.90' '1.97' '200.00' '89.99' '2.56'\n",
      " '30.99' '3.61' '394.99' '1.26' '1.20' '1.04']\n",
      "Content Rating: has unique values : ['Everyone' 'Teen' 'Everyone 10+' 'Mature 17+' 'Adults only 18+' 'Unrated']\n",
      "Genres: has unique values : ['Art & Design' 'Art & Design;Pretend Play' 'Art & Design;Creativity'\n",
      " 'Art & Design;Action & Adventure' 'Auto & Vehicles' 'Beauty'\n",
      " 'Books & Reference' 'Business' 'Comics' 'Comics;Creativity'\n",
      " 'Communication' 'Dating' 'Education;Education' 'Education'\n",
      " 'Education;Creativity' 'Education;Music & Video'\n",
      " 'Education;Action & Adventure' 'Education;Pretend Play'\n",
      " 'Education;Brain Games' 'Entertainment' 'Entertainment;Music & Video'\n",
      " 'Entertainment;Brain Games' 'Entertainment;Creativity' 'Events' 'Finance'\n",
      " 'Food & Drink' 'Health & Fitness' 'House & Home' 'Libraries & Demo'\n",
      " 'Lifestyle' 'Lifestyle;Pretend Play' 'Adventure;Action & Adventure'\n",
      " 'Arcade' 'Casual' 'Card' 'Casual;Pretend Play' 'Action' 'Strategy'\n",
      " 'Puzzle' 'Sports' 'Music' 'Word' 'Racing' 'Casual;Creativity'\n",
      " 'Casual;Action & Adventure' 'Simulation' 'Adventure' 'Board' 'Trivia'\n",
      " 'Role Playing' 'Simulation;Education' 'Action;Action & Adventure'\n",
      " 'Casual;Brain Games' 'Simulation;Action & Adventure'\n",
      " 'Educational;Creativity' 'Puzzle;Brain Games' 'Educational;Education'\n",
      " 'Card;Brain Games' 'Educational;Brain Games' 'Educational;Pretend Play'\n",
      " 'Entertainment;Education' 'Casual;Education' 'Music;Music & Video'\n",
      " 'Racing;Action & Adventure' 'Arcade;Pretend Play'\n",
      " 'Role Playing;Action & Adventure' 'Simulation;Pretend Play'\n",
      " 'Puzzle;Creativity' 'Sports;Action & Adventure'\n",
      " 'Educational;Action & Adventure' 'Arcade;Action & Adventure'\n",
      " 'Entertainment;Action & Adventure' 'Puzzle;Action & Adventure'\n",
      " 'Strategy;Action & Adventure' 'Music & Audio;Music & Video'\n",
      " 'Health & Fitness;Education' 'Adventure;Education' 'Board;Brain Games'\n",
      " 'Board;Action & Adventure' 'Board;Pretend Play' 'Casual;Music & Video'\n",
      " 'Role Playing;Pretend Play' 'Entertainment;Pretend Play'\n",
      " 'Video Players & Editors;Creativity' 'Card;Action & Adventure' 'Medical'\n",
      " 'Social' 'Shopping' 'Photography' 'Travel & Local'\n",
      " 'Travel & Local;Action & Adventure' 'Tools' 'Tools;Education'\n",
      " 'Personalization' 'Productivity' 'Parenting' 'Parenting;Music & Video'\n",
      " 'Parenting;Education' 'Parenting;Brain Games' 'Weather'\n",
      " 'Video Players & Editors' 'Video Players & Editors;Music & Video'\n",
      " 'News & Magazines' 'Maps & Navigation'\n",
      " 'Health & Fitness;Action & Adventure' 'Educational' 'Casino'\n",
      " 'Adventure;Brain Games' 'Trivia;Education' 'Lifestyle;Education'\n",
      " 'Books & Reference;Creativity' 'Books & Reference;Education'\n",
      " 'Puzzle;Education' 'Role Playing;Education' 'Role Playing;Brain Games'\n",
      " 'Strategy;Education' 'Racing;Pretend Play' 'Communication;Creativity'\n",
      " 'Strategy;Creativity']\n",
      "Current Ver: has unique values : ['1.0.0' '2.0.0' '1.2.4' ... '1.0.612928' '0.3.4' '2.0.148.0']\n",
      "Android Ver: has unique values : ['4.0.3 ' '4.2 ' '4.4 ' '2.3 ' '3.0 ' '4.1 ' '4.0 ' '2.3.3 ' '' '2.2 '\n",
      " '5.0 ' '6.0 ' '1.6 ' '1.5 ' '2.1 ' '7.0 ' '5.1 ' '4.3 ' '4.0.3 - 7.1.1'\n",
      " '2.0 ' '3.2 ' '7.1 ' '7.0 - 7.1.1' '8.0 ' '5.0 - 8.0' '3.1 ' '2.0.1 '\n",
      " '4.1 - 7.1.1' nan '5.0 - 6.0' '1.0 ' '2.2 - 7.1.1' '5.0 - 7.1.1']\n",
      "day: has unique values : [ 7 15  1  8 20 26 14  3 27 31  2  6 30 12 25 11 21 22 19 29 17 28 10 18\n",
      " 16  4 24 23  9  5 13]\n",
      "month: has unique values : [ 1  8  6  3  4  9  7 10 11  5 12  2]\n",
      "year: has unique values : [2018 2017 2014 2016 2015 2013 2012 2011 2010]\n"
     ]
    }
   ],
   "source": [
    "for i in df_copy.columns:\n",
    "    print(f'{i}: has unique values : {df_copy[i].unique()}')"
   ]
  },
  {
   "cell_type": "code",
   "execution_count": 41,
   "id": "5f795983-da36-44e2-bac4-2661eb0297ed",
   "metadata": {},
   "outputs": [],
   "source": [
    "df_copy['Reviews'] = df_copy['Reviews'].astype(int)\n",
    "df_copy['Size'] = df_copy['Size'].astype(float)\n",
    "df_copy['Installs'] = df_copy['Installs'].astype(int)\n",
    "df_copy['Price'] = df_copy['Price'].astype(float)"
   ]
  },
  {
   "cell_type": "code",
   "execution_count": 42,
   "id": "e7144588-5c56-4ff4-a4a3-58dc74127a55",
   "metadata": {},
   "outputs": [
    {
     "data": {
      "text/plain": [
       "App                object\n",
       "Category           object\n",
       "Rating            float64\n",
       "Reviews             int32\n",
       "Size              float64\n",
       "Installs            int32\n",
       "Type               object\n",
       "Price             float64\n",
       "Content Rating     object\n",
       "Genres             object\n",
       "Current Ver        object\n",
       "Android Ver        object\n",
       "day                 int32\n",
       "month               int32\n",
       "year                int32\n",
       "dtype: object"
      ]
     },
     "execution_count": 42,
     "metadata": {},
     "output_type": "execute_result"
    }
   ],
   "source": [
    "df_copy.dtypes"
   ]
  },
  {
   "cell_type": "markdown",
   "id": "df2b454c-2bda-4cf6-ba93-7c886a62e80d",
   "metadata": {},
   "source": [
    "# Outliers and null values treatments "
   ]
  },
  {
   "cell_type": "code",
   "execution_count": 43,
   "id": "799e1027-3a8d-4f46-a0b8-391684bedbbc",
   "metadata": {},
   "outputs": [],
   "source": [
    "cat_type = [feature for feature in df_copy.columns if df_copy[feature].dtype == 'O']\n",
    "int_type = [feature for feature in df_copy.columns if df_copy[feature].dtype != 'O']"
   ]
  },
  {
   "cell_type": "code",
   "execution_count": 44,
   "id": "d3196de3-7025-4bcd-a0db-17aad541ab6f",
   "metadata": {},
   "outputs": [
    {
     "data": {
      "text/plain": [
       "['App',\n",
       " 'Category',\n",
       " 'Type',\n",
       " 'Content Rating',\n",
       " 'Genres',\n",
       " 'Current Ver',\n",
       " 'Android Ver']"
      ]
     },
     "execution_count": 44,
     "metadata": {},
     "output_type": "execute_result"
    }
   ],
   "source": [
    "cat_type"
   ]
  },
  {
   "cell_type": "code",
   "execution_count": 45,
   "id": "d076a91d-1589-4d54-b1b3-a94cd2549c2a",
   "metadata": {},
   "outputs": [
    {
     "data": {
      "text/plain": [
       "['Rating', 'Reviews', 'Size', 'Installs', 'Price', 'day', 'month', 'year']"
      ]
     },
     "execution_count": 45,
     "metadata": {},
     "output_type": "execute_result"
    }
   ],
   "source": [
    "int_type"
   ]
  },
  {
   "cell_type": "code",
   "execution_count": 46,
   "id": "823aa513-ba9e-42e9-88b2-267018f5c7c0",
   "metadata": {},
   "outputs": [
    {
     "data": {
      "text/plain": [
       "<Axes: >"
      ]
     },
     "execution_count": 46,
     "metadata": {},
     "output_type": "execute_result"
    },
    {
     "data": {
      "image/png": "[encoded data removed]",
      "text/plain": [
       "<Figure size 640x480 with 1 Axes>"
      ]
     },
     "metadata": {},
     "output_type": "display_data"
    }
   ],
   "source": [
    "sns.boxplot(df_copy[int_type])"
   ]
  },
  {
   "cell_type": "code",
   "execution_count": 47,
   "id": "7de71432-a1ca-4639-8fb2-4e7a3967f7f4",
   "metadata": {},
   "outputs": [
    {
     "data": {
      "text/html": [
       "<div>\n",
       "<style scoped>\n",
       "    .dataframe tbody tr th:only-of-type {\n",
       "        vertical-align: middle;\n",
       "    }\n",
       "\n",
       "    .dataframe tbody tr th {\n",
       "        vertical-align: top;\n",
       "    }\n",
       "\n",
       "    .dataframe thead th {\n",
       "        text-align: right;\n",
       "    }\n",
       "</style>\n",
       "<table border=\"1\" class=\"dataframe\">\n",
       "  <thead>\n",
       "    <tr style=\"text-align: right;\">\n",
       "      <th></th>\n",
       "      <th>App</th>\n",
       "      <th>Category</th>\n",
       "      <th>Rating</th>\n",
       "      <th>Reviews</th>\n",
       "      <th>Size</th>\n",
       "      <th>Installs</th>\n",
       "      <th>Type</th>\n",
       "      <th>Price</th>\n",
       "      <th>Content Rating</th>\n",
       "      <th>Genres</th>\n",
       "      <th>Current Ver</th>\n",
       "      <th>Android Ver</th>\n",
       "      <th>day</th>\n",
       "      <th>month</th>\n",
       "      <th>year</th>\n",
       "    </tr>\n",
       "  </thead>\n",
       "  <tbody>\n",
       "    <tr>\n",
       "      <th>0</th>\n",
       "      <td>Photo Editor &amp; Candy Camera &amp; Grid &amp; ScrapBook</td>\n",
       "      <td>ART_AND_DESIGN</td>\n",
       "      <td>4.1</td>\n",
       "      <td>159</td>\n",
       "      <td>19456.0</td>\n",
       "      <td>10000</td>\n",
       "      <td>Free</td>\n",
       "      <td>0.0</td>\n",
       "      <td>Everyone</td>\n",
       "      <td>Art &amp; Design</td>\n",
       "      <td>1.0.0</td>\n",
       "      <td>4.0.3</td>\n",
       "      <td>7</td>\n",
       "      <td>1</td>\n",
       "      <td>2018</td>\n",
       "    </tr>\n",
       "    <tr>\n",
       "      <th>1</th>\n",
       "      <td>Coloring book moana</td>\n",
       "      <td>ART_AND_DESIGN</td>\n",
       "      <td>3.9</td>\n",
       "      <td>967</td>\n",
       "      <td>14336.0</td>\n",
       "      <td>500000</td>\n",
       "      <td>Free</td>\n",
       "      <td>0.0</td>\n",
       "      <td>Everyone</td>\n",
       "      <td>Art &amp; Design;Pretend Play</td>\n",
       "      <td>2.0.0</td>\n",
       "      <td>4.0.3</td>\n",
       "      <td>15</td>\n",
       "      <td>1</td>\n",
       "      <td>2018</td>\n",
       "    </tr>\n",
       "    <tr>\n",
       "      <th>2</th>\n",
       "      <td>U Launcher Lite – FREE Live Cool Themes, Hide ...</td>\n",
       "      <td>ART_AND_DESIGN</td>\n",
       "      <td>4.7</td>\n",
       "      <td>87510</td>\n",
       "      <td>8908.8</td>\n",
       "      <td>5000000</td>\n",
       "      <td>Free</td>\n",
       "      <td>0.0</td>\n",
       "      <td>Everyone</td>\n",
       "      <td>Art &amp; Design</td>\n",
       "      <td>1.2.4</td>\n",
       "      <td>4.0.3</td>\n",
       "      <td>1</td>\n",
       "      <td>8</td>\n",
       "      <td>2018</td>\n",
       "    </tr>\n",
       "    <tr>\n",
       "      <th>3</th>\n",
       "      <td>Sketch - Draw &amp; Paint</td>\n",
       "      <td>ART_AND_DESIGN</td>\n",
       "      <td>4.5</td>\n",
       "      <td>215644</td>\n",
       "      <td>25600.0</td>\n",
       "      <td>50000000</td>\n",
       "      <td>Free</td>\n",
       "      <td>0.0</td>\n",
       "      <td>Teen</td>\n",
       "      <td>Art &amp; Design</td>\n",
       "      <td>Varies with device</td>\n",
       "      <td>4.2</td>\n",
       "      <td>8</td>\n",
       "      <td>6</td>\n",
       "      <td>2018</td>\n",
       "    </tr>\n",
       "    <tr>\n",
       "      <th>4</th>\n",
       "      <td>Pixel Draw - Number Art Coloring Book</td>\n",
       "      <td>ART_AND_DESIGN</td>\n",
       "      <td>4.3</td>\n",
       "      <td>967</td>\n",
       "      <td>2867.2</td>\n",
       "      <td>100000</td>\n",
       "      <td>Free</td>\n",
       "      <td>0.0</td>\n",
       "      <td>Everyone</td>\n",
       "      <td>Art &amp; Design;Creativity</td>\n",
       "      <td>1.1</td>\n",
       "      <td>4.4</td>\n",
       "      <td>20</td>\n",
       "      <td>6</td>\n",
       "      <td>2018</td>\n",
       "    </tr>\n",
       "  </tbody>\n",
       "</table>\n",
       "</div>"
      ],
      "text/plain": [
       "                                                 App        Category  Rating  \\\n",
       "0     Photo Editor & Candy Camera & Grid & ScrapBook  ART_AND_DESIGN     4.1   \n",
       "1                                Coloring book moana  ART_AND_DESIGN     3.9   \n",
       "2  U Launcher Lite – FREE Live Cool Themes, Hide ...  ART_AND_DESIGN     4.7   \n",
       "3                              Sketch - Draw & Paint  ART_AND_DESIGN     4.5   \n",
       "4              Pixel Draw - Number Art Coloring Book  ART_AND_DESIGN     4.3   \n",
       "\n",
       "   Reviews     Size  Installs  Type  Price Content Rating  \\\n",
       "0      159  19456.0     10000  Free    0.0       Everyone   \n",
       "1      967  14336.0    500000  Free    0.0       Everyone   \n",
       "2    87510   8908.8   5000000  Free    0.0       Everyone   \n",
       "3   215644  25600.0  50000000  Free    0.0           Teen   \n",
       "4      967   2867.2    100000  Free    0.0       Everyone   \n",
       "\n",
       "                      Genres         Current Ver Android Ver  day  month  year  \n",
       "0               Art & Design               1.0.0      4.0.3     7      1  2018  \n",
       "1  Art & Design;Pretend Play               2.0.0      4.0.3    15      1  2018  \n",
       "2               Art & Design               1.2.4      4.0.3     1      8  2018  \n",
       "3               Art & Design  Varies with device        4.2     8      6  2018  \n",
       "4    Art & Design;Creativity                 1.1        4.4    20      6  2018  "
      ]
     },
     "execution_count": 47,
     "metadata": {},
     "output_type": "execute_result"
    }
   ],
   "source": [
    "df_copy.head()"
   ]
  },
  {
   "cell_type": "code",
   "execution_count": 48,
   "id": "dacfb344-9af5-4f2f-8a82-ca6bb4639ef2",
   "metadata": {},
   "outputs": [],
   "source": [
    "\n",
    "th_5 = df_copy['Installs'].quantile(0.05)\n",
    "Q1 = df_copy['Installs'].quantile(0.25)\n",
    "Q2 = df_copy['Installs'].quantile(0.50)\n",
    "Q3 = df_copy['Installs'].quantile(0.75)\n",
    "th_95 = df_copy['Installs'].quantile(0.95)\n",
    "IQR = Q3 - Q1\n",
    "lf = Q1 - 1.5*IQR\n",
    "uf = Q3 + 1.5*IQR\n",
    "df_copy['Installs'] = np.where(df_copy['Installs'] <= lf, th_5,\n",
    "        np.where(df_copy['Installs'] > uf, th_95, df_copy['Installs']))\n"
   ]
  },
  {
   "cell_type": "code",
   "execution_count": 49,
   "id": "13176236-a787-472a-9d4f-ec4962991bd2",
   "metadata": {},
   "outputs": [
    {
     "data": {
      "text/plain": [
       "<Axes: >"
      ]
     },
     "execution_count": 49,
     "metadata": {},
     "output_type": "execute_result"
    },
    {
     "data": {
      "image/png": "[encoded data removed]",
      "text/plain": [
       "<Figure size 640x480 with 1 Axes>"
      ]
     },
     "metadata": {},
     "output_type": "display_data"
    }
   ],
   "source": [
    "sns.boxplot(df_copy[int_type])"
   ]
  },
  {
   "cell_type": "code",
   "execution_count": 50,
   "id": "dc85424e-240d-4ecc-8345-09ee9451eb10",
   "metadata": {},
   "outputs": [],
   "source": [
    "th_5 = df_copy['Reviews'].quantile(0.05)\n",
    "Q1 = df_copy['Reviews'].quantile(0.25)\n",
    "Q2 = df_copy['Reviews'].quantile(0.50)\n",
    "Q3 = df_copy['Reviews'].quantile(0.75)\n",
    "th_95 = df_copy['Reviews'].quantile(0.95)\n",
    "IQR = Q3 - Q1\n",
    "lf = Q1 - 1.5*IQR\n",
    "uf = Q3 + 1.5*IQR\n",
    "df_copy['Reviews'] = np.where(df_copy['Reviews'] <= lf, th_5,\n",
    "        np.where(df_copy['Reviews'] > uf, th_95, df_copy['Reviews']))"
   ]
  },
  {
   "cell_type": "code",
   "execution_count": 51,
   "id": "82a62b62-a050-4b8d-83fd-4f332ebb17a6",
   "metadata": {},
   "outputs": [
    {
     "data": {
      "text/plain": [
       "<Axes: >"
      ]
     },
     "execution_count": 51,
     "metadata": {},
     "output_type": "execute_result"
    },
    {
     "data": {
      "image/png": "[encoded data removed]",
      "text/plain": [
       "<Figure size 640x480 with 1 Axes>"
      ]
     },
     "metadata": {},
     "output_type": "display_data"
    }
   ],
   "source": [
    "sns.boxplot(df_copy[int_type])"
   ]
  },
  {
   "cell_type": "code",
   "execution_count": 52,
   "id": "a0da53fa-40ea-4bde-826d-69e7365887ca",
   "metadata": {},
   "outputs": [
    {
     "data": {
      "text/plain": [
       "App                  0\n",
       "Category             0\n",
       "Rating            1465\n",
       "Reviews              0\n",
       "Size              1526\n",
       "Installs             0\n",
       "Type                 1\n",
       "Price                0\n",
       "Content Rating       0\n",
       "Genres               0\n",
       "Current Ver          8\n",
       "Android Ver          2\n",
       "day                  0\n",
       "month                0\n",
       "year                 0\n",
       "dtype: int64"
      ]
     },
     "execution_count": 52,
     "metadata": {},
     "output_type": "execute_result"
    }
   ],
   "source": [
    "df_copy.isnull().sum()"
   ]
  },
  {
   "cell_type": "code",
   "execution_count": 53,
   "id": "ee77708d-5b3b-4564-aaa4-d43893061063",
   "metadata": {},
   "outputs": [],
   "source": [
    "df_copy['Rating'] = df_copy['Rating'].fillna(df_copy['Rating'].mean())\n",
    "df_copy['Size'] = df_copy['Size'].fillna(df_copy['Size'].mean())"
   ]
  },
  {
   "cell_type": "code",
   "execution_count": 54,
   "id": "0a01f43b-4262-451c-ad07-57586629cf01",
   "metadata": {},
   "outputs": [
    {
     "data": {
      "text/plain": [
       "App               0\n",
       "Category          0\n",
       "Rating            0\n",
       "Reviews           0\n",
       "Size              0\n",
       "Installs          0\n",
       "Type              1\n",
       "Price             0\n",
       "Content Rating    0\n",
       "Genres            0\n",
       "Current Ver       8\n",
       "Android Ver       2\n",
       "day               0\n",
       "month             0\n",
       "year              0\n",
       "dtype: int64"
      ]
     },
     "execution_count": 54,
     "metadata": {},
     "output_type": "execute_result"
    }
   ],
   "source": [
    "df_copy.isnull().sum()"
   ]
  },
  {
   "cell_type": "code",
   "execution_count": 55,
   "id": "f8ecf683-75d6-483c-a604-c06e89b2fb48",
   "metadata": {},
   "outputs": [],
   "source": [
    "df_copy.dropna(subset = ['Type','Current Ver'],inplace=True)"
   ]
  },
  {
   "cell_type": "code",
   "execution_count": 56,
   "id": "abb70cfd-83c1-4274-a835-72755249a931",
   "metadata": {},
   "outputs": [
    {
     "data": {
      "text/plain": [
       "App               0\n",
       "Category          0\n",
       "Rating            0\n",
       "Reviews           0\n",
       "Size              0\n",
       "Installs          0\n",
       "Type              0\n",
       "Price             0\n",
       "Content Rating    0\n",
       "Genres            0\n",
       "Current Ver       0\n",
       "Android Ver       2\n",
       "day               0\n",
       "month             0\n",
       "year              0\n",
       "dtype: int64"
      ]
     },
     "execution_count": 56,
     "metadata": {},
     "output_type": "execute_result"
    }
   ],
   "source": [
    "df_copy.isna().sum()"
   ]
  },
  {
   "cell_type": "code",
   "execution_count": 57,
   "id": "3329c2c3-ecbc-4925-8318-d511f6534f6e",
   "metadata": {},
   "outputs": [],
   "source": [
    "df_copy.dropna(subset=['Android Ver'],inplace=True)\n",
    "df_copy.drop('Current Ver',axis = 1, inplace = True)"
   ]
  },
  {
   "cell_type": "code",
   "execution_count": 58,
   "id": "ead8f8b3-bb75-49bd-9788-3d1505175487",
   "metadata": {},
   "outputs": [
    {
     "data": {
      "text/plain": [
       "App               0\n",
       "Category          0\n",
       "Rating            0\n",
       "Reviews           0\n",
       "Size              0\n",
       "Installs          0\n",
       "Type              0\n",
       "Price             0\n",
       "Content Rating    0\n",
       "Genres            0\n",
       "Android Ver       0\n",
       "day               0\n",
       "month             0\n",
       "year              0\n",
       "dtype: int64"
      ]
     },
     "execution_count": 58,
     "metadata": {},
     "output_type": "execute_result"
    }
   ],
   "source": [
    "df_copy.isna().sum()"
   ]
  },
  {
   "cell_type": "code",
   "execution_count": 59,
   "id": "f69eb1d2-2631-48f6-9e95-57b27b08788f",
   "metadata": {},
   "outputs": [],
   "source": [
    "df_copy.reset_index(drop=True,inplace=True)"
   ]
  },
  {
   "cell_type": "code",
   "execution_count": 60,
   "id": "63b67337-a302-4ced-97ad-371ae4edd254",
   "metadata": {},
   "outputs": [
    {
     "data": {
      "text/html": [
       "<div>\n",
       "<style scoped>\n",
       "    .dataframe tbody tr th:only-of-type {\n",
       "        vertical-align: middle;\n",
       "    }\n",
       "\n",
       "    .dataframe tbody tr th {\n",
       "        vertical-align: top;\n",
       "    }\n",
       "\n",
       "    .dataframe thead th {\n",
       "        text-align: right;\n",
       "    }\n",
       "</style>\n",
       "<table border=\"1\" class=\"dataframe\">\n",
       "  <thead>\n",
       "    <tr style=\"text-align: right;\">\n",
       "      <th></th>\n",
       "      <th>App</th>\n",
       "      <th>Category</th>\n",
       "      <th>Rating</th>\n",
       "      <th>Reviews</th>\n",
       "      <th>Size</th>\n",
       "      <th>Installs</th>\n",
       "      <th>Type</th>\n",
       "      <th>Price</th>\n",
       "      <th>Content Rating</th>\n",
       "      <th>Genres</th>\n",
       "      <th>Android Ver</th>\n",
       "      <th>day</th>\n",
       "      <th>month</th>\n",
       "      <th>year</th>\n",
       "    </tr>\n",
       "  </thead>\n",
       "  <tbody>\n",
       "    <tr>\n",
       "      <th>0</th>\n",
       "      <td>Photo Editor &amp; Candy Camera &amp; Grid &amp; ScrapBook</td>\n",
       "      <td>ART_AND_DESIGN</td>\n",
       "      <td>4.1</td>\n",
       "      <td>159.0</td>\n",
       "      <td>19456.0</td>\n",
       "      <td>10000.0</td>\n",
       "      <td>Free</td>\n",
       "      <td>0.0</td>\n",
       "      <td>Everyone</td>\n",
       "      <td>Art &amp; Design</td>\n",
       "      <td>4.0.3</td>\n",
       "      <td>7</td>\n",
       "      <td>1</td>\n",
       "      <td>2018</td>\n",
       "    </tr>\n",
       "    <tr>\n",
       "      <th>1</th>\n",
       "      <td>Coloring book moana</td>\n",
       "      <td>ART_AND_DESIGN</td>\n",
       "      <td>3.9</td>\n",
       "      <td>967.0</td>\n",
       "      <td>14336.0</td>\n",
       "      <td>500000.0</td>\n",
       "      <td>Free</td>\n",
       "      <td>0.0</td>\n",
       "      <td>Everyone</td>\n",
       "      <td>Art &amp; Design;Pretend Play</td>\n",
       "      <td>4.0.3</td>\n",
       "      <td>15</td>\n",
       "      <td>1</td>\n",
       "      <td>2018</td>\n",
       "    </tr>\n",
       "    <tr>\n",
       "      <th>2</th>\n",
       "      <td>U Launcher Lite – FREE Live Cool Themes, Hide ...</td>\n",
       "      <td>ART_AND_DESIGN</td>\n",
       "      <td>4.7</td>\n",
       "      <td>87510.0</td>\n",
       "      <td>8908.8</td>\n",
       "      <td>50000000.0</td>\n",
       "      <td>Free</td>\n",
       "      <td>0.0</td>\n",
       "      <td>Everyone</td>\n",
       "      <td>Art &amp; Design</td>\n",
       "      <td>4.0.3</td>\n",
       "      <td>1</td>\n",
       "      <td>8</td>\n",
       "      <td>2018</td>\n",
       "    </tr>\n",
       "    <tr>\n",
       "      <th>3</th>\n",
       "      <td>Sketch - Draw &amp; Paint</td>\n",
       "      <td>ART_AND_DESIGN</td>\n",
       "      <td>4.5</td>\n",
       "      <td>1335888.4</td>\n",
       "      <td>25600.0</td>\n",
       "      <td>50000000.0</td>\n",
       "      <td>Free</td>\n",
       "      <td>0.0</td>\n",
       "      <td>Teen</td>\n",
       "      <td>Art &amp; Design</td>\n",
       "      <td>4.2</td>\n",
       "      <td>8</td>\n",
       "      <td>6</td>\n",
       "      <td>2018</td>\n",
       "    </tr>\n",
       "    <tr>\n",
       "      <th>4</th>\n",
       "      <td>Pixel Draw - Number Art Coloring Book</td>\n",
       "      <td>ART_AND_DESIGN</td>\n",
       "      <td>4.3</td>\n",
       "      <td>967.0</td>\n",
       "      <td>2867.2</td>\n",
       "      <td>100000.0</td>\n",
       "      <td>Free</td>\n",
       "      <td>0.0</td>\n",
       "      <td>Everyone</td>\n",
       "      <td>Art &amp; Design;Creativity</td>\n",
       "      <td>4.4</td>\n",
       "      <td>20</td>\n",
       "      <td>6</td>\n",
       "      <td>2018</td>\n",
       "    </tr>\n",
       "  </tbody>\n",
       "</table>\n",
       "</div>"
      ],
      "text/plain": [
       "                                                 App        Category  Rating  \\\n",
       "0     Photo Editor & Candy Camera & Grid & ScrapBook  ART_AND_DESIGN     4.1   \n",
       "1                                Coloring book moana  ART_AND_DESIGN     3.9   \n",
       "2  U Launcher Lite – FREE Live Cool Themes, Hide ...  ART_AND_DESIGN     4.7   \n",
       "3                              Sketch - Draw & Paint  ART_AND_DESIGN     4.5   \n",
       "4              Pixel Draw - Number Art Coloring Book  ART_AND_DESIGN     4.3   \n",
       "\n",
       "     Reviews     Size    Installs  Type  Price Content Rating  \\\n",
       "0      159.0  19456.0     10000.0  Free    0.0       Everyone   \n",
       "1      967.0  14336.0    500000.0  Free    0.0       Everyone   \n",
       "2    87510.0   8908.8  50000000.0  Free    0.0       Everyone   \n",
       "3  1335888.4  25600.0  50000000.0  Free    0.0           Teen   \n",
       "4      967.0   2867.2    100000.0  Free    0.0       Everyone   \n",
       "\n",
       "                      Genres Android Ver  day  month  year  \n",
       "0               Art & Design      4.0.3     7      1  2018  \n",
       "1  Art & Design;Pretend Play      4.0.3    15      1  2018  \n",
       "2               Art & Design      4.0.3     1      8  2018  \n",
       "3               Art & Design        4.2     8      6  2018  \n",
       "4    Art & Design;Creativity        4.4    20      6  2018  "
      ]
     },
     "execution_count": 60,
     "metadata": {},
     "output_type": "execute_result"
    }
   ],
   "source": [
    "df_copy.head()"
   ]
  },
  {
   "cell_type": "markdown",
   "id": "6bcffa3d-697b-43d8-877e-dc5e910aa5a4",
   "metadata": {},
   "source": [
    " # DATA ENCODING :"
   ]
  },
  {
   "cell_type": "code",
   "execution_count": 61,
   "id": "2ba78544-350c-4ff8-a7c3-f6a623e30f5e",
   "metadata": {},
   "outputs": [
    {
     "data": {
      "text/plain": [
       "array(['Free', 'Paid'], dtype=object)"
      ]
     },
     "execution_count": 61,
     "metadata": {},
     "output_type": "execute_result"
    }
   ],
   "source": [
    "df_copy['Type'].unique()"
   ]
  },
  {
   "cell_type": "code",
   "execution_count": 62,
   "id": "f15e17bb-5045-486b-8276-0165d1360967",
   "metadata": {},
   "outputs": [],
   "source": [
    "df_copy['Type'] = df_copy['Type'].map({'Free':1,\n",
    "                    'Paid':0})"
   ]
  },
  {
   "cell_type": "code",
   "execution_count": 63,
   "id": "41668f56-9c1b-4858-9d3d-ead89653b38a",
   "metadata": {},
   "outputs": [
    {
     "data": {
      "text/html": [
       "<div>\n",
       "<style scoped>\n",
       "    .dataframe tbody tr th:only-of-type {\n",
       "        vertical-align: middle;\n",
       "    }\n",
       "\n",
       "    .dataframe tbody tr th {\n",
       "        vertical-align: top;\n",
       "    }\n",
       "\n",
       "    .dataframe thead th {\n",
       "        text-align: right;\n",
       "    }\n",
       "</style>\n",
       "<table border=\"1\" class=\"dataframe\">\n",
       "  <thead>\n",
       "    <tr style=\"text-align: right;\">\n",
       "      <th></th>\n",
       "      <th>App</th>\n",
       "      <th>Category</th>\n",
       "      <th>Rating</th>\n",
       "      <th>Reviews</th>\n",
       "      <th>Size</th>\n",
       "      <th>Installs</th>\n",
       "      <th>Type</th>\n",
       "      <th>Price</th>\n",
       "      <th>Content Rating</th>\n",
       "      <th>Genres</th>\n",
       "      <th>Android Ver</th>\n",
       "      <th>day</th>\n",
       "      <th>month</th>\n",
       "      <th>year</th>\n",
       "    </tr>\n",
       "  </thead>\n",
       "  <tbody>\n",
       "    <tr>\n",
       "      <th>0</th>\n",
       "      <td>Photo Editor &amp; Candy Camera &amp; Grid &amp; ScrapBook</td>\n",
       "      <td>ART_AND_DESIGN</td>\n",
       "      <td>4.1</td>\n",
       "      <td>159.0</td>\n",
       "      <td>19456.0</td>\n",
       "      <td>10000.0</td>\n",
       "      <td>1</td>\n",
       "      <td>0.0</td>\n",
       "      <td>Everyone</td>\n",
       "      <td>Art &amp; Design</td>\n",
       "      <td>4.0.3</td>\n",
       "      <td>7</td>\n",
       "      <td>1</td>\n",
       "      <td>2018</td>\n",
       "    </tr>\n",
       "    <tr>\n",
       "      <th>1</th>\n",
       "      <td>Coloring book moana</td>\n",
       "      <td>ART_AND_DESIGN</td>\n",
       "      <td>3.9</td>\n",
       "      <td>967.0</td>\n",
       "      <td>14336.0</td>\n",
       "      <td>500000.0</td>\n",
       "      <td>1</td>\n",
       "      <td>0.0</td>\n",
       "      <td>Everyone</td>\n",
       "      <td>Art &amp; Design;Pretend Play</td>\n",
       "      <td>4.0.3</td>\n",
       "      <td>15</td>\n",
       "      <td>1</td>\n",
       "      <td>2018</td>\n",
       "    </tr>\n",
       "    <tr>\n",
       "      <th>2</th>\n",
       "      <td>U Launcher Lite – FREE Live Cool Themes, Hide ...</td>\n",
       "      <td>ART_AND_DESIGN</td>\n",
       "      <td>4.7</td>\n",
       "      <td>87510.0</td>\n",
       "      <td>8908.8</td>\n",
       "      <td>50000000.0</td>\n",
       "      <td>1</td>\n",
       "      <td>0.0</td>\n",
       "      <td>Everyone</td>\n",
       "      <td>Art &amp; Design</td>\n",
       "      <td>4.0.3</td>\n",
       "      <td>1</td>\n",
       "      <td>8</td>\n",
       "      <td>2018</td>\n",
       "    </tr>\n",
       "    <tr>\n",
       "      <th>3</th>\n",
       "      <td>Sketch - Draw &amp; Paint</td>\n",
       "      <td>ART_AND_DESIGN</td>\n",
       "      <td>4.5</td>\n",
       "      <td>1335888.4</td>\n",
       "      <td>25600.0</td>\n",
       "      <td>50000000.0</td>\n",
       "      <td>1</td>\n",
       "      <td>0.0</td>\n",
       "      <td>Teen</td>\n",
       "      <td>Art &amp; Design</td>\n",
       "      <td>4.2</td>\n",
       "      <td>8</td>\n",
       "      <td>6</td>\n",
       "      <td>2018</td>\n",
       "    </tr>\n",
       "    <tr>\n",
       "      <th>4</th>\n",
       "      <td>Pixel Draw - Number Art Coloring Book</td>\n",
       "      <td>ART_AND_DESIGN</td>\n",
       "      <td>4.3</td>\n",
       "      <td>967.0</td>\n",
       "      <td>2867.2</td>\n",
       "      <td>100000.0</td>\n",
       "      <td>1</td>\n",
       "      <td>0.0</td>\n",
       "      <td>Everyone</td>\n",
       "      <td>Art &amp; Design;Creativity</td>\n",
       "      <td>4.4</td>\n",
       "      <td>20</td>\n",
       "      <td>6</td>\n",
       "      <td>2018</td>\n",
       "    </tr>\n",
       "  </tbody>\n",
       "</table>\n",
       "</div>"
      ],
      "text/plain": [
       "                                                 App        Category  Rating  \\\n",
       "0     Photo Editor & Candy Camera & Grid & ScrapBook  ART_AND_DESIGN     4.1   \n",
       "1                                Coloring book moana  ART_AND_DESIGN     3.9   \n",
       "2  U Launcher Lite – FREE Live Cool Themes, Hide ...  ART_AND_DESIGN     4.7   \n",
       "3                              Sketch - Draw & Paint  ART_AND_DESIGN     4.5   \n",
       "4              Pixel Draw - Number Art Coloring Book  ART_AND_DESIGN     4.3   \n",
       "\n",
       "     Reviews     Size    Installs  Type  Price Content Rating  \\\n",
       "0      159.0  19456.0     10000.0     1    0.0       Everyone   \n",
       "1      967.0  14336.0    500000.0     1    0.0       Everyone   \n",
       "2    87510.0   8908.8  50000000.0     1    0.0       Everyone   \n",
       "3  1335888.4  25600.0  50000000.0     1    0.0           Teen   \n",
       "4      967.0   2867.2    100000.0     1    0.0       Everyone   \n",
       "\n",
       "                      Genres Android Ver  day  month  year  \n",
       "0               Art & Design      4.0.3     7      1  2018  \n",
       "1  Art & Design;Pretend Play      4.0.3    15      1  2018  \n",
       "2               Art & Design      4.0.3     1      8  2018  \n",
       "3               Art & Design        4.2     8      6  2018  \n",
       "4    Art & Design;Creativity        4.4    20      6  2018  "
      ]
     },
     "execution_count": 63,
     "metadata": {},
     "output_type": "execute_result"
    }
   ],
   "source": [
    "df_copy.head()"
   ]
  },
  {
   "cell_type": "code",
   "execution_count": 64,
   "id": "0e77982e-5cf1-4e43-9115-cc96930ea359",
   "metadata": {},
   "outputs": [
    {
     "data": {
      "text/plain": [
       "array(['Everyone', 'Teen', 'Everyone 10+', 'Mature 17+',\n",
       "       'Adults only 18+', 'Unrated'], dtype=object)"
      ]
     },
     "execution_count": 64,
     "metadata": {},
     "output_type": "execute_result"
    }
   ],
   "source": [
    "df_copy['Content Rating'].unique()"
   ]
  },
  {
   "cell_type": "code",
   "execution_count": 65,
   "id": "30ccb726-12ae-485b-942d-a12b6dca5a40",
   "metadata": {},
   "outputs": [],
   "source": [
    "# ORDINAL ENCODING ::"
   ]
  },
  {
   "cell_type": "code",
   "execution_count": 66,
   "id": "c072859c-af09-46cd-a11b-29e1c6e92ef6",
   "metadata": {},
   "outputs": [],
   "source": [
    "from sklearn.preprocessing import OrdinalEncoder"
   ]
  },
  {
   "cell_type": "code",
   "execution_count": 67,
   "id": "7755dc3b-2093-49c6-878a-8b5836f65e50",
   "metadata": {},
   "outputs": [],
   "source": [
    "ordinal = OrdinalEncoder(categories=[['Everyone 10+','Teen','Mature 17+','Adults only 18+','Unrated','Everyone']])"
   ]
  },
  {
   "cell_type": "code",
   "execution_count": 68,
   "id": "93467f14-f25c-4564-81f6-cd046892b876",
   "metadata": {},
   "outputs": [],
   "source": [
    "df_copy['Content Rating'] = ordinal.fit_transform(df_copy[['Content Rating']])"
   ]
  },
  {
   "cell_type": "code",
   "execution_count": 69,
   "id": "3680f758-dcad-487e-9019-c6236ecb7f17",
   "metadata": {},
   "outputs": [
    {
     "data": {
      "text/html": [
       "<div>\n",
       "<style scoped>\n",
       "    .dataframe tbody tr th:only-of-type {\n",
       "        vertical-align: middle;\n",
       "    }\n",
       "\n",
       "    .dataframe tbody tr th {\n",
       "        vertical-align: top;\n",
       "    }\n",
       "\n",
       "    .dataframe thead th {\n",
       "        text-align: right;\n",
       "    }\n",
       "</style>\n",
       "<table border=\"1\" class=\"dataframe\">\n",
       "  <thead>\n",
       "    <tr style=\"text-align: right;\">\n",
       "      <th></th>\n",
       "      <th>App</th>\n",
       "      <th>Category</th>\n",
       "      <th>Rating</th>\n",
       "      <th>Reviews</th>\n",
       "      <th>Size</th>\n",
       "      <th>Installs</th>\n",
       "      <th>Type</th>\n",
       "      <th>Price</th>\n",
       "      <th>Content Rating</th>\n",
       "      <th>Genres</th>\n",
       "      <th>Android Ver</th>\n",
       "      <th>day</th>\n",
       "      <th>month</th>\n",
       "      <th>year</th>\n",
       "    </tr>\n",
       "  </thead>\n",
       "  <tbody>\n",
       "    <tr>\n",
       "      <th>0</th>\n",
       "      <td>Photo Editor &amp; Candy Camera &amp; Grid &amp; ScrapBook</td>\n",
       "      <td>ART_AND_DESIGN</td>\n",
       "      <td>4.1</td>\n",
       "      <td>159.0</td>\n",
       "      <td>19456.0</td>\n",
       "      <td>10000.0</td>\n",
       "      <td>1</td>\n",
       "      <td>0.0</td>\n",
       "      <td>5.0</td>\n",
       "      <td>Art &amp; Design</td>\n",
       "      <td>4.0.3</td>\n",
       "      <td>7</td>\n",
       "      <td>1</td>\n",
       "      <td>2018</td>\n",
       "    </tr>\n",
       "    <tr>\n",
       "      <th>1</th>\n",
       "      <td>Coloring book moana</td>\n",
       "      <td>ART_AND_DESIGN</td>\n",
       "      <td>3.9</td>\n",
       "      <td>967.0</td>\n",
       "      <td>14336.0</td>\n",
       "      <td>500000.0</td>\n",
       "      <td>1</td>\n",
       "      <td>0.0</td>\n",
       "      <td>5.0</td>\n",
       "      <td>Art &amp; Design;Pretend Play</td>\n",
       "      <td>4.0.3</td>\n",
       "      <td>15</td>\n",
       "      <td>1</td>\n",
       "      <td>2018</td>\n",
       "    </tr>\n",
       "    <tr>\n",
       "      <th>2</th>\n",
       "      <td>U Launcher Lite – FREE Live Cool Themes, Hide ...</td>\n",
       "      <td>ART_AND_DESIGN</td>\n",
       "      <td>4.7</td>\n",
       "      <td>87510.0</td>\n",
       "      <td>8908.8</td>\n",
       "      <td>50000000.0</td>\n",
       "      <td>1</td>\n",
       "      <td>0.0</td>\n",
       "      <td>5.0</td>\n",
       "      <td>Art &amp; Design</td>\n",
       "      <td>4.0.3</td>\n",
       "      <td>1</td>\n",
       "      <td>8</td>\n",
       "      <td>2018</td>\n",
       "    </tr>\n",
       "    <tr>\n",
       "      <th>3</th>\n",
       "      <td>Sketch - Draw &amp; Paint</td>\n",
       "      <td>ART_AND_DESIGN</td>\n",
       "      <td>4.5</td>\n",
       "      <td>1335888.4</td>\n",
       "      <td>25600.0</td>\n",
       "      <td>50000000.0</td>\n",
       "      <td>1</td>\n",
       "      <td>0.0</td>\n",
       "      <td>1.0</td>\n",
       "      <td>Art &amp; Design</td>\n",
       "      <td>4.2</td>\n",
       "      <td>8</td>\n",
       "      <td>6</td>\n",
       "      <td>2018</td>\n",
       "    </tr>\n",
       "    <tr>\n",
       "      <th>4</th>\n",
       "      <td>Pixel Draw - Number Art Coloring Book</td>\n",
       "      <td>ART_AND_DESIGN</td>\n",
       "      <td>4.3</td>\n",
       "      <td>967.0</td>\n",
       "      <td>2867.2</td>\n",
       "      <td>100000.0</td>\n",
       "      <td>1</td>\n",
       "      <td>0.0</td>\n",
       "      <td>5.0</td>\n",
       "      <td>Art &amp; Design;Creativity</td>\n",
       "      <td>4.4</td>\n",
       "      <td>20</td>\n",
       "      <td>6</td>\n",
       "      <td>2018</td>\n",
       "    </tr>\n",
       "  </tbody>\n",
       "</table>\n",
       "</div>"
      ],
      "text/plain": [
       "                                                 App        Category  Rating  \\\n",
       "0     Photo Editor & Candy Camera & Grid & ScrapBook  ART_AND_DESIGN     4.1   \n",
       "1                                Coloring book moana  ART_AND_DESIGN     3.9   \n",
       "2  U Launcher Lite – FREE Live Cool Themes, Hide ...  ART_AND_DESIGN     4.7   \n",
       "3                              Sketch - Draw & Paint  ART_AND_DESIGN     4.5   \n",
       "4              Pixel Draw - Number Art Coloring Book  ART_AND_DESIGN     4.3   \n",
       "\n",
       "     Reviews     Size    Installs  Type  Price  Content Rating  \\\n",
       "0      159.0  19456.0     10000.0     1    0.0             5.0   \n",
       "1      967.0  14336.0    500000.0     1    0.0             5.0   \n",
       "2    87510.0   8908.8  50000000.0     1    0.0             5.0   \n",
       "3  1335888.4  25600.0  50000000.0     1    0.0             1.0   \n",
       "4      967.0   2867.2    100000.0     1    0.0             5.0   \n",
       "\n",
       "                      Genres Android Ver  day  month  year  \n",
       "0               Art & Design      4.0.3     7      1  2018  \n",
       "1  Art & Design;Pretend Play      4.0.3    15      1  2018  \n",
       "2               Art & Design      4.0.3     1      8  2018  \n",
       "3               Art & Design        4.2     8      6  2018  \n",
       "4    Art & Design;Creativity        4.4    20      6  2018  "
      ]
     },
     "execution_count": 69,
     "metadata": {},
     "output_type": "execute_result"
    }
   ],
   "source": [
    "df_copy.head()"
   ]
  },
  {
   "cell_type": "code",
   "execution_count": 70,
   "id": "de123576-dd45-4e13-9839-3483d712ad50",
   "metadata": {},
   "outputs": [
    {
     "data": {
      "text/plain": [
       "array(['ART_AND_DESIGN', 'AUTO_AND_VEHICLES', 'BEAUTY',\n",
       "       'BOOKS_AND_REFERENCE', 'BUSINESS', 'COMICS', 'COMMUNICATION',\n",
       "       'DATING', 'EDUCATION', 'ENTERTAINMENT', 'EVENTS', 'FINANCE',\n",
       "       'FOOD_AND_DRINK', 'HEALTH_AND_FITNESS', 'HOUSE_AND_HOME',\n",
       "       'LIBRARIES_AND_DEMO', 'LIFESTYLE', 'GAME', 'FAMILY', 'MEDICAL',\n",
       "       'SOCIAL', 'SHOPPING', 'PHOTOGRAPHY', 'SPORTS', 'TRAVEL_AND_LOCAL',\n",
       "       'TOOLS', 'PERSONALIZATION', 'PRODUCTIVITY', 'PARENTING', 'WEATHER',\n",
       "       'VIDEO_PLAYERS', 'NEWS_AND_MAGAZINES', 'MAPS_AND_NAVIGATION'],\n",
       "      dtype=object)"
      ]
     },
     "execution_count": 70,
     "metadata": {},
     "output_type": "execute_result"
    }
   ],
   "source": [
    "df_copy['Category'].unique()"
   ]
  },
  {
   "cell_type": "code",
   "execution_count": 71,
   "id": "672249e6-170b-4112-8a79-d87ca046d38f",
   "metadata": {},
   "outputs": [],
   "source": [
    "# TARGET GUIDED ORDINAL ENCODING ::"
   ]
  },
  {
   "cell_type": "code",
   "execution_count": 72,
   "id": "5b6e5d84-9577-49e1-a035-c592d8a8a079",
   "metadata": {},
   "outputs": [],
   "source": [
    "mean_price = df_copy.groupby('Category')['Rating'].mean().round(1).to_dict()"
   ]
  },
  {
   "cell_type": "code",
   "execution_count": 73,
   "id": "bf8b2443-76f5-4c2a-a480-98adcfc8616d",
   "metadata": {},
   "outputs": [
    {
     "data": {
      "text/plain": [
       "{'ART_AND_DESIGN': 4.4,\n",
       " 'AUTO_AND_VEHICLES': 4.2,\n",
       " 'BEAUTY': 4.3,\n",
       " 'BOOKS_AND_REFERENCE': 4.3,\n",
       " 'BUSINESS': 4.1,\n",
       " 'COMICS': 4.2,\n",
       " 'COMMUNICATION': 4.2,\n",
       " 'DATING': 4.0,\n",
       " 'EDUCATION': 4.4,\n",
       " 'ENTERTAINMENT': 4.1,\n",
       " 'EVENTS': 4.4,\n",
       " 'FAMILY': 4.2,\n",
       " 'FINANCE': 4.1,\n",
       " 'FOOD_AND_DRINK': 4.2,\n",
       " 'GAME': 4.3,\n",
       " 'HEALTH_AND_FITNESS': 4.3,\n",
       " 'HOUSE_AND_HOME': 4.2,\n",
       " 'LIBRARIES_AND_DEMO': 4.2,\n",
       " 'LIFESTYLE': 4.1,\n",
       " 'MAPS_AND_NAVIGATION': 4.1,\n",
       " 'MEDICAL': 4.2,\n",
       " 'NEWS_AND_MAGAZINES': 4.1,\n",
       " 'PARENTING': 4.3,\n",
       " 'PERSONALIZATION': 4.3,\n",
       " 'PHOTOGRAPHY': 4.2,\n",
       " 'PRODUCTIVITY': 4.2,\n",
       " 'SHOPPING': 4.2,\n",
       " 'SOCIAL': 4.2,\n",
       " 'SPORTS': 4.2,\n",
       " 'TOOLS': 4.1,\n",
       " 'TRAVEL_AND_LOCAL': 4.1,\n",
       " 'VIDEO_PLAYERS': 4.1,\n",
       " 'WEATHER': 4.2}"
      ]
     },
     "execution_count": 73,
     "metadata": {},
     "output_type": "execute_result"
    }
   ],
   "source": [
    "mean_price"
   ]
  },
  {
   "cell_type": "code",
   "execution_count": 74,
   "id": "23a5170a-f3f7-447c-811a-a35d34ac42fd",
   "metadata": {},
   "outputs": [],
   "source": [
    "df_copy[' Encoded Category'] = df_copy['Category'].map(mean_price)"
   ]
  },
  {
   "cell_type": "code",
   "execution_count": 75,
   "id": "afefa080-3d64-41ca-81e6-ec7fee6f275d",
   "metadata": {},
   "outputs": [
    {
     "data": {
      "text/html": [
       "<div>\n",
       "<style scoped>\n",
       "    .dataframe tbody tr th:only-of-type {\n",
       "        vertical-align: middle;\n",
       "    }\n",
       "\n",
       "    .dataframe tbody tr th {\n",
       "        vertical-align: top;\n",
       "    }\n",
       "\n",
       "    .dataframe thead th {\n",
       "        text-align: right;\n",
       "    }\n",
       "</style>\n",
       "<table border=\"1\" class=\"dataframe\">\n",
       "  <thead>\n",
       "    <tr style=\"text-align: right;\">\n",
       "      <th></th>\n",
       "      <th>App</th>\n",
       "      <th>Category</th>\n",
       "      <th>Rating</th>\n",
       "      <th>Reviews</th>\n",
       "      <th>Size</th>\n",
       "      <th>Installs</th>\n",
       "      <th>Type</th>\n",
       "      <th>Price</th>\n",
       "      <th>Content Rating</th>\n",
       "      <th>Genres</th>\n",
       "      <th>Android Ver</th>\n",
       "      <th>day</th>\n",
       "      <th>month</th>\n",
       "      <th>year</th>\n",
       "      <th>Encoded Category</th>\n",
       "    </tr>\n",
       "  </thead>\n",
       "  <tbody>\n",
       "    <tr>\n",
       "      <th>0</th>\n",
       "      <td>Photo Editor &amp; Candy Camera &amp; Grid &amp; ScrapBook</td>\n",
       "      <td>ART_AND_DESIGN</td>\n",
       "      <td>4.1</td>\n",
       "      <td>159.0</td>\n",
       "      <td>19456.0</td>\n",
       "      <td>10000.0</td>\n",
       "      <td>1</td>\n",
       "      <td>0.0</td>\n",
       "      <td>5.0</td>\n",
       "      <td>Art &amp; Design</td>\n",
       "      <td>4.0.3</td>\n",
       "      <td>7</td>\n",
       "      <td>1</td>\n",
       "      <td>2018</td>\n",
       "      <td>4.4</td>\n",
       "    </tr>\n",
       "    <tr>\n",
       "      <th>1</th>\n",
       "      <td>Coloring book moana</td>\n",
       "      <td>ART_AND_DESIGN</td>\n",
       "      <td>3.9</td>\n",
       "      <td>967.0</td>\n",
       "      <td>14336.0</td>\n",
       "      <td>500000.0</td>\n",
       "      <td>1</td>\n",
       "      <td>0.0</td>\n",
       "      <td>5.0</td>\n",
       "      <td>Art &amp; Design;Pretend Play</td>\n",
       "      <td>4.0.3</td>\n",
       "      <td>15</td>\n",
       "      <td>1</td>\n",
       "      <td>2018</td>\n",
       "      <td>4.4</td>\n",
       "    </tr>\n",
       "    <tr>\n",
       "      <th>2</th>\n",
       "      <td>U Launcher Lite – FREE Live Cool Themes, Hide ...</td>\n",
       "      <td>ART_AND_DESIGN</td>\n",
       "      <td>4.7</td>\n",
       "      <td>87510.0</td>\n",
       "      <td>8908.8</td>\n",
       "      <td>50000000.0</td>\n",
       "      <td>1</td>\n",
       "      <td>0.0</td>\n",
       "      <td>5.0</td>\n",
       "      <td>Art &amp; Design</td>\n",
       "      <td>4.0.3</td>\n",
       "      <td>1</td>\n",
       "      <td>8</td>\n",
       "      <td>2018</td>\n",
       "      <td>4.4</td>\n",
       "    </tr>\n",
       "    <tr>\n",
       "      <th>3</th>\n",
       "      <td>Sketch - Draw &amp; Paint</td>\n",
       "      <td>ART_AND_DESIGN</td>\n",
       "      <td>4.5</td>\n",
       "      <td>1335888.4</td>\n",
       "      <td>25600.0</td>\n",
       "      <td>50000000.0</td>\n",
       "      <td>1</td>\n",
       "      <td>0.0</td>\n",
       "      <td>1.0</td>\n",
       "      <td>Art &amp; Design</td>\n",
       "      <td>4.2</td>\n",
       "      <td>8</td>\n",
       "      <td>6</td>\n",
       "      <td>2018</td>\n",
       "      <td>4.4</td>\n",
       "    </tr>\n",
       "    <tr>\n",
       "      <th>4</th>\n",
       "      <td>Pixel Draw - Number Art Coloring Book</td>\n",
       "      <td>ART_AND_DESIGN</td>\n",
       "      <td>4.3</td>\n",
       "      <td>967.0</td>\n",
       "      <td>2867.2</td>\n",
       "      <td>100000.0</td>\n",
       "      <td>1</td>\n",
       "      <td>0.0</td>\n",
       "      <td>5.0</td>\n",
       "      <td>Art &amp; Design;Creativity</td>\n",
       "      <td>4.4</td>\n",
       "      <td>20</td>\n",
       "      <td>6</td>\n",
       "      <td>2018</td>\n",
       "      <td>4.4</td>\n",
       "    </tr>\n",
       "  </tbody>\n",
       "</table>\n",
       "</div>"
      ],
      "text/plain": [
       "                                                 App        Category  Rating  \\\n",
       "0     Photo Editor & Candy Camera & Grid & ScrapBook  ART_AND_DESIGN     4.1   \n",
       "1                                Coloring book moana  ART_AND_DESIGN     3.9   \n",
       "2  U Launcher Lite – FREE Live Cool Themes, Hide ...  ART_AND_DESIGN     4.7   \n",
       "3                              Sketch - Draw & Paint  ART_AND_DESIGN     4.5   \n",
       "4              Pixel Draw - Number Art Coloring Book  ART_AND_DESIGN     4.3   \n",
       "\n",
       "     Reviews     Size    Installs  Type  Price  Content Rating  \\\n",
       "0      159.0  19456.0     10000.0     1    0.0             5.0   \n",
       "1      967.0  14336.0    500000.0     1    0.0             5.0   \n",
       "2    87510.0   8908.8  50000000.0     1    0.0             5.0   \n",
       "3  1335888.4  25600.0  50000000.0     1    0.0             1.0   \n",
       "4      967.0   2867.2    100000.0     1    0.0             5.0   \n",
       "\n",
       "                      Genres Android Ver  day  month  year   Encoded Category  \n",
       "0               Art & Design      4.0.3     7      1  2018                4.4  \n",
       "1  Art & Design;Pretend Play      4.0.3    15      1  2018                4.4  \n",
       "2               Art & Design      4.0.3     1      8  2018                4.4  \n",
       "3               Art & Design        4.2     8      6  2018                4.4  \n",
       "4    Art & Design;Creativity        4.4    20      6  2018                4.4  "
      ]
     },
     "execution_count": 75,
     "metadata": {},
     "output_type": "execute_result"
    }
   ],
   "source": [
    "df_copy.head()"
   ]
  },
  {
   "cell_type": "code",
   "execution_count": 76,
   "id": "485da4a5-c122-444f-90aa-7e11643a9a85",
   "metadata": {},
   "outputs": [
    {
     "data": {
      "text/plain": [
       "array(['ART_AND_DESIGN', 'AUTO_AND_VEHICLES', 'BEAUTY',\n",
       "       'BOOKS_AND_REFERENCE', 'BUSINESS', 'COMICS', 'COMMUNICATION',\n",
       "       'DATING', 'EDUCATION', 'ENTERTAINMENT', 'EVENTS', 'FINANCE',\n",
       "       'FOOD_AND_DRINK', 'HEALTH_AND_FITNESS', 'HOUSE_AND_HOME',\n",
       "       'LIBRARIES_AND_DEMO', 'LIFESTYLE', 'GAME', 'FAMILY', 'MEDICAL',\n",
       "       'SOCIAL', 'SHOPPING', 'PHOTOGRAPHY', 'SPORTS', 'TRAVEL_AND_LOCAL',\n",
       "       'TOOLS', 'PERSONALIZATION', 'PRODUCTIVITY', 'PARENTING', 'WEATHER',\n",
       "       'VIDEO_PLAYERS', 'NEWS_AND_MAGAZINES', 'MAPS_AND_NAVIGATION'],\n",
       "      dtype=object)"
      ]
     },
     "execution_count": 76,
     "metadata": {},
     "output_type": "execute_result"
    }
   ],
   "source": [
    "df_copy['Category'].unique()"
   ]
  },
  {
   "cell_type": "code",
   "execution_count": 77,
   "id": "3c253284-a66e-4748-8089-3aafa25cc255",
   "metadata": {},
   "outputs": [
    {
     "data": {
      "text/plain": [
       "array(['Art & Design', 'Art & Design;Pretend Play',\n",
       "       'Art & Design;Creativity', 'Art & Design;Action & Adventure',\n",
       "       'Auto & Vehicles', 'Beauty', 'Books & Reference', 'Business',\n",
       "       'Comics', 'Comics;Creativity', 'Communication', 'Dating',\n",
       "       'Education;Education', 'Education', 'Education;Creativity',\n",
       "       'Education;Music & Video', 'Education;Action & Adventure',\n",
       "       'Education;Pretend Play', 'Education;Brain Games', 'Entertainment',\n",
       "       'Entertainment;Music & Video', 'Entertainment;Brain Games',\n",
       "       'Entertainment;Creativity', 'Events', 'Finance', 'Food & Drink',\n",
       "       'Health & Fitness', 'House & Home', 'Libraries & Demo',\n",
       "       'Lifestyle', 'Lifestyle;Pretend Play',\n",
       "       'Adventure;Action & Adventure', 'Arcade', 'Casual', 'Card',\n",
       "       'Casual;Pretend Play', 'Action', 'Strategy', 'Puzzle', 'Sports',\n",
       "       'Music', 'Word', 'Racing', 'Casual;Creativity',\n",
       "       'Casual;Action & Adventure', 'Simulation', 'Adventure', 'Board',\n",
       "       'Trivia', 'Role Playing', 'Simulation;Education',\n",
       "       'Action;Action & Adventure', 'Casual;Brain Games',\n",
       "       'Simulation;Action & Adventure', 'Educational;Creativity',\n",
       "       'Puzzle;Brain Games', 'Educational;Education', 'Card;Brain Games',\n",
       "       'Educational;Brain Games', 'Educational;Pretend Play',\n",
       "       'Entertainment;Education', 'Casual;Education',\n",
       "       'Music;Music & Video', 'Racing;Action & Adventure',\n",
       "       'Arcade;Pretend Play', 'Role Playing;Action & Adventure',\n",
       "       'Simulation;Pretend Play', 'Puzzle;Creativity',\n",
       "       'Sports;Action & Adventure', 'Educational;Action & Adventure',\n",
       "       'Arcade;Action & Adventure', 'Entertainment;Action & Adventure',\n",
       "       'Puzzle;Action & Adventure', 'Strategy;Action & Adventure',\n",
       "       'Music & Audio;Music & Video', 'Health & Fitness;Education',\n",
       "       'Adventure;Education', 'Board;Brain Games',\n",
       "       'Board;Action & Adventure', 'Board;Pretend Play',\n",
       "       'Casual;Music & Video', 'Role Playing;Pretend Play',\n",
       "       'Entertainment;Pretend Play', 'Video Players & Editors;Creativity',\n",
       "       'Card;Action & Adventure', 'Medical', 'Social', 'Shopping',\n",
       "       'Photography', 'Travel & Local',\n",
       "       'Travel & Local;Action & Adventure', 'Tools', 'Tools;Education',\n",
       "       'Personalization', 'Productivity', 'Parenting',\n",
       "       'Parenting;Music & Video', 'Parenting;Education',\n",
       "       'Parenting;Brain Games', 'Weather', 'Video Players & Editors',\n",
       "       'Video Players & Editors;Music & Video', 'News & Magazines',\n",
       "       'Maps & Navigation', 'Health & Fitness;Action & Adventure',\n",
       "       'Educational', 'Casino', 'Adventure;Brain Games',\n",
       "       'Trivia;Education', 'Lifestyle;Education',\n",
       "       'Books & Reference;Creativity', 'Books & Reference;Education',\n",
       "       'Puzzle;Education', 'Role Playing;Education',\n",
       "       'Role Playing;Brain Games', 'Strategy;Education',\n",
       "       'Racing;Pretend Play', 'Communication;Creativity',\n",
       "       'Strategy;Creativity'], dtype=object)"
      ]
     },
     "execution_count": 77,
     "metadata": {},
     "output_type": "execute_result"
    }
   ],
   "source": [
    "df_copy['Genres'].unique()"
   ]
  },
  {
   "cell_type": "code",
   "execution_count": 78,
   "id": "ee5af4b6-4afb-45ba-85af-3311b5eb4acb",
   "metadata": {},
   "outputs": [],
   "source": [
    "# Drop the 'Genres' column which is almost similar to 'Category' column.."
   ]
  },
  {
   "cell_type": "code",
   "execution_count": 79,
   "id": "7bd8636f-62bf-48a3-9a1f-813828f7942c",
   "metadata": {},
   "outputs": [],
   "source": [
    "df_copy.drop('Genres', axis=1, inplace = True)"
   ]
  },
  {
   "cell_type": "code",
   "execution_count": 80,
   "id": "5c8b2331-869c-4636-9dd8-1c7e1685320e",
   "metadata": {},
   "outputs": [
    {
     "data": {
      "text/html": [
       "<div>\n",
       "<style scoped>\n",
       "    .dataframe tbody tr th:only-of-type {\n",
       "        vertical-align: middle;\n",
       "    }\n",
       "\n",
       "    .dataframe tbody tr th {\n",
       "        vertical-align: top;\n",
       "    }\n",
       "\n",
       "    .dataframe thead th {\n",
       "        text-align: right;\n",
       "    }\n",
       "</style>\n",
       "<table border=\"1\" class=\"dataframe\">\n",
       "  <thead>\n",
       "    <tr style=\"text-align: right;\">\n",
       "      <th></th>\n",
       "      <th>App</th>\n",
       "      <th>Category</th>\n",
       "      <th>Rating</th>\n",
       "      <th>Reviews</th>\n",
       "      <th>Size</th>\n",
       "      <th>Installs</th>\n",
       "      <th>Type</th>\n",
       "      <th>Price</th>\n",
       "      <th>Content Rating</th>\n",
       "      <th>Android Ver</th>\n",
       "      <th>day</th>\n",
       "      <th>month</th>\n",
       "      <th>year</th>\n",
       "      <th>Encoded Category</th>\n",
       "    </tr>\n",
       "  </thead>\n",
       "  <tbody>\n",
       "    <tr>\n",
       "      <th>0</th>\n",
       "      <td>Photo Editor &amp; Candy Camera &amp; Grid &amp; ScrapBook</td>\n",
       "      <td>ART_AND_DESIGN</td>\n",
       "      <td>4.1</td>\n",
       "      <td>159.0</td>\n",
       "      <td>19456.0</td>\n",
       "      <td>10000.0</td>\n",
       "      <td>1</td>\n",
       "      <td>0.0</td>\n",
       "      <td>5.0</td>\n",
       "      <td>4.0.3</td>\n",
       "      <td>7</td>\n",
       "      <td>1</td>\n",
       "      <td>2018</td>\n",
       "      <td>4.4</td>\n",
       "    </tr>\n",
       "    <tr>\n",
       "      <th>1</th>\n",
       "      <td>Coloring book moana</td>\n",
       "      <td>ART_AND_DESIGN</td>\n",
       "      <td>3.9</td>\n",
       "      <td>967.0</td>\n",
       "      <td>14336.0</td>\n",
       "      <td>500000.0</td>\n",
       "      <td>1</td>\n",
       "      <td>0.0</td>\n",
       "      <td>5.0</td>\n",
       "      <td>4.0.3</td>\n",
       "      <td>15</td>\n",
       "      <td>1</td>\n",
       "      <td>2018</td>\n",
       "      <td>4.4</td>\n",
       "    </tr>\n",
       "    <tr>\n",
       "      <th>2</th>\n",
       "      <td>U Launcher Lite – FREE Live Cool Themes, Hide ...</td>\n",
       "      <td>ART_AND_DESIGN</td>\n",
       "      <td>4.7</td>\n",
       "      <td>87510.0</td>\n",
       "      <td>8908.8</td>\n",
       "      <td>50000000.0</td>\n",
       "      <td>1</td>\n",
       "      <td>0.0</td>\n",
       "      <td>5.0</td>\n",
       "      <td>4.0.3</td>\n",
       "      <td>1</td>\n",
       "      <td>8</td>\n",
       "      <td>2018</td>\n",
       "      <td>4.4</td>\n",
       "    </tr>\n",
       "    <tr>\n",
       "      <th>3</th>\n",
       "      <td>Sketch - Draw &amp; Paint</td>\n",
       "      <td>ART_AND_DESIGN</td>\n",
       "      <td>4.5</td>\n",
       "      <td>1335888.4</td>\n",
       "      <td>25600.0</td>\n",
       "      <td>50000000.0</td>\n",
       "      <td>1</td>\n",
       "      <td>0.0</td>\n",
       "      <td>1.0</td>\n",
       "      <td>4.2</td>\n",
       "      <td>8</td>\n",
       "      <td>6</td>\n",
       "      <td>2018</td>\n",
       "      <td>4.4</td>\n",
       "    </tr>\n",
       "    <tr>\n",
       "      <th>4</th>\n",
       "      <td>Pixel Draw - Number Art Coloring Book</td>\n",
       "      <td>ART_AND_DESIGN</td>\n",
       "      <td>4.3</td>\n",
       "      <td>967.0</td>\n",
       "      <td>2867.2</td>\n",
       "      <td>100000.0</td>\n",
       "      <td>1</td>\n",
       "      <td>0.0</td>\n",
       "      <td>5.0</td>\n",
       "      <td>4.4</td>\n",
       "      <td>20</td>\n",
       "      <td>6</td>\n",
       "      <td>2018</td>\n",
       "      <td>4.4</td>\n",
       "    </tr>\n",
       "  </tbody>\n",
       "</table>\n",
       "</div>"
      ],
      "text/plain": [
       "                                                 App        Category  Rating  \\\n",
       "0     Photo Editor & Candy Camera & Grid & ScrapBook  ART_AND_DESIGN     4.1   \n",
       "1                                Coloring book moana  ART_AND_DESIGN     3.9   \n",
       "2  U Launcher Lite – FREE Live Cool Themes, Hide ...  ART_AND_DESIGN     4.7   \n",
       "3                              Sketch - Draw & Paint  ART_AND_DESIGN     4.5   \n",
       "4              Pixel Draw - Number Art Coloring Book  ART_AND_DESIGN     4.3   \n",
       "\n",
       "     Reviews     Size    Installs  Type  Price  Content Rating Android Ver  \\\n",
       "0      159.0  19456.0     10000.0     1    0.0             5.0      4.0.3    \n",
       "1      967.0  14336.0    500000.0     1    0.0             5.0      4.0.3    \n",
       "2    87510.0   8908.8  50000000.0     1    0.0             5.0      4.0.3    \n",
       "3  1335888.4  25600.0  50000000.0     1    0.0             1.0        4.2    \n",
       "4      967.0   2867.2    100000.0     1    0.0             5.0        4.4    \n",
       "\n",
       "   day  month  year   Encoded Category  \n",
       "0    7      1  2018                4.4  \n",
       "1   15      1  2018                4.4  \n",
       "2    1      8  2018                4.4  \n",
       "3    8      6  2018                4.4  \n",
       "4   20      6  2018                4.4  "
      ]
     },
     "execution_count": 80,
     "metadata": {},
     "output_type": "execute_result"
    }
   ],
   "source": [
    "df_copy.head()"
   ]
  },
  {
   "cell_type": "code",
   "execution_count": 81,
   "id": "950403ff-890f-42cd-9ffe-cfccd9f9c4ca",
   "metadata": {},
   "outputs": [
    {
     "data": {
      "image/png": "[encoded data removed]",
      "text/plain": [
       "<Figure size 1000x600 with 1 Axes>"
      ]
     },
     "metadata": {},
     "output_type": "display_data"
    }
   ],
   "source": [
    "plt.figure(figsize=(10, 6))\n",
    "sns.histplot(df_copy['Rating'], bins=10, kde=True)\n",
    "plt.title('Distribution of App Ratings')\n",
    "plt.xlabel('Rating')\n",
    "plt.ylabel('Frequency')\n",
    "plt.show()\n"
   ]
  },
  {
   "cell_type": "markdown",
   "id": "63118758-47fe-4ad2-97ec-6ee46ef50325",
   "metadata": {},
   "source": [
    "The Distribution of app Rating is left skewed ..\n"
   ]
  },
  {
   "cell_type": "code",
   "execution_count": 82,
   "id": "4620a626-c16f-48aa-958d-bfbab61d2a77",
   "metadata": {},
   "outputs": [
    {
     "data": {
      "image/png": "[encoded data removed]",
      "text/plain": [
       "<Figure size 1000x600 with 1 Axes>"
      ]
     },
     "metadata": {},
     "output_type": "display_data"
    }
   ],
   "source": [
    "plt.figure(figsize=(10, 6))\n",
    "sns.scatterplot(x='Size', y='Rating', data=df_copy)\n",
    "plt.title('Rating vs. Size of App')\n",
    "plt.xlabel('Size (KB)')\n",
    "plt.ylabel('Rating')\n",
    "plt.show()\n"
   ]
  },
  {
   "cell_type": "markdown",
   "id": "29b133e5-b0ce-4a2e-86b2-affb621b3a74",
   "metadata": {},
   "source": [
    "Most of app rated between 3-5 and size within 40Mb"
   ]
  },
  {
   "cell_type": "code",
   "execution_count": 83,
   "id": "9226b2c3-9d11-4d8b-b60a-02086c14fdc2",
   "metadata": {},
   "outputs": [
    {
     "name": "stdout",
     "output_type": "stream",
     "text": [
      "Average Rating by Content Rating:\n",
      " Content Rating\n",
      "0.0    4.25\n",
      "1.0    4.23\n",
      "2.0    4.13\n",
      "3.0    4.30\n",
      "4.0    4.14\n",
      "5.0    4.18\n",
      "Name: Rating, dtype: float64\n"
     ]
    }
   ],
   "source": [
    "avg_rating_by_content_rating = df_copy.groupby('Content Rating')['Rating'].mean().round(2)\n",
    "print(\"Average Rating by Content Rating:\\n\", avg_rating_by_content_rating)"
   ]
  },
  {
   "cell_type": "markdown",
   "id": "88d8f66f-3031-4dee-9f39-640cace7677b",
   "metadata": {},
   "source": [
    "All of the unique Content Rating values have same Rating :"
   ]
  },
  {
   "cell_type": "markdown",
   "id": "cd7db33b-ac4c-4189-a03c-e626b78ec80a",
   "metadata": {},
   "source": [
    "# Objective: Develop a predictive model to determine the rating of an app based on its characteristics. This model will help app developers and marketers understand the key factors that influence app ratings on the Google Play Store ?"
   ]
  },
  {
   "cell_type": "raw",
   "id": "527a38ae-c911-4b76-9516-d370da2f1fbc",
   "metadata": {},
   "source": [
    "Key Questions\n",
    "1.Which features are most influential in determining an app’s rating?\n",
    "\n",
    "2.Can we predict an app’s rating based on its category, number of reviews, size, installs, type, price, content rating, and Android version?\n",
    "\n",
    "3.How accurately can we predict the rating of an app using these features?"
   ]
  },
  {
   "cell_type": "code",
   "execution_count": 84,
   "id": "426f0f65-0815-44e8-be4c-4e3c8a137c46",
   "metadata": {},
   "outputs": [],
   "source": [
    "# X AND Y DISTRIBUTION ::"
   ]
  },
  {
   "cell_type": "code",
   "execution_count": 85,
   "id": "08fe54a6-4c3b-4573-b73d-df756110a851",
   "metadata": {},
   "outputs": [],
   "source": [
    "X = df_copy[['Reviews','Size','Type','Price','Installs','Content Rating','Android Ver']]\n",
    "Y = df_copy['Rating']"
   ]
  },
  {
   "cell_type": "code",
   "execution_count": 86,
   "id": "4588afbe-f267-47e9-8c14-4efdebd09cd2",
   "metadata": {},
   "outputs": [
    {
     "data": {
      "text/html": [
       "<div>\n",
       "<style scoped>\n",
       "    .dataframe tbody tr th:only-of-type {\n",
       "        vertical-align: middle;\n",
       "    }\n",
       "\n",
       "    .dataframe tbody tr th {\n",
       "        vertical-align: top;\n",
       "    }\n",
       "\n",
       "    .dataframe thead th {\n",
       "        text-align: right;\n",
       "    }\n",
       "</style>\n",
       "<table border=\"1\" class=\"dataframe\">\n",
       "  <thead>\n",
       "    <tr style=\"text-align: right;\">\n",
       "      <th></th>\n",
       "      <th>Reviews</th>\n",
       "      <th>Size</th>\n",
       "      <th>Type</th>\n",
       "      <th>Price</th>\n",
       "      <th>Installs</th>\n",
       "      <th>Content Rating</th>\n",
       "      <th>Android Ver</th>\n",
       "    </tr>\n",
       "  </thead>\n",
       "  <tbody>\n",
       "    <tr>\n",
       "      <th>0</th>\n",
       "      <td>159.0</td>\n",
       "      <td>19456.000000</td>\n",
       "      <td>1</td>\n",
       "      <td>0.0</td>\n",
       "      <td>10000.0</td>\n",
       "      <td>5.0</td>\n",
       "      <td>4.0.3</td>\n",
       "    </tr>\n",
       "    <tr>\n",
       "      <th>1</th>\n",
       "      <td>967.0</td>\n",
       "      <td>14336.000000</td>\n",
       "      <td>1</td>\n",
       "      <td>0.0</td>\n",
       "      <td>500000.0</td>\n",
       "      <td>5.0</td>\n",
       "      <td>4.0.3</td>\n",
       "    </tr>\n",
       "    <tr>\n",
       "      <th>2</th>\n",
       "      <td>87510.0</td>\n",
       "      <td>8908.800000</td>\n",
       "      <td>1</td>\n",
       "      <td>0.0</td>\n",
       "      <td>50000000.0</td>\n",
       "      <td>5.0</td>\n",
       "      <td>4.0.3</td>\n",
       "    </tr>\n",
       "    <tr>\n",
       "      <th>3</th>\n",
       "      <td>1335888.4</td>\n",
       "      <td>25600.000000</td>\n",
       "      <td>1</td>\n",
       "      <td>0.0</td>\n",
       "      <td>50000000.0</td>\n",
       "      <td>1.0</td>\n",
       "      <td>4.2</td>\n",
       "    </tr>\n",
       "    <tr>\n",
       "      <th>4</th>\n",
       "      <td>967.0</td>\n",
       "      <td>2867.200000</td>\n",
       "      <td>1</td>\n",
       "      <td>0.0</td>\n",
       "      <td>100000.0</td>\n",
       "      <td>5.0</td>\n",
       "      <td>4.4</td>\n",
       "    </tr>\n",
       "    <tr>\n",
       "      <th>...</th>\n",
       "      <td>...</td>\n",
       "      <td>...</td>\n",
       "      <td>...</td>\n",
       "      <td>...</td>\n",
       "      <td>...</td>\n",
       "      <td>...</td>\n",
       "      <td>...</td>\n",
       "    </tr>\n",
       "    <tr>\n",
       "      <th>10341</th>\n",
       "      <td>38.0</td>\n",
       "      <td>54272.000000</td>\n",
       "      <td>1</td>\n",
       "      <td>0.0</td>\n",
       "      <td>5000.0</td>\n",
       "      <td>5.0</td>\n",
       "      <td>4.1</td>\n",
       "    </tr>\n",
       "    <tr>\n",
       "      <th>10342</th>\n",
       "      <td>4.0</td>\n",
       "      <td>3686.400000</td>\n",
       "      <td>1</td>\n",
       "      <td>0.0</td>\n",
       "      <td>100.0</td>\n",
       "      <td>5.0</td>\n",
       "      <td>4.1</td>\n",
       "    </tr>\n",
       "    <tr>\n",
       "      <th>10343</th>\n",
       "      <td>3.0</td>\n",
       "      <td>9728.000000</td>\n",
       "      <td>1</td>\n",
       "      <td>0.0</td>\n",
       "      <td>1000.0</td>\n",
       "      <td>5.0</td>\n",
       "      <td>2.2</td>\n",
       "    </tr>\n",
       "    <tr>\n",
       "      <th>10344</th>\n",
       "      <td>114.0</td>\n",
       "      <td>21798.311052</td>\n",
       "      <td>1</td>\n",
       "      <td>0.0</td>\n",
       "      <td>1000.0</td>\n",
       "      <td>2.0</td>\n",
       "      <td></td>\n",
       "    </tr>\n",
       "    <tr>\n",
       "      <th>10345</th>\n",
       "      <td>1335888.4</td>\n",
       "      <td>19456.000000</td>\n",
       "      <td>1</td>\n",
       "      <td>0.0</td>\n",
       "      <td>50000000.0</td>\n",
       "      <td>5.0</td>\n",
       "      <td></td>\n",
       "    </tr>\n",
       "  </tbody>\n",
       "</table>\n",
       "<p>10346 rows × 7 columns</p>\n",
       "</div>"
      ],
      "text/plain": [
       "         Reviews          Size  Type  Price    Installs  Content Rating  \\\n",
       "0          159.0  19456.000000     1    0.0     10000.0             5.0   \n",
       "1          967.0  14336.000000     1    0.0    500000.0             5.0   \n",
       "2        87510.0   8908.800000     1    0.0  50000000.0             5.0   \n",
       "3      1335888.4  25600.000000     1    0.0  50000000.0             1.0   \n",
       "4          967.0   2867.200000     1    0.0    100000.0             5.0   \n",
       "...          ...           ...   ...    ...         ...             ...   \n",
       "10341       38.0  54272.000000     1    0.0      5000.0             5.0   \n",
       "10342        4.0   3686.400000     1    0.0       100.0             5.0   \n",
       "10343        3.0   9728.000000     1    0.0      1000.0             5.0   \n",
       "10344      114.0  21798.311052     1    0.0      1000.0             2.0   \n",
       "10345  1335888.4  19456.000000     1    0.0  50000000.0             5.0   \n",
       "\n",
       "      Android Ver  \n",
       "0          4.0.3   \n",
       "1          4.0.3   \n",
       "2          4.0.3   \n",
       "3            4.2   \n",
       "4            4.4   \n",
       "...           ...  \n",
       "10341        4.1   \n",
       "10342        4.1   \n",
       "10343        2.2   \n",
       "10344              \n",
       "10345              \n",
       "\n",
       "[10346 rows x 7 columns]"
      ]
     },
     "execution_count": 86,
     "metadata": {},
     "output_type": "execute_result"
    }
   ],
   "source": [
    "X"
   ]
  },
  {
   "cell_type": "code",
   "execution_count": 87,
   "id": "97599cdd-8ab6-4bd0-832c-ca303aa7ead0",
   "metadata": {},
   "outputs": [
    {
     "data": {
      "text/plain": [
       "0        4.100000\n",
       "1        3.900000\n",
       "2        4.700000\n",
       "3        4.500000\n",
       "4        4.300000\n",
       "           ...   \n",
       "10341    4.500000\n",
       "10342    5.000000\n",
       "10343    4.187877\n",
       "10344    4.500000\n",
       "10345    4.500000\n",
       "Name: Rating, Length: 10346, dtype: float64"
      ]
     },
     "execution_count": 87,
     "metadata": {},
     "output_type": "execute_result"
    }
   ],
   "source": [
    "Y"
   ]
  },
  {
   "cell_type": "code",
   "execution_count": 88,
   "id": "d063aa3d-97c8-4323-ab18-4becf734b7a9",
   "metadata": {},
   "outputs": [],
   "source": [
    "from sklearn.compose import ColumnTransformer \n",
    "from sklearn.preprocessing import StandardScaler\n",
    "from sklearn.model_selection import train_test_split\n",
    "from sklearn.pipeline import Pipeline"
   ]
  },
  {
   "cell_type": "code",
   "execution_count": 89,
   "id": "8c1c3035-931a-4122-ad2d-5df9973f45af",
   "metadata": {},
   "outputs": [],
   "source": [
    "# TRAIN TEST SPLIT ::\n",
    "X_train, X_test, y_train, y_test = train_test_split(X, Y, test_size=0.3, random_state=1)"
   ]
  },
  {
   "cell_type": "code",
   "execution_count": 90,
   "id": "b82be9aa-e99b-465f-8c29-dbd94735707e",
   "metadata": {},
   "outputs": [
    {
     "data": {
      "text/html": [
       "<div>\n",
       "<style scoped>\n",
       "    .dataframe tbody tr th:only-of-type {\n",
       "        vertical-align: middle;\n",
       "    }\n",
       "\n",
       "    .dataframe tbody tr th {\n",
       "        vertical-align: top;\n",
       "    }\n",
       "\n",
       "    .dataframe thead th {\n",
       "        text-align: right;\n",
       "    }\n",
       "</style>\n",
       "<table border=\"1\" class=\"dataframe\">\n",
       "  <thead>\n",
       "    <tr style=\"text-align: right;\">\n",
       "      <th></th>\n",
       "      <th>Reviews</th>\n",
       "      <th>Size</th>\n",
       "      <th>Type</th>\n",
       "      <th>Price</th>\n",
       "      <th>Installs</th>\n",
       "      <th>Content Rating</th>\n",
       "      <th>Android Ver</th>\n",
       "    </tr>\n",
       "  </thead>\n",
       "  <tbody>\n",
       "    <tr>\n",
       "      <th>2401</th>\n",
       "      <td>1335888.4</td>\n",
       "      <td>21798.311052</td>\n",
       "      <td>1</td>\n",
       "      <td>0.0</td>\n",
       "      <td>50000000.0</td>\n",
       "      <td>1.0</td>\n",
       "      <td></td>\n",
       "    </tr>\n",
       "    <tr>\n",
       "      <th>7899</th>\n",
       "      <td>1.0</td>\n",
       "      <td>4608.000000</td>\n",
       "      <td>1</td>\n",
       "      <td>0.0</td>\n",
       "      <td>500.0</td>\n",
       "      <td>5.0</td>\n",
       "      <td>4.1</td>\n",
       "    </tr>\n",
       "    <tr>\n",
       "      <th>7640</th>\n",
       "      <td>2250.0</td>\n",
       "      <td>30720.000000</td>\n",
       "      <td>1</td>\n",
       "      <td>0.0</td>\n",
       "      <td>100000.0</td>\n",
       "      <td>5.0</td>\n",
       "      <td>4.1</td>\n",
       "    </tr>\n",
       "    <tr>\n",
       "      <th>119</th>\n",
       "      <td>75.0</td>\n",
       "      <td>4300.800000</td>\n",
       "      <td>1</td>\n",
       "      <td>0.0</td>\n",
       "      <td>50000.0</td>\n",
       "      <td>5.0</td>\n",
       "      <td>4.0.3</td>\n",
       "    </tr>\n",
       "    <tr>\n",
       "      <th>4770</th>\n",
       "      <td>44.0</td>\n",
       "      <td>2867.200000</td>\n",
       "      <td>1</td>\n",
       "      <td>0.0</td>\n",
       "      <td>100.0</td>\n",
       "      <td>5.0</td>\n",
       "      <td>4.1</td>\n",
       "    </tr>\n",
       "    <tr>\n",
       "      <th>...</th>\n",
       "      <td>...</td>\n",
       "      <td>...</td>\n",
       "      <td>...</td>\n",
       "      <td>...</td>\n",
       "      <td>...</td>\n",
       "      <td>...</td>\n",
       "      <td>...</td>\n",
       "    </tr>\n",
       "    <tr>\n",
       "      <th>2895</th>\n",
       "      <td>24265.0</td>\n",
       "      <td>3379.200000</td>\n",
       "      <td>1</td>\n",
       "      <td>0.0</td>\n",
       "      <td>1000000.0</td>\n",
       "      <td>5.0</td>\n",
       "      <td>4.0.3</td>\n",
       "    </tr>\n",
       "    <tr>\n",
       "      <th>7813</th>\n",
       "      <td>1335888.4</td>\n",
       "      <td>21798.311052</td>\n",
       "      <td>1</td>\n",
       "      <td>0.0</td>\n",
       "      <td>50000000.0</td>\n",
       "      <td>5.0</td>\n",
       "      <td></td>\n",
       "    </tr>\n",
       "    <tr>\n",
       "      <th>905</th>\n",
       "      <td>6076.0</td>\n",
       "      <td>32768.000000</td>\n",
       "      <td>1</td>\n",
       "      <td>0.0</td>\n",
       "      <td>500000.0</td>\n",
       "      <td>5.0</td>\n",
       "      <td>4.2</td>\n",
       "    </tr>\n",
       "    <tr>\n",
       "      <th>5192</th>\n",
       "      <td>16521.0</td>\n",
       "      <td>23552.000000</td>\n",
       "      <td>1</td>\n",
       "      <td>0.0</td>\n",
       "      <td>1000000.0</td>\n",
       "      <td>5.0</td>\n",
       "      <td>2.3</td>\n",
       "    </tr>\n",
       "    <tr>\n",
       "      <th>235</th>\n",
       "      <td>29313.0</td>\n",
       "      <td>20480.000000</td>\n",
       "      <td>1</td>\n",
       "      <td>0.0</td>\n",
       "      <td>50000000.0</td>\n",
       "      <td>5.0</td>\n",
       "      <td>4.0.3</td>\n",
       "    </tr>\n",
       "  </tbody>\n",
       "</table>\n",
       "<p>7242 rows × 7 columns</p>\n",
       "</div>"
      ],
      "text/plain": [
       "        Reviews          Size  Type  Price    Installs  Content Rating  \\\n",
       "2401  1335888.4  21798.311052     1    0.0  50000000.0             1.0   \n",
       "7899        1.0   4608.000000     1    0.0       500.0             5.0   \n",
       "7640     2250.0  30720.000000     1    0.0    100000.0             5.0   \n",
       "119        75.0   4300.800000     1    0.0     50000.0             5.0   \n",
       "4770       44.0   2867.200000     1    0.0       100.0             5.0   \n",
       "...         ...           ...   ...    ...         ...             ...   \n",
       "2895    24265.0   3379.200000     1    0.0   1000000.0             5.0   \n",
       "7813  1335888.4  21798.311052     1    0.0  50000000.0             5.0   \n",
       "905      6076.0  32768.000000     1    0.0    500000.0             5.0   \n",
       "5192    16521.0  23552.000000     1    0.0   1000000.0             5.0   \n",
       "235     29313.0  20480.000000     1    0.0  50000000.0             5.0   \n",
       "\n",
       "     Android Ver  \n",
       "2401              \n",
       "7899        4.1   \n",
       "7640        4.1   \n",
       "119       4.0.3   \n",
       "4770        4.1   \n",
       "...          ...  \n",
       "2895      4.0.3   \n",
       "7813              \n",
       "905         4.2   \n",
       "5192        2.3   \n",
       "235       4.0.3   \n",
       "\n",
       "[7242 rows x 7 columns]"
      ]
     },
     "execution_count": 90,
     "metadata": {},
     "output_type": "execute_result"
    }
   ],
   "source": [
    "X_train"
   ]
  },
  {
   "cell_type": "code",
   "execution_count": 91,
   "id": "4616e81d-4bb1-47dd-9e53-9dcec44136a1",
   "metadata": {},
   "outputs": [
    {
     "data": {
      "text/plain": [
       "2401    4.6\n",
       "7899    5.0\n",
       "7640    4.3\n",
       "119     4.4\n",
       "4770    5.0\n",
       "       ... \n",
       "2895    4.4\n",
       "7813    4.5\n",
       "905     4.2\n",
       "5192    3.6\n",
       "235     4.3\n",
       "Name: Rating, Length: 7242, dtype: float64"
      ]
     },
     "execution_count": 91,
     "metadata": {},
     "output_type": "execute_result"
    }
   ],
   "source": [
    "y_train"
   ]
  },
  {
   "cell_type": "code",
   "execution_count": 92,
   "id": "87cc44fb-b49e-414b-8afe-4a03559b8f94",
   "metadata": {},
   "outputs": [
    {
     "data": {
      "text/html": [
       "<div>\n",
       "<style scoped>\n",
       "    .dataframe tbody tr th:only-of-type {\n",
       "        vertical-align: middle;\n",
       "    }\n",
       "\n",
       "    .dataframe tbody tr th {\n",
       "        vertical-align: top;\n",
       "    }\n",
       "\n",
       "    .dataframe thead th {\n",
       "        text-align: right;\n",
       "    }\n",
       "</style>\n",
       "<table border=\"1\" class=\"dataframe\">\n",
       "  <thead>\n",
       "    <tr style=\"text-align: right;\">\n",
       "      <th></th>\n",
       "      <th>Reviews</th>\n",
       "      <th>Size</th>\n",
       "      <th>Type</th>\n",
       "      <th>Price</th>\n",
       "      <th>Installs</th>\n",
       "      <th>Content Rating</th>\n",
       "      <th>Android Ver</th>\n",
       "    </tr>\n",
       "  </thead>\n",
       "  <tbody>\n",
       "    <tr>\n",
       "      <th>7370</th>\n",
       "      <td>431.0</td>\n",
       "      <td>17408.0</td>\n",
       "      <td>1</td>\n",
       "      <td>0.0</td>\n",
       "      <td>10000.0</td>\n",
       "      <td>5.0</td>\n",
       "      <td>4.0</td>\n",
       "    </tr>\n",
       "    <tr>\n",
       "      <th>3903</th>\n",
       "      <td>198.0</td>\n",
       "      <td>9318.4</td>\n",
       "      <td>1</td>\n",
       "      <td>0.0</td>\n",
       "      <td>10000.0</td>\n",
       "      <td>5.0</td>\n",
       "      <td>5.0</td>\n",
       "    </tr>\n",
       "    <tr>\n",
       "      <th>2793</th>\n",
       "      <td>1609.0</td>\n",
       "      <td>4096.0</td>\n",
       "      <td>1</td>\n",
       "      <td>0.0</td>\n",
       "      <td>100000.0</td>\n",
       "      <td>5.0</td>\n",
       "      <td>4.1</td>\n",
       "    </tr>\n",
       "    <tr>\n",
       "      <th>1988</th>\n",
       "      <td>171.0</td>\n",
       "      <td>20480.0</td>\n",
       "      <td>0</td>\n",
       "      <td>10.0</td>\n",
       "      <td>10000.0</td>\n",
       "      <td>0.0</td>\n",
       "      <td>4.1</td>\n",
       "    </tr>\n",
       "    <tr>\n",
       "      <th>2106</th>\n",
       "      <td>275.0</td>\n",
       "      <td>5939.2</td>\n",
       "      <td>1</td>\n",
       "      <td>0.0</td>\n",
       "      <td>10000.0</td>\n",
       "      <td>0.0</td>\n",
       "      <td>4.4</td>\n",
       "    </tr>\n",
       "    <tr>\n",
       "      <th>...</th>\n",
       "      <td>...</td>\n",
       "      <td>...</td>\n",
       "      <td>...</td>\n",
       "      <td>...</td>\n",
       "      <td>...</td>\n",
       "      <td>...</td>\n",
       "      <td>...</td>\n",
       "    </tr>\n",
       "    <tr>\n",
       "      <th>9424</th>\n",
       "      <td>1.0</td>\n",
       "      <td>1536.0</td>\n",
       "      <td>1</td>\n",
       "      <td>0.0</td>\n",
       "      <td>10.0</td>\n",
       "      <td>5.0</td>\n",
       "      <td>4.3</td>\n",
       "    </tr>\n",
       "    <tr>\n",
       "      <th>10122</th>\n",
       "      <td>14221.0</td>\n",
       "      <td>1843.2</td>\n",
       "      <td>1</td>\n",
       "      <td>0.0</td>\n",
       "      <td>1000000.0</td>\n",
       "      <td>1.0</td>\n",
       "      <td>2.3.3</td>\n",
       "    </tr>\n",
       "    <tr>\n",
       "      <th>1556</th>\n",
       "      <td>70226.0</td>\n",
       "      <td>38912.0</td>\n",
       "      <td>1</td>\n",
       "      <td>0.0</td>\n",
       "      <td>50000000.0</td>\n",
       "      <td>5.0</td>\n",
       "      <td>4.1</td>\n",
       "    </tr>\n",
       "    <tr>\n",
       "      <th>4106</th>\n",
       "      <td>1.0</td>\n",
       "      <td>3481.6</td>\n",
       "      <td>1</td>\n",
       "      <td>0.0</td>\n",
       "      <td>10.0</td>\n",
       "      <td>5.0</td>\n",
       "      <td>4.0.3</td>\n",
       "    </tr>\n",
       "    <tr>\n",
       "      <th>8677</th>\n",
       "      <td>4490.0</td>\n",
       "      <td>94208.0</td>\n",
       "      <td>1</td>\n",
       "      <td>0.0</td>\n",
       "      <td>100000.0</td>\n",
       "      <td>0.0</td>\n",
       "      <td>4.1</td>\n",
       "    </tr>\n",
       "  </tbody>\n",
       "</table>\n",
       "<p>3104 rows × 7 columns</p>\n",
       "</div>"
      ],
      "text/plain": [
       "       Reviews     Size  Type  Price    Installs  Content Rating Android Ver\n",
       "7370     431.0  17408.0     1    0.0     10000.0             5.0        4.0 \n",
       "3903     198.0   9318.4     1    0.0     10000.0             5.0        5.0 \n",
       "2793    1609.0   4096.0     1    0.0    100000.0             5.0        4.1 \n",
       "1988     171.0  20480.0     0   10.0     10000.0             0.0        4.1 \n",
       "2106     275.0   5939.2     1    0.0     10000.0             0.0        4.4 \n",
       "...        ...      ...   ...    ...         ...             ...         ...\n",
       "9424       1.0   1536.0     1    0.0        10.0             5.0        4.3 \n",
       "10122  14221.0   1843.2     1    0.0   1000000.0             1.0      2.3.3 \n",
       "1556   70226.0  38912.0     1    0.0  50000000.0             5.0        4.1 \n",
       "4106       1.0   3481.6     1    0.0        10.0             5.0      4.0.3 \n",
       "8677    4490.0  94208.0     1    0.0    100000.0             0.0        4.1 \n",
       "\n",
       "[3104 rows x 7 columns]"
      ]
     },
     "execution_count": 92,
     "metadata": {},
     "output_type": "execute_result"
    }
   ],
   "source": [
    "X_test"
   ]
  },
  {
   "cell_type": "code",
   "execution_count": 93,
   "id": "5e290f4b-7d65-4bde-b8d1-f6e4614247d3",
   "metadata": {},
   "outputs": [
    {
     "data": {
      "text/plain": [
       "7370     4.400000\n",
       "3903     4.900000\n",
       "2793     4.200000\n",
       "1988     4.500000\n",
       "2106     4.400000\n",
       "           ...   \n",
       "9424     4.187877\n",
       "10122    4.500000\n",
       "1556     4.200000\n",
       "4106     4.187877\n",
       "8677     3.400000\n",
       "Name: Rating, Length: 3104, dtype: float64"
      ]
     },
     "execution_count": 93,
     "metadata": {},
     "output_type": "execute_result"
    }
   ],
   "source": [
    "y_test"
   ]
  },
  {
   "cell_type": "code",
   "execution_count": 94,
   "id": "0d04bdb4-a8c1-4e96-818a-0d3d0d4f0a83",
   "metadata": {},
   "outputs": [],
   "source": [
    "# FEATURES SCALING FOR NUMERICAL COLUMNS :: "
   ]
  },
  {
   "cell_type": "code",
   "execution_count": 95,
   "id": "09dc2c74-aaeb-4173-ae3f-b8ca4675b2e0",
   "metadata": {},
   "outputs": [],
   "source": [
    "num_col = ['Installs','Reviews','Size']"
   ]
  },
  {
   "cell_type": "code",
   "execution_count": 96,
   "id": "f925d6b2-46c6-48ae-92f8-72275d8d8262",
   "metadata": {},
   "outputs": [],
   "source": [
    "num_pipeline = Pipeline(steps=[('scaling',StandardScaler())])"
   ]
  },
  {
   "cell_type": "code",
   "execution_count": 97,
   "id": "7fcdeb15-8fa9-462a-9faa-c98d2d35418c",
   "metadata": {},
   "outputs": [],
   "source": [
    "preprocessor = ColumnTransformer([('num_pipeline', num_pipeline, num_col)])"
   ]
  },
  {
   "cell_type": "code",
   "execution_count": 98,
   "id": "04144fb7-3a20-43d5-8ef6-0967a0057b2b",
   "metadata": {},
   "outputs": [],
   "source": [
    "X_train = preprocessor.fit_transform(X_train)\n",
    "X_test = preprocessor.transform(X_test)"
   ]
  },
  {
   "cell_type": "code",
   "execution_count": 99,
   "id": "9be5ea79-205f-4369-bda3-dda0f3ab1c6c",
   "metadata": {},
   "outputs": [
    {
     "data": {
      "text/plain": [
       "array([[ 1.7296098 ,  2.11160668,  0.00477866],\n",
       "       [-0.58940604, -0.49416591, -0.80773687],\n",
       "       [-0.58479116, -0.48977902,  0.42647032],\n",
       "       ...,\n",
       "       [-0.56623884, -0.48231605,  0.52327088],\n",
       "       [-0.54304845, -0.46194211,  0.08766834],\n",
       "       [ 1.7296098 , -0.43699012, -0.0575325 ]])"
      ]
     },
     "execution_count": 99,
     "metadata": {},
     "output_type": "execute_result"
    }
   ],
   "source": [
    "X_train"
   ]
  },
  {
   "cell_type": "code",
   "execution_count": 100,
   "id": "b4e5c21a-f026-4d38-9502-28a372cb2355",
   "metadata": {},
   "outputs": [
    {
     "data": {
      "text/plain": [
       "array([[-0.58896543, -0.49332715, -0.20273335],\n",
       "       [-0.58896543, -0.49378164, -0.58509558],\n",
       "       [-0.58479116, -0.49102935, -0.83193701],\n",
       "       ...,\n",
       "       [ 1.7296098 , -0.35718551,  0.81367257],\n",
       "       [-0.58942877, -0.49416591, -0.86097718],\n",
       "       [-0.58479116, -0.48540969,  3.4272878 ]])"
      ]
     },
     "execution_count": 100,
     "metadata": {},
     "output_type": "execute_result"
    }
   ],
   "source": [
    "X_test"
   ]
  },
  {
   "cell_type": "code",
   "execution_count": 101,
   "id": "e6d11c98-7b39-447b-a766-89f2e1f59135",
   "metadata": {},
   "outputs": [],
   "source": [
    "## Model Trainning ::"
   ]
  },
  {
   "cell_type": "code",
   "execution_count": 107,
   "id": "bd57192f-c9cc-4ace-b1f0-d037eb2c73b3",
   "metadata": {},
   "outputs": [],
   "source": [
    "from sklearn.tree import DecisionTreeRegressor\n",
    "from sklearn.svm import SVR\n",
    "from sklearn.linear_model import LinearRegression\n",
    "from sklearn.ensemble import RandomForestRegressor"
   ]
  },
  {
   "cell_type": "code",
   "execution_count": 108,
   "id": "727d9086-7d73-4207-aa45-028aea1e239a",
   "metadata": {},
   "outputs": [],
   "source": [
    "models = {\"support vector Regressor\": SVR(),\n",
    "         \"DT Regressor\": DecisionTreeRegressor(),\n",
    "          \"Multiple Linear regression\": LinearRegression(),\n",
    "         \"Random_forest_Regressor\": RandomForestRegressor()}"
   ]
  },
  {
   "cell_type": "code",
   "execution_count": 109,
   "id": "ca3b22ea-5a08-4ee1-b5c6-b144f410db65",
   "metadata": {},
   "outputs": [],
   "source": [
    "from sklearn.metrics import r2_score\n",
    "def model_train_eval(X_train, y_train, X_test, y_test, models):\n",
    "    evaluation = {}\n",
    "    for i in range(len(models)):\n",
    "        model = list(models.values())[i]\n",
    "        model.fit(X_train, y_train)\n",
    "        y_pred = model.predict(X_test)\n",
    "        model_score = r2_score(y_test, y_pred)\n",
    "        evaluation[list(models.keys())[i]] = model_score\n",
    "    return evaluation"
   ]
  },
  {
   "cell_type": "code",
   "execution_count": 110,
   "id": "256baf00-b458-4889-9dc7-3cdd0e33c584",
   "metadata": {},
   "outputs": [
    {
     "data": {
      "text/plain": [
       "{'support vector Regressor': 0.027361773915910326,\n",
       " 'DT Regressor': -0.753476041612867,\n",
       " 'Multiple Linear regression': 0.033478307752545344,\n",
       " 'Random_forest_Regressor': -0.029914583169545983}"
      ]
     },
     "execution_count": 110,
     "metadata": {},
     "output_type": "execute_result"
    }
   ],
   "source": [
    "model_train_eval(X_train, y_train, X_test, y_test, models)"
   ]
  },
  {
   "cell_type": "code",
   "execution_count": null,
   "id": "0d9c6621-5433-4a9a-b2df-469cd05c6888",
   "metadata": {},
   "outputs": [],
   "source": []
  }
 ],
 "metadata": {
  "kernelspec": {
   "display_name": "Python 3 (ipykernel)",
   "language": "python",
   "name": "python3"
  },
  "language_info": {
   "codemirror_mode": {
    "name": "ipython",
    "version": 3
   },
   "file_extension": ".py",
   "mimetype": "text/x-python",
   "name": "python",
   "nbconvert_exporter": "python",
   "pygments_lexer": "ipython3",
   "version": "3.11.7"
  }
 },
 "nbformat": 4,
 "nbformat_minor": 5
}
